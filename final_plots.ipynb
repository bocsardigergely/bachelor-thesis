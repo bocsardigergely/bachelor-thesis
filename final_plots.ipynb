{
  "nbformat": 4,
  "nbformat_minor": 0,
  "metadata": {
    "language_info": {
      "codemirror_mode": {
        "name": "ipython",
        "version": 3
      },
      "file_extension": ".py",
      "mimetype": "text/x-python",
      "name": "python",
      "nbconvert_exporter": "python",
      "pygments_lexer": "ipython3",
      "version": "3.8.3"
    },
    "orig_nbformat": 2,
    "kernelspec": {
      "name": "python383jvsc74a57bd0b3ba2566441a7c06988d0923437866b63cedc61552a5af99d1f4fb67d367b25f",
      "display_name": "Python 3.8.3 64-bit (conda)"
    },
    "colab": {
      "name": "final_plots.ipynb",
      "provenance": []
    },
    "accelerator": "GPU"
  },
  "cells": [
    {
      "cell_type": "code",
      "metadata": {
        "id": "uW-LqOT2pLS2"
      },
      "source": [
        "import pandas as pd\n",
        "import numpy as np\n",
        "import tensorflow as tf\n",
        "from tensorflow import keras\n",
        "from keras.layers import *\n",
        "from keras.models import Sequential, Model\n",
        "from tensorflow.keras.constraints import max_norm\n",
        "from tensorflow.keras.layers.experimental.preprocessing import TextVectorization\n",
        "from sklearn.metrics import precision_score, f1_score, roc_auc_score, accuracy_score, recall_score\n",
        "from sklearn.svm import LinearSVC\n",
        "from keras.callbacks import EarlyStopping\n",
        "from sklearn.feature_extraction.text import TfidfVectorizer\n",
        "\n",
        "import requests\n",
        "import io\n",
        "\n",
        "from tensorflow.keras.layers import Embedding\n",
        "from sklearn.model_selection import train_test_split\n",
        "from sklearn.metrics import roc_curve\n",
        "from sklearn.metrics import auc"
      ],
      "execution_count": 1,
      "outputs": []
    },
    {
      "cell_type": "code",
      "metadata": {
        "id": "41NwOHa2pLS4"
      },
      "source": [
        "df_short = pd.read_csv(\"https://raw.githubusercontent.com/bocsardigergely/bachelor-thesis/main/data/processed/processed_short.csv\")\n",
        "df_medium = pd.read_csv(\"https://raw.githubusercontent.com/bocsardigergely/bachelor-thesis/main/data/processed/processed_medium.csv\")\n",
        "df_dank = pd.read_csv(\"https://raw.githubusercontent.com/bocsardigergely/bachelor-thesis/main/data/processed/processed_dank.csv\")\n",
        "df_joint = pd.concat([df_short, df_medium, df_dank])\n",
        "df_joint = df_joint.reset_index(drop=True)\n",
        "df_train = df_joint.sample(frac=1).reset_index(drop=True)\n",
        "vectorizer = TextVectorization(max_tokens=20000)\n",
        "es = EarlyStopping(monitor='val_loss', patience=4)\n",
        "\n",
        "vectorizer.adapt(np.asarray(df_train[\"text\"]))"
      ],
      "execution_count": 2,
      "outputs": []
    },
    {
      "cell_type": "code",
      "metadata": {
        "id": "aEWIUS1ypLS5"
      },
      "source": [
        "def build_cnn():\n",
        "    response = requests.get('https://raw.githubusercontent.com/bocsardigergely/bachelor-thesis/main/universal.npy')\n",
        "    init_matrix = np.load(io.BytesIO(response.content)) \n",
        "    submodels = []\n",
        "    for kw in (3, 4, 5):    # kernel sizes\n",
        "        submodel = Sequential()\n",
        "        submodel.add(Embedding(\n",
        "        20002,\n",
        "        100,\n",
        "        embeddings_initializer=keras.initializers.Constant(init_matrix),\n",
        "        trainable=False,))\n",
        "        submodel.add(Conv1D(100,    \n",
        "                            kw,\n",
        "                            padding='valid',\n",
        "                            activation='relu',\n",
        "                            strides=1, kernel_constraint=max_norm(5.397124926498551)\n",
        "                             ))\n",
        "        submodel.add(GlobalMaxPooling1D())\n",
        "        submodels.append(submodel)\n",
        "\n",
        "    submodel1 = submodels[0]\n",
        "    submodel2 = submodels[1]\n",
        "    submodel3 = submodels[2]\n",
        "\n",
        "    x = add([submodel1.output, submodel2.output, submodel3.output])\n",
        "    \n",
        "    big_model = Sequential()\n",
        "    big_model.add(Dropout(0.09225974322037533))\n",
        "    big_model.add(Dense(25))\n",
        "    big_model.add(Dropout(0.20942239619394942))\n",
        "    big_model.add(Activation('relu'))\n",
        "    big_model.add(Dense(1))\n",
        "    big_model.add(Activation('sigmoid'))\n",
        "\n",
        "    big_model_output = big_model(x)\n",
        "\n",
        "    model = Model([submodel1.input, submodel2.input, submodel3.input], big_model_output)\n",
        "\n",
        "    model.compile(loss='binary_crossentropy',\n",
        "                    optimizer='adam',\n",
        "                    metrics=['accuracy'])  \n",
        "\n",
        "    return model"
      ],
      "execution_count": 3,
      "outputs": []
    },
    {
      "cell_type": "code",
      "metadata": {
        "id": "i-AtPBhlpLS6"
      },
      "source": [
        "def build_rnn():\n",
        "\n",
        "    response = requests.get('https://raw.githubusercontent.com/bocsardigergely/bachelor-thesis/main/universal.npy')\n",
        "    init_matrix = np.load(io.BytesIO(response.content))\n",
        "    model = Sequential()\n",
        "    model.add(Embedding(\n",
        "      20002,\n",
        "      100,\n",
        "      embeddings_initializer=keras.initializers.Constant(init_matrix),\n",
        "      trainable=False\n",
        "  ))\n",
        "    model.add(Bidirectional(LSTM(100, return_sequences=True)))\n",
        "    model.add(Dropout(0.4143619965361732))\n",
        "    model.add(Bidirectional(LSTM(1, return_sequences=False)))\n",
        "    model.add(Dropout(0.09225974322037533))\n",
        "    model.add(Dense(50, activation='relu'))\n",
        "    model.add(Dropout(0.20942239619394942))\n",
        "    model.add(Dense(1, activation='sigmoid'))\n",
        "\n",
        "    model.compile(loss='binary_crossentropy',\n",
        "                    optimizer='adam',\n",
        "                    metrics=['accuracy'])\n",
        "    \n",
        "\n",
        "    return model"
      ],
      "execution_count": 4,
      "outputs": []
    },
    {
      "cell_type": "code",
      "metadata": {
        "id": "W0JgHZN5pLS6"
      },
      "source": [
        "def train_svm(df):\n",
        "    tfidf = TfidfVectorizer()\n",
        "    name =[x for x in globals() if globals()[x] is df][0]\n",
        "    #creating the desired vectors\n",
        "    text = df['text']\n",
        "    y = df[\"label\"]\n",
        "    text_train, text_test, y_train, y_test = train_test_split(\n",
        "    text, y, test_size=0.33, random_state=42)\n",
        "    X_train = tfidf.fit_transform(text_train.astype('U').values)\n",
        "    X_test = tfidf.transform(text_test.astype('U').values)\n",
        "    svm = LinearSVC()\n",
        "    svm.fit(X_train, y_train)\n",
        "    y_pred_bool = svm.predict(X_test)\n",
        "\n",
        "    fpr, tpr, thresholds_keras = roc_curve(y_test, y_pred_bool)\n",
        "    return fpr, tpr\n"
      ],
      "execution_count": 5,
      "outputs": []
    },
    {
      "cell_type": "code",
      "metadata": {
        "id": "vEd3fH7FpLS6"
      },
      "source": [
        "def train_model(df, build_func):\n",
        "    #creating the desired vectors\n",
        "    text = np.asarray(df['text'])\n",
        "    y = df[\"label\"]\n",
        "    text_train, text_test, y_train, y_test = train_test_split(\n",
        "    text, y, test_size=0.2, random_state=42)\n",
        "\n",
        "    X_train = vectorizer(text_train)\n",
        "    X_test = vectorizer(text_test)\n",
        "\n",
        "    model = build_func()\n",
        "\n",
        "    model.fit([X_train, X_train, X_train],\n",
        "                     y_train,\n",
        "                     batch_size=32,\n",
        "                     epochs=25,\n",
        "                     validation_split=0.1,\n",
        "                     callbacks=es,\n",
        "                     verbose=0\n",
        "                     )\n",
        "    \n",
        "    y_pred = model.predict([X_test, X_test, X_test])\n",
        "    y_pred_bool = np.where(y_pred>0.5,1,0)\n",
        "\n",
        "    fpr, tpr, thresholds_keras = roc_curve(y_test, y_pred_bool)\n",
        "\n",
        "    return fpr, tpr"
      ],
      "execution_count": 6,
      "outputs": []
    },
    {
      "cell_type": "code",
      "metadata": {
        "id": "oqYwFr_lpLS7"
      },
      "source": [
        "fpr_cnn, tpr_cnn = train_model(df_dank, build_cnn)\n",
        "fpr_lstm, tpr_lstm = train_model(df_dank, build_rnn)\n",
        "fpr_svm, tpr_svm = train_svm(df_dank)\n"
      ],
      "execution_count": 20,
      "outputs": []
    },
    {
      "cell_type": "code",
      "metadata": {
        "colab": {
          "base_uri": "https://localhost:8080/",
          "height": 295
        },
        "id": "W2-584cOpLS8",
        "outputId": "06251e21-ba9f-4d5a-9267-de51f4bebb8d"
      },
      "source": [
        "import matplotlib.pyplot as plt\n",
        "\n",
        "\n",
        "plt.figure(1)\n",
        "plt.plot([0, 1], [0, 1], 'k--')\n",
        "plt.plot(fpr_cnn, tpr_cnn, label='CNN (area = {:.3f})'.format(0.552))\n",
        "plt.plot(fpr_lstm, tpr_lstm, label='RNN (area = {:.3f})'.format(0.527))\n",
        "plt.plot(fpr_svm, tpr_svm, label='SVM (area = {:.3f})'.format(0.553308823529412))\n",
        "plt.xlabel('False positive rate')\n",
        "plt.ylabel('True positive rate')\n",
        "plt.title('ROC curves on Dank dataset')\n",
        "plt.legend(loc='best')\n",
        "plt.savefig('dank_roc.png')\n",
        "plt.show()"
      ],
      "execution_count": 21,
      "outputs": [
        {
          "output_type": "display_data",
          "data": {
            "image/png": "[encoded data removed]",
            "text/plain": [
              "<Figure size 432x288 with 1 Axes>"
            ]
          },
          "metadata": {
            "tags": [],
            "needs_background": "light"
          }
        }
      ]
    },
    {
      "cell_type": "code",
      "metadata": {
        "colab": {
          "base_uri": "https://localhost:8080/",
          "height": 295
        },
        "id": "vXisu3Kzp6hj",
        "outputId": "7a1305ad-31af-4021-db65-6bf7d8ac385d"
      },
      "source": [
        "plt.figure(2)\n",
        "plt.xlim(0, 0.2)\n",
        "plt.ylim(0.6, 1)\n",
        "plt.plot([0, 1], [0, 1], 'k--')\n",
        "plt.plot(fpr_cnn, tpr_cnn, label='CNN (area = {:.3f})'.format(0.823))\n",
        "plt.plot(fpr_lstm, tpr_lstm, label='RNN (area = {:.3f})'.format(0.877164446684936))\n",
        "plt.plot(fpr_svm, tpr_svm, label='SVM (area = {:.3f})'.format(0.856176470588235))\n",
        "plt.xlabel('False positive rate')\n",
        "plt.ylabel('True positive rate')\n",
        "plt.title('ROC curves (zoomed in at top left)')\n",
        "plt.legend(loc='best')\n",
        "plt.savefig('dank_roc_zoomed.png')\n",
        "\n",
        "plt.show()"
      ],
      "execution_count": 22,
      "outputs": [
        {
          "output_type": "display_data",
          "data": {
            "image/png": "[encoded data removed]",
            "text/plain": [
              "<Figure size 432x288 with 1 Axes>"
            ]
          },
          "metadata": {
            "tags": [],
            "needs_background": "light"
          }
        }
      ]
    }
  ]
}