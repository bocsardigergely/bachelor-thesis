{
  "nbformat": 4,
  "nbformat_minor": 0,
  "metadata": {
    "language_info": {
      "codemirror_mode": {
        "name": "ipython",
        "version": 3
      },
      "file_extension": ".py",
      "mimetype": "text/x-python",
      "name": "python",
      "nbconvert_exporter": "python",
      "pygments_lexer": "ipython3",
      "version": "3.8.3"
    },
    "orig_nbformat": 2,
    "kernelspec": {
      "name": "python383jvsc74a57bd0b3ba2566441a7c06988d0923437866b63cedc61552a5af99d1f4fb67d367b25f",
      "display_name": "Python 3.8.3 64-bit (conda)"
    },
    "colab": {
      "name": "lstm.ipynb",
      "provenance": []
    },
    "accelerator": "GPU"
  },
  "cells": [
    {
      "cell_type": "code",
      "metadata": {
        "id": "0MdnNkJTZFhq"
      },
      "source": [
        "import numpy as np\n",
        "import pandas as pd\n",
        "import tensorflow as tf\n",
        "from tensorflow import keras\n",
        "from keras.layers import *\n",
        "from keras.models import Sequential, Model\n",
        "from keras.callbacks import EarlyStopping\n",
        "\n",
        "import requests\n",
        "import io"
      ],
      "execution_count": 1,
      "outputs": []
    },
    {
      "cell_type": "code",
      "metadata": {
        "id": "gXUpBDspZFhs"
      },
      "source": [
        "df_short = pd.read_csv(\"https://raw.githubusercontent.com/bocsardigergely/bachelor-thesis/main/data/processed/processed_short.csv\")\n",
        "df_medium = pd.read_csv(\"https://raw.githubusercontent.com/bocsardigergely/bachelor-thesis/main/data/processed/processed_medium.csv\")\n",
        "df_dank = pd.read_csv(\"https://raw.githubusercontent.com/bocsardigergely/bachelor-thesis/main/data/processed/processed_dank.csv\")\n",
        "response = requests.get('https://raw.githubusercontent.com/bocsardigergely/bachelor-thesis/main/universal.npy')\n",
        "init_matrix = np.load(io.BytesIO(response.content)) "
      ],
      "execution_count": 2,
      "outputs": []
    },
    {
      "cell_type": "code",
      "metadata": {
        "id": "CDgaNhMwZWb1"
      },
      "source": [],
      "execution_count": null,
      "outputs": []
    },
    {
      "cell_type": "code",
      "metadata": {
        "id": "T8quYqf-ZFht"
      },
      "source": [
        "from tensorflow.keras.layers.experimental.preprocessing import TextVectorization\n",
        "from tensorflow.keras.layers import Embedding\n",
        "from sklearn.model_selection import train_test_split\n",
        "\n",
        "vectorizer = TextVectorization(max_tokens=20000, output_sequence_length=200)"
      ],
      "execution_count": 3,
      "outputs": []
    },
    {
      "cell_type": "code",
      "metadata": {
        "id": "Xx-K9I6_ZFhu"
      },
      "source": [
        "df_joint = pd.concat([df_short, df_medium, df_dank])\n",
        "df_joint = df_joint.reset_index(drop=True)\n",
        "df_train = df_joint.sample(frac=1).reset_index(drop=True)\n",
        "vectorizer.adapt(np.asarray(df_train[\"text\"]))"
      ],
      "execution_count": 4,
      "outputs": []
    },
    {
      "cell_type": "code",
      "metadata": {
        "id": "RDujbUaHZFhv"
      },
      "source": [
        "def train_model(df):    \n",
        "    es = EarlyStopping(monitor='val_loss', mode='min', verbose=1, patience=5)\n",
        "    name =[x for x in globals() if globals()[x] is df][0]\n",
        "    #creating the desired vectors\n",
        "    text = np.asarray(df['text'])\n",
        "    y = df[\"label\"]\n",
        "    text_train, text_test, y_train, y_test = train_test_split(\n",
        "    text, y, test_size=0.33, random_state=42)\n",
        "\n",
        "    text_train, text_val, y_train, y_val = train_test_split(\n",
        "    text_train, y_train, test_size=0.33, random_state=42)\n",
        "\n",
        "    X_train = vectorizer(text_train)\n",
        "    X_val = vectorizer(text_val)\n",
        "    X_test = vectorizer(text_test)\n",
        "\n",
        "    model = build_model()\n",
        "\n",
        "    model.fit([X_train, X_train, X_train],\n",
        "                     y_train,\n",
        "                     batch_size=32,\n",
        "                     epochs=25,\n",
        "                     validation_data=([X_val, X_val, X_val],\n",
        "                     y_val), \n",
        "                     callbacks=es)\n",
        "    loss, accuracy =  model.evaluate([X_test, X_test, X_test], y_test)\n",
        "\n",
        "    print(\"Loss: \", loss)\n",
        "    print(\"Accuracy: \", accuracy)\n",
        "        \n",
        "    return model"
      ],
      "execution_count": 15,
      "outputs": []
    },
    {
      "cell_type": "code",
      "metadata": {
        "id": "4u4x5r9TZFhv"
      },
      "source": [
        "def build_model():\n",
        "\n",
        "    response = requests.get('https://raw.githubusercontent.com/bocsardigergely/bachelor-thesis/main/universal.npy')\n",
        "    init_matrix = np.load(io.BytesIO(response.content))\n",
        "    model = Sequential()\n",
        "    model.add(Embedding(\n",
        "      20002,\n",
        "      100,\n",
        "      embeddings_initializer=keras.initializers.Constant(init_matrix),\n",
        "      trainable=False\n",
        "  ))\n",
        "    model.add(Bidirectional(LSTM(100, return_sequences=True)))\n",
        "    model.add(Dropout(0.4143619965361732))\n",
        "    model.add(Bidirectional(LSTM(1, return_sequences=False)))\n",
        "    model.add(Dropout(0.09225974322037533))\n",
        "    model.add(Dense(50, activation='relu'))\n",
        "    model.add(Dropout(0.20942239619394942))\n",
        "    model.add(Dense(1, activation='sigmoid'))\n",
        "\n",
        "    model.compile(loss='binary_crossentropy',\n",
        "                    optimizer='adam',\n",
        "                    metrics=['accuracy'])\n",
        "    \n",
        "\n",
        "    print(model.summary())\n",
        "    return model\n"
      ],
      "execution_count": 28,
      "outputs": []
    },
    {
      "cell_type": "code",
      "metadata": {
        "colab": {
          "base_uri": "https://localhost:8080/"
        },
        "id": "C4M9q4qPZFhw",
        "outputId": "5d29acb7-935b-4181-d172-d21bc7636d2c"
      },
      "source": [
        "train_model(df_medium)"
      ],
      "execution_count": 29,
      "outputs": [
        {
          "output_type": "stream",
          "text": [
            "Model: \"sequential_8\"\n",
            "_________________________________________________________________\n",
            "Layer (type)                 Output Shape              Param #   \n",
            "=================================================================\n",
            "embedding_8 (Embedding)      (None, None, 100)         2000200   \n",
            "_________________________________________________________________\n",
            "bidirectional_16 (Bidirectio (None, None, 200)         160800    \n",
            "_________________________________________________________________\n",
            "dropout_18 (Dropout)         (None, None, 200)         0         \n",
            "_________________________________________________________________\n",
            "bidirectional_17 (Bidirectio (None, 10)                8240      \n",
            "_________________________________________________________________\n",
            "dropout_19 (Dropout)         (None, 10)                0         \n",
            "_________________________________________________________________\n",
            "dense_13 (Dense)             (None, 10)                110       \n",
            "_________________________________________________________________\n",
            "dropout_20 (Dropout)         (None, 10)                0         \n",
            "_________________________________________________________________\n",
            "dense_14 (Dense)             (None, 1)                 11        \n",
            "=================================================================\n",
            "Total params: 2,169,361\n",
            "Trainable params: 169,161\n",
            "Non-trainable params: 2,000,200\n",
            "_________________________________________________________________\n",
            "None\n",
            "Epoch 1/25\n",
            "71/71 [==============================] - 9s 67ms/step - loss: 0.6973 - accuracy: 0.5246 - val_loss: 0.6726 - val_accuracy: 0.6175\n",
            "Epoch 2/25\n",
            "71/71 [==============================] - 3s 40ms/step - loss: 0.6897 - accuracy: 0.5101 - val_loss: 0.6815 - val_accuracy: 0.5497\n",
            "Epoch 3/25\n",
            "71/71 [==============================] - 3s 41ms/step - loss: 0.6833 - accuracy: 0.5579 - val_loss: 0.6853 - val_accuracy: 0.5461\n",
            "Epoch 4/25\n",
            "71/71 [==============================] - 3s 40ms/step - loss: 0.6899 - accuracy: 0.4860 - val_loss: 0.6747 - val_accuracy: 0.6248\n",
            "Epoch 5/25\n",
            "71/71 [==============================] - 3s 41ms/step - loss: 0.6767 - accuracy: 0.5522 - val_loss: 0.6457 - val_accuracy: 0.6953\n",
            "Epoch 6/25\n",
            "71/71 [==============================] - 3s 40ms/step - loss: 0.6630 - accuracy: 0.5848 - val_loss: 0.6529 - val_accuracy: 0.6709\n",
            "Epoch 7/25\n",
            "71/71 [==============================] - 3s 40ms/step - loss: 0.6531 - accuracy: 0.5949 - val_loss: 0.6392 - val_accuracy: 0.6456\n",
            "Epoch 8/25\n",
            "71/71 [==============================] - 3s 40ms/step - loss: 0.6466 - accuracy: 0.6191 - val_loss: 0.5904 - val_accuracy: 0.7333\n",
            "Epoch 9/25\n",
            "71/71 [==============================] - 3s 42ms/step - loss: 0.6701 - accuracy: 0.5939 - val_loss: 0.6380 - val_accuracy: 0.6637\n",
            "Epoch 10/25\n",
            "71/71 [==============================] - 3s 41ms/step - loss: 0.6404 - accuracy: 0.6268 - val_loss: 0.5982 - val_accuracy: 0.7233\n",
            "Epoch 11/25\n",
            "71/71 [==============================] - 3s 40ms/step - loss: 0.6238 - accuracy: 0.6590 - val_loss: 0.5965 - val_accuracy: 0.7007\n",
            "Epoch 12/25\n",
            "71/71 [==============================] - 3s 38ms/step - loss: 0.6373 - accuracy: 0.6548 - val_loss: 0.5942 - val_accuracy: 0.7233\n",
            "Epoch 13/25\n",
            "71/71 [==============================] - 3s 40ms/step - loss: 0.6172 - accuracy: 0.6660 - val_loss: 0.5710 - val_accuracy: 0.7342\n",
            "Epoch 14/25\n",
            "71/71 [==============================] - 3s 41ms/step - loss: 0.6074 - accuracy: 0.6694 - val_loss: 0.5917 - val_accuracy: 0.7514\n",
            "Epoch 15/25\n",
            "71/71 [==============================] - 3s 42ms/step - loss: 0.5925 - accuracy: 0.7077 - val_loss: 0.5394 - val_accuracy: 0.7712\n",
            "Epoch 16/25\n",
            "71/71 [==============================] - 3s 40ms/step - loss: 0.5958 - accuracy: 0.7133 - val_loss: 0.5432 - val_accuracy: 0.7505\n",
            "Epoch 17/25\n",
            "71/71 [==============================] - 3s 41ms/step - loss: 0.5693 - accuracy: 0.7401 - val_loss: 0.5482 - val_accuracy: 0.7197\n",
            "Epoch 18/25\n",
            "71/71 [==============================] - 3s 41ms/step - loss: 0.5575 - accuracy: 0.7152 - val_loss: 0.5220 - val_accuracy: 0.7712\n",
            "Epoch 19/25\n",
            "71/71 [==============================] - 3s 41ms/step - loss: 0.5517 - accuracy: 0.6988 - val_loss: 0.4708 - val_accuracy: 0.8056\n",
            "Epoch 20/25\n",
            "71/71 [==============================] - 3s 42ms/step - loss: 0.5322 - accuracy: 0.7244 - val_loss: 0.4726 - val_accuracy: 0.8146\n",
            "Epoch 21/25\n",
            "71/71 [==============================] - 3s 42ms/step - loss: 0.5076 - accuracy: 0.7363 - val_loss: 0.5140 - val_accuracy: 0.7432\n",
            "Epoch 22/25\n",
            "71/71 [==============================] - 3s 39ms/step - loss: 0.5107 - accuracy: 0.7828 - val_loss: 0.4471 - val_accuracy: 0.8246\n",
            "Epoch 23/25\n",
            "71/71 [==============================] - 3s 39ms/step - loss: 0.4747 - accuracy: 0.7781 - val_loss: 0.4617 - val_accuracy: 0.8011\n",
            "Epoch 24/25\n",
            "71/71 [==============================] - 3s 39ms/step - loss: 0.5085 - accuracy: 0.7545 - val_loss: 0.4396 - val_accuracy: 0.8165\n",
            "Epoch 25/25\n",
            "71/71 [==============================] - 3s 40ms/step - loss: 0.4765 - accuracy: 0.7715 - val_loss: 0.4464 - val_accuracy: 0.8065\n",
            "52/52 [==============================] - 1s 16ms/step - loss: 0.4383 - accuracy: 0.8230\n",
            "Loss:  0.43829789757728577\n",
            "Accuracy:  0.8230302929878235\n"
          ],
          "name": "stdout"
        },
        {
          "output_type": "execute_result",
          "data": {
            "text/plain": [
              "<tensorflow.python.keras.engine.sequential.Sequential at 0x7f6428a27b50>"
            ]
          },
          "metadata": {
            "tags": []
          },
          "execution_count": 29
        }
      ]
    },
    {
      "cell_type": "code",
      "metadata": {
        "id": "QGs_R9SMaKea"
      },
      "source": [],
      "execution_count": null,
      "outputs": []
    }
  ]
}