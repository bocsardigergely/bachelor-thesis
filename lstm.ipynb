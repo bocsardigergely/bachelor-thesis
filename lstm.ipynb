{
 "metadata": {
  "language_info": {
   "codemirror_mode": {
    "name": "ipython",
    "version": 3
   },
   "file_extension": ".py",
   "mimetype": "text/x-python",
   "name": "python",
   "nbconvert_exporter": "python",
   "pygments_lexer": "ipython3",
   "version": "3.8.3"
  },
  "orig_nbformat": 2,
  "kernelspec": {
   "name": "python383jvsc74a57bd0b3ba2566441a7c06988d0923437866b63cedc61552a5af99d1f4fb67d367b25f",
   "display_name": "Python 3.8.3 64-bit (conda)"
  }
 },
 "nbformat": 4,
 "nbformat_minor": 2,
 "cells": [
  {
   "cell_type": "code",
   "execution_count": 1,
   "metadata": {},
   "outputs": [
    {
     "output_type": "stream",
     "name": "stderr",
     "text": [
      "C:\\ProgramData\\Anaconda3\\lib\\site-packages\\gensim\\similarities\\__init__.py:15: UserWarning: The gensim.similarities.levenshtein submodule is disabled, because the optional Levenshtein package <https://pypi.org/project/python-Levenshtein/> is unavailable. Install Levenhstein (e.g. `pip install python-Levenshtein`) to suppress this warning.\n  warnings.warn(msg)\n"
     ]
    }
   ],
   "source": [
    "import numpy as np\n",
    "import pandas as pd\n",
    "from sklearn.feature_extraction.text import CountVectorizer\n",
    "from keras.preprocessing.text import Tokenizer\n",
    "from keras.preprocessing.sequence import pad_sequences\n",
    "import pandas as pd\n",
    "import numpy as np\n",
    "from gensim.models import Word2Vec\n",
    "from gensim.models import KeyedVectors\n",
    "import tensorflow as tf\n",
    "from tensorflow import keras\n",
    "from keras.layers import *\n",
    "from keras.models import Sequential, Model"
   ]
  },
  {
   "cell_type": "code",
   "execution_count": 44,
   "metadata": {},
   "outputs": [],
   "source": [
    "df_short = pd.read_csv(\"data/processed/processed_short.csv\")\n",
    "df_medium = pd.read_csv(\"data/processed/processed_medium.csv\")\n",
    "df_dank= pd.read_csv(\"data/processed/processed_dank.csv\")"
   ]
  },
  {
   "cell_type": "code",
   "execution_count": 37,
   "metadata": {},
   "outputs": [],
   "source": [
    "from tensorflow.keras.layers.experimental.preprocessing import TextVectorization\n",
    "from tensorflow.keras.layers import Embedding\n",
    "from sklearn.model_selection import train_test_split\n",
    "\n",
    "vectorizer = TextVectorization(max_tokens=20000, output_sequence_length=200)"
   ]
  },
  {
   "cell_type": "code",
   "execution_count": 38,
   "metadata": {},
   "outputs": [],
   "source": [
    "def glove_100d(df):\n",
    "    text = np.asarray(df['text'])\n",
    "    y = df['label']\n",
    "    vectorizer.adapt(text)\n",
    "\n",
    "    voc = vectorizer.get_vocabulary()\n",
    "    word_index = dict(zip(voc, range(len(voc))))\n",
    "    embeddings_index = {}\n",
    "    with open('data/raw/glove.6B.100d.txt',encoding=\"utf8\") as f:\n",
    "        for line in f:\n",
    "            word, coefs = line.split(maxsplit=1)\n",
    "            coefs = np.fromstring(coefs, \"f\", sep=\" \")\n",
    "            embeddings_index[word] = coefs\n",
    "    print(\"Found %s word vectors.\" % len(embeddings_index))\n",
    "\n",
    "    num_tokens = len(voc) + 2\n",
    "    embedding_dim = 100\n",
    "    hits = 0\n",
    "    misses = 0\n",
    "\n",
    "\n",
    "    embedding_matrix = np.zeros((num_tokens, embedding_dim))\n",
    "    for word, i in word_index.items():\n",
    "        embedding_vector = embeddings_index.get(word)\n",
    "        if embedding_vector is not None:\n",
    "\n",
    "            embedding_matrix[i] = embedding_vector\n",
    "            hits += 1\n",
    "        else:\n",
    "            misses += 1\n",
    "    print(\"Converted %d words (%d misses)\" % (hits, misses))\n",
    "    \n",
    "    embedding_layer = Embedding(\n",
    "        num_tokens,\n",
    "        embedding_dim,\n",
    "        embeddings_initializer=keras.initializers.Constant(embedding_matrix),\n",
    "        trainable=False,\n",
    "    )\n",
    "    return embedding_layer"
   ]
  },
  {
   "cell_type": "code",
   "execution_count": 25,
   "metadata": {},
   "outputs": [],
   "source": []
  },
  {
   "cell_type": "code",
   "execution_count": 39,
   "metadata": {},
   "outputs": [],
   "source": [
    "def train_model(df):    \n",
    "    name =[x for x in globals() if globals()[x] is df][0]\n",
    "    #creating the desired vectors\n",
    "    text = np.asarray(df['text'])\n",
    "    y = df[\"label\"]\n",
    "    text_train, text_test, y_train, y_test = train_test_split(\n",
    "    text, y, test_size=0.33, random_state=42)\n",
    "\n",
    "    text_train, text_val, y_train, y_val = train_test_split(\n",
    "    text_train, y_train, test_size=0.33, random_state=42)\n",
    "\n",
    "    X_train = vectorizer(text_train)\n",
    "    X_val = vectorizer(text_val)\n",
    "    X_test = vectorizer(text_test)\n",
    "\n",
    "    model = build_model(df)\n",
    "\n",
    "    model.fit([X_train, X_train, X_train],\n",
    "                     y_train,\n",
    "                     batch_size=64,\n",
    "                     epochs=5,\n",
    "                     validation_data=([X_val, X_val, X_val],\n",
    "                     y_val))\n",
    "    loss, accuracy =  model.evaluate([X_test, X_test, X_test], y_test)\n",
    "\n",
    "    print(\"Loss: \", loss)\n",
    "    print(\"Accuracy: \", accuracy)\n",
    "        \n",
    "    return model"
   ]
  },
  {
   "cell_type": "code",
   "execution_count": 47,
   "metadata": {},
   "outputs": [],
   "source": [
    "def build_model(df):\n",
    "    model = Sequential()\n",
    "    model.add(glove_100d(df))\n",
    "    model.add(Bidirectional(LSTM(100, return_sequences=True)))\n",
    "    model.add(Dropout(0.2))\n",
    "    model.add(Bidirectional(LSTM(50, return_sequences=False)))\n",
    "    model.add(Dropout(0.2))\n",
    "    model.add(Dense(50, activation='relu'))\n",
    "    model.add(Dense(1, activation='sigmoid'))\n",
    "\n",
    "    model.compile(loss='binary_crossentropy',\n",
    "                    optimizer='adam',\n",
    "                    metrics=['accuracy'])  \n",
    "    \n",
    "\n",
    "    print(model.summary())\n",
    "    return model\n"
   ]
  },
  {
   "cell_type": "code",
   "execution_count": 48,
   "metadata": {},
   "outputs": [
    {
     "output_type": "stream",
     "name": "stdout",
     "text": [
      "Found 400000 word vectors.\n",
      "Converted 19667 words (333 misses)\n",
      "Model: \"sequential_16\"\n",
      "_________________________________________________________________\n",
      "Layer (type)                 Output Shape              Param #   \n",
      "=================================================================\n",
      "embedding_12 (Embedding)     (None, None, 100)         2000200   \n",
      "_________________________________________________________________\n",
      "bidirectional_4 (Bidirection (None, None, 200)         160800    \n",
      "_________________________________________________________________\n",
      "dropout_1 (Dropout)          (None, None, 200)         0         \n",
      "_________________________________________________________________\n",
      "bidirectional_5 (Bidirection (None, 100)               100400    \n",
      "_________________________________________________________________\n",
      "dropout_2 (Dropout)          (None, 100)               0         \n",
      "_________________________________________________________________\n",
      "dense_14 (Dense)             (None, 50)                5050      \n",
      "_________________________________________________________________\n",
      "dense_15 (Dense)             (None, 1)                 51        \n",
      "=================================================================\n",
      "Total params: 2,266,501\n",
      "Trainable params: 266,301\n",
      "Non-trainable params: 2,000,200\n",
      "_________________________________________________________________\n",
      "None\n",
      "Epoch 1/5\n",
      "36/36 [==============================] - 50s 1s/step - loss: 0.6796 - accuracy: 0.5653 - val_loss: 0.5785 - val_accuracy: 0.6980\n",
      "Epoch 2/5\n",
      "36/36 [==============================] - 36s 1s/step - loss: 0.5958 - accuracy: 0.6951 - val_loss: 0.5097 - val_accuracy: 0.7505\n",
      "Epoch 3/5\n",
      "36/36 [==============================] - 38s 1s/step - loss: 0.5300 - accuracy: 0.7330 - val_loss: 0.5166 - val_accuracy: 0.7486\n",
      "Epoch 4/5\n",
      "36/36 [==============================] - 38s 1s/step - loss: 0.5080 - accuracy: 0.7602 - val_loss: 0.7278 - val_accuracy: 0.7161\n",
      "Epoch 5/5\n",
      "36/36 [==============================] - 39s 1s/step - loss: 0.6084 - accuracy: 0.7472 - val_loss: 0.4839 - val_accuracy: 0.7920\n",
      "52/52 [==============================] - 7s 144ms/step - loss: 0.4797 - accuracy: 0.7933\n",
      "Loss:  0.47967764735221863\n",
      "Accuracy:  0.7933333516120911\n"
     ]
    },
    {
     "output_type": "execute_result",
     "data": {
      "text/plain": [
       "<tensorflow.python.keras.engine.sequential.Sequential at 0x1fa0662ca90>"
      ]
     },
     "metadata": {},
     "execution_count": 48
    }
   ],
   "source": [
    "train_model(df_medium)"
   ]
  },
  {
   "cell_type": "code",
   "execution_count": null,
   "metadata": {},
   "outputs": [],
   "source": []
  }
 ]
}