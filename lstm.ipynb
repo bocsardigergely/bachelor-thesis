{
 "metadata": {
  "language_info": {
   "codemirror_mode": {
    "name": "ipython",
    "version": 3
   },
   "file_extension": ".py",
   "mimetype": "text/x-python",
   "name": "python",
   "nbconvert_exporter": "python",
   "pygments_lexer": "ipython3",
   "version": "3.8.3"
  },
  "orig_nbformat": 2,
  "kernelspec": {
   "name": "python383jvsc74a57bd0b3ba2566441a7c06988d0923437866b63cedc61552a5af99d1f4fb67d367b25f",
   "display_name": "Python 3.8.3 64-bit ('base': conda)"
  }
 },
 "nbformat": 4,
 "nbformat_minor": 2,
 "cells": [
  {
   "cell_type": "code",
   "execution_count": 2,
   "metadata": {},
   "outputs": [],
   "source": [
    "import numpy as np # linear algebra\n",
    "import pandas as pd # data processing, CSV file I/O (e.g. pd.read_csv)\n",
    "\n",
    "from sklearn.feature_extraction.text import CountVectorizer\n",
    "from keras.preprocessing.text import Tokenizer\n",
    "from keras.preprocessing.sequence import pad_sequences\n",
    "from keras.models import Sequential\n",
    "from keras.layers import Dense, Embedding, LSTM, SpatialDropout1D\n",
    "from sklearn.model_selection import train_test_split\n",
    "from keras.utils.np_utils import to_categorical\n",
    "import re"
   ]
  },
  {
   "cell_type": "code",
   "execution_count": 29,
   "metadata": {},
   "outputs": [],
   "source": [
    "df_short = pd.read_csv(\"data/processed/processed_short.csv\")\n",
    "df_medium = pd.read_csv(\"data/processed/processed_medium.csv\")\n",
    "df_long = pd.read_csv(\"data/processed/processed_long.csv\")\n",
    "\n",
    "wv_short = KeyedVectors.load(\"data/df_short.wordvectors\", mmap='r')\n",
    "wv_med = wv = KeyedVectors.load(\"data/df_medium.wordvectors\", mmap='r')\n",
    "wv_long = KeyedVectors.load(\"data/df_long.wordvectors\", mmap='r')"
   ]
  },
  {
   "cell_type": "code",
   "execution_count": 36,
   "metadata": {},
   "outputs": [
    {
     "output_type": "execute_result",
     "data": {
      "text/plain": [
       "array([' know film meager rating imdb film accompanied curious blue masterwork br br thing let film like process film like psychology expecting hardcore pornographic ramming br br film want watch unwind film want see like masterpiece time attention care br br summaries may contain spoiler two br br main thing film blends whole film within film thing way sometimes forget fictions real br br film like many films one br br political documentary social system sweden time lot ways still relevant today interviews done young woman named lena br br narrative filmmaker vilgot sjoman making film deals relationship star film never got involved people supposed work br br film vilgot making young woman named lena ie young politically active making documentary ie also coming age sexuality freedom br br magnificence sheer brilliance curious yellow blue three elements cut together one moment watching interview politics next watching interviewer behind scenes well sometimes forget narrative br br another thing dynamic yellow blue see one must see blue sequel try explain best knowledge films done though great technique br br think yellow living thing actual events scenes complete tale br br think blue things scenes yellow see complete tale br br essentially parallel films story told two different ways br br saw first minutes blue fully understood yellow br br hope helpful people discouraged various influences film changed way looked film br br thanks time',\n",
       "       ' long time seemed like good canadian actors headed south border guessed second rank ones filled top slots left dregs sex comedies br br film real surprise despite outlandish plots typical farces actors seemed trying put something characters viewer got back almost true suspension belief extras music video attacked evicting police almost believed possible br br fan better sex farces canadian definitely seek one big surprise sex farce also loaded good nudity',\n",
       "       ' terry gilliam david peoples teamed create one intelligent creative science fiction movies people proved screenplay bizarre twists fantastic ideas nature time especially love idea one change past nice counterpoint many time travelling movies say otherwise biological holocausts thin line sanity madness gilliam visualized ideas unique quirkiness perfection originality br br story engaging one man james cole played bruce willis heart warming performance travels several decades past retrieve information virus wiped mankind left survivors alive living underground information collect scientists hope find cure everyone future return surface time travelling technology perfect ends sent towards different pasts complicating things brilliant science fiction thriller shades film noir ensues multiple pieces huge jigsaw start fitting together form bizarre narrative involving animal right activists end millennium paranoia biological weapons perception reality definition sanity complex movie easy gilliam peoples create mess instead twelve monkeys thought provoking narrative please like challenged patience appreciate crazy ideas br br watched movie around years ago marked lot remember still thinking many days wards young mind seemed quite mind blowing one first movies make appreciate cinema something serious important watched movie days ago dvd better remembered brad pitt still steals scenes playing jeffrey goines almost prelude tyler durden character fight club rich kid anarchist non conformist ideas also crazy according cole perhaps responsible virus scenes jeffrey cole madhouse best movie pitt eyes voice quirky mannerisms convince really crazy guy locked warped logic understands pitt oscar nomination well deserved surprising also bruce willis performance remember well beautiful full sensibility plays man spent almost life underground comes past share childish fascination something simple breathing fresh air morning watching sun go cole rather ambiguous character peoples tried imbue darkness disturbing things people scene removes teeth reveals far dementia gone unchecked ironically cole start crazy character starts warning everyone end world considered mad convinced mind arrives point distinguish past future reality fiction willis spends lot time looking confused insecure works perfectly one fun twists narrative cole shrink dr kathryn railly finds undeniable proof really future convince mission save world screenplay full weird twists like keeps movie fast pace relationship also well handed although perhaps bit compressed time sake enjoyed watching cole railly falling love trying escape authority future live peaceful life past things end tragic bittersweet climax airport wrapping pieces together blow many minds away br br two great endings movie twist sense se en fight club intimate ending railly crouching next cole shot looking around younger james cole witnessing future self die two share brief look smiles twist brilliant prefer ending emotional impact madeleine stowe good playing dr railly drew many different emotions performance movie filled sense fatalism idea past changed movie shows terrifying way reminds chinatown sense way jake gittes messes everything tries help railly character shares fatalism tries help cole first dealing madness helping mission sucked tragedy br br twist ends hopeful note though feeling cole mission vain twelve monkeys great movie watch one wants entertained supposed art although artists many artistic movies unpretentious movie elements music editing costume design etc came together beautifully produce modern cinema masterpiece',\n",
       "       ' say anti establishment film produced time colourless void social indifference authoritarian contentment cassevettes first major independent film instant box office success still received critical attention deserves draw comparisons wave american independent projects consisting beat filmmakers robert frank harry smith burgeoning scene emerging paris late known french new wave br br discussed poetry philosophy vulnerability time rest culture obsessed rediscovering american cultural supremacy even stage peculiar highly spontaneous brand filmmaking fought establishment political lexicons bigots held development arts check mid twentieth century br br cassevettes film examines race relations portrays man weak face love culture blinded race bias prejudice great element cassevettes work films almost reversal minimalist effect mental reaction evoked subtle character relations much imagery work seems linger takes intimate approach defining charcters rely less heavily explicit actions upon interpretation br br although favourite cassevettes film husbands one important',\n",
       "       ' movie made years end civil war likely anticipation th anniversary end war film recreations battles people era look rather impressive realistic also provides different balanced view contemporary birth nation patently absurd racist film short film would excellent use classroom discuss war tell story young man runs away enlist drummer boy makes good hero though film ends rather melodramatically definite convention day great film decent plot decent acting little top acting often saw films day br br one annoying aspect film frequent use title cards describe set stage stuff really obvious got annoying time time'],\n",
       "      dtype=object)"
      ]
     },
     "metadata": {},
     "execution_count": 36
    }
   ],
   "source": [
    "df_medium = df_medium.head(5)\n",
    "df_medium[\"text\"].values"
   ]
  },
  {
   "cell_type": "code",
   "execution_count": 39,
   "metadata": {},
   "outputs": [
    {
     "output_type": "stream",
     "name": "stdout",
     "text": [
      "[[171, 2, 172, 173, 174, 2, 175, 67, 8, 176, 1, 1, 12, 177, 2, 7, 178, 2, 7, 179, 180, 181, 182, 183, 1, 1, 2, 68, 69, 184, 2, 68, 25, 7, 70, 3, 71, 185, 1, 1, 186, 187, 188, 189, 26, 1, 1, 190, 12, 2, 191, 192, 2, 193, 2, 12, 27, 72, 73, 194, 74, 1, 1, 2, 7, 9, 13, 4, 1, 1, 75, 76, 77, 195, 196, 3, 41, 78, 28, 197, 198, 199, 79, 14, 80, 81, 82, 1, 1, 15, 200, 83, 201, 42, 2, 202, 84, 203, 2, 204, 43, 205, 16, 85, 44, 1, 1, 2, 83, 42, 14, 80, 81, 82, 86, 14, 206, 207, 42, 76, 86, 10, 208, 209, 210, 211, 1, 1, 212, 213, 214, 67, 17, 8, 215, 87, 216, 29, 4, 217, 30, 218, 219, 88, 30, 220, 221, 18, 31, 72, 73, 15, 1, 1, 222, 12, 223, 17, 8, 25, 4, 224, 25, 8, 225, 226, 227, 89, 228, 13, 79, 45, 19, 229, 1, 1, 90, 17, 91, 12, 230, 231, 18, 92, 93, 1, 1, 90, 8, 32, 18, 17, 25, 92, 93, 1, 1, 232, 233, 13, 46, 234, 26, 33, 78, 1, 1, 94, 34, 235, 8, 236, 237, 17, 1, 1, 95, 238, 16, 239, 240, 241, 2, 96, 27, 242, 2, 1, 1, 243, 3], [244, 3, 47, 7, 35, 97, 98, 245, 246, 247, 248, 249, 250, 251, 99, 100, 252, 101, 253, 48, 254, 1, 1, 2, 74, 102, 255, 256, 257, 258, 103, 98, 47, 104, 259, 49, 260, 261, 43, 262, 20, 263, 264, 265, 266, 105, 267, 268, 269, 270, 20, 271, 272, 1, 1, 273, 106, 48, 103, 97, 274, 275, 4, 276, 102, 48, 277, 10, 278, 35, 279], [280, 50, 281, 51, 282, 107, 4, 283, 284, 108, 52, 36, 16, 285, 109, 110, 53, 286, 37, 287, 3, 288, 54, 111, 4, 289, 11, 290, 291, 9, 3, 112, 36, 113, 292, 114, 293, 294, 295, 115, 116, 50, 296, 37, 297, 298, 299, 300, 1, 1, 46, 301, 4, 38, 117, 5, 302, 118, 55, 303, 304, 56, 305, 306, 307, 11, 308, 119, 120, 309, 310, 101, 311, 312, 91, 121, 119, 313, 314, 95, 315, 316, 122, 21, 317, 318, 3, 112, 319, 320, 57, 321, 322, 33, 323, 324, 32, 123, 108, 52, 325, 326, 2, 327, 328, 329, 124, 330, 331, 125, 332, 29, 333, 110, 15, 334, 335, 336, 337, 22, 338, 339, 114, 340, 341, 126, 342, 115, 343, 6, 344, 50, 51, 107, 345, 346, 127, 128, 347, 348, 15, 349, 7, 350, 351, 129, 39, 37, 1, 1, 130, 6, 131, 132, 133, 352, 41, 134, 28, 353, 9, 135, 354, 14, 58, 47, 355, 58, 356, 4, 34, 36, 357, 129, 136, 49, 358, 137, 130, 6, 135, 133, 359, 106, 360, 361, 59, 28, 362, 18, 138, 139, 363, 20, 364, 365, 366, 23, 140, 141, 367, 368, 369, 370, 371, 37, 10, 39, 372, 5, 142, 373, 120, 18, 139, 5, 374, 89, 6, 59, 375, 376, 377, 378, 143, 60, 39, 379, 380, 381, 382, 383, 59, 384, 385, 31, 386, 387, 10, 118, 55, 56, 134, 31, 388, 144, 389, 390, 38, 391, 20, 145, 121, 392, 11, 146, 393, 394, 49, 395, 396, 397, 398, 399, 30, 400, 401, 5, 61, 402, 23, 51, 403, 404, 405, 406, 32, 16, 147, 407, 408, 409, 410, 411, 412, 413, 414, 5, 125, 39, 23, 415, 416, 122, 22, 148, 417, 418, 419, 58, 420, 421, 422, 11, 21, 126, 52, 55, 423, 41, 3, 149, 424, 425, 426, 427, 4, 428, 53, 15, 5, 429, 150, 430, 24, 431, 432, 433, 60, 21, 143, 62, 434, 148, 109, 144, 435, 53, 7, 436, 6, 437, 438, 84, 10, 31, 439, 63, 142, 440, 441, 3, 442, 443, 30, 5, 24, 444, 54, 104, 445, 446, 21, 447, 448, 145, 11, 32, 22, 449, 450, 451, 452, 453, 124, 29, 454, 9, 455, 151, 1, 1, 26, 19, 456, 6, 64, 65, 457, 458, 140, 141, 152, 153, 24, 459, 88, 5, 460, 149, 131, 461, 117, 5, 462, 21, 463, 464, 26, 146, 465, 154, 466, 64, 123, 467, 153, 468, 469, 470, 471, 35, 138, 150, 24, 472, 9, 33, 473, 56, 6, 99, 65, 155, 111, 11, 96, 6, 474, 475, 27, 476, 477, 65, 27, 478, 479, 480, 481, 156, 157, 24, 23, 482, 155, 156, 157, 5, 34, 483, 116, 484, 62, 485, 486, 1, 1, 64, 57, 487, 488, 45, 489, 5, 62, 490, 127, 128, 19, 6, 69, 4, 491, 492, 85, 493, 63, 494, 9, 495, 36, 496, 6, 87, 105, 497, 498, 499, 500, 501, 29, 502, 503, 504, 136, 70], [113, 505, 158, 2, 506, 3, 507, 508, 77, 509, 510, 511, 40, 34, 512, 159, 2, 513, 514, 515, 516, 28, 517, 518, 71, 519, 520, 521, 160, 161, 159, 522, 523, 524, 525, 526, 527, 528, 529, 530, 147, 531, 532, 533, 534, 535, 536, 160, 1, 1, 537, 538, 539, 540, 3, 541, 162, 542, 543, 161, 544, 545, 546, 163, 547, 548, 549, 550, 551, 552, 158, 75, 553, 554, 555, 556, 557, 558, 559, 560, 561, 1, 1, 40, 2, 562, 164, 165, 563, 38, 564, 565, 54, 162, 566, 164, 567, 568, 19, 569, 40, 44, 13, 20, 570, 571, 572, 573, 574, 575, 576, 23, 165, 577, 578, 44, 579, 580, 581, 152, 582, 583, 584, 585, 586, 587, 588, 589, 590, 591, 1, 1, 63, 592, 40, 2, 593, 4, 137], [6, 594, 132, 22, 595, 66, 596, 597, 598, 599, 22, 66, 2, 600, 601, 16, 602, 154, 61, 603, 604, 10, 605, 33, 606, 607, 608, 609, 610, 611, 612, 613, 2, 614, 2, 615, 616, 166, 617, 618, 66, 619, 46, 14, 38, 620, 151, 621, 622, 623, 624, 35, 625, 45, 2, 57, 61, 626, 627, 628, 167, 19, 2, 168, 629, 168, 169, 630, 100, 169, 631, 94, 13, 167, 1, 1, 4, 170, 632, 2, 633, 166, 634, 635, 636, 637, 163, 638, 60, 639, 43, 170, 3, 3]]\n5\n"
     ]
    },
    {
     "output_type": "error",
     "ename": "AttributeError",
     "evalue": "'list' object has no attribute 'shape'",
     "traceback": [
      "\u001b[1;31m---------------------------------------------------------------------------\u001b[0m",
      "\u001b[1;31mAttributeError\u001b[0m                            Traceback (most recent call last)",
      "\u001b[1;32m<ipython-input-39-fd4b7450afba>\u001b[0m in \u001b[0;36m<module>\u001b[1;34m\u001b[0m\n\u001b[0;32m      6\u001b[0m \u001b[0mprint\u001b[0m\u001b[1;33m(\u001b[0m\u001b[0mX\u001b[0m\u001b[1;33m)\u001b[0m\u001b[1;33m\u001b[0m\u001b[1;33m\u001b[0m\u001b[0m\n\u001b[0;32m      7\u001b[0m \u001b[0mprint\u001b[0m\u001b[1;33m(\u001b[0m\u001b[0mlen\u001b[0m\u001b[1;33m(\u001b[0m\u001b[0mX\u001b[0m\u001b[1;33m)\u001b[0m\u001b[1;33m)\u001b[0m\u001b[1;33m\u001b[0m\u001b[1;33m\u001b[0m\u001b[0m\n\u001b[1;32m----> 8\u001b[1;33m \u001b[0mX\u001b[0m\u001b[1;33m.\u001b[0m\u001b[0mshape\u001b[0m\u001b[1;33m\u001b[0m\u001b[1;33m\u001b[0m\u001b[0m\n\u001b[0m",
      "\u001b[1;31mAttributeError\u001b[0m: 'list' object has no attribute 'shape'"
     ]
    }
   ],
   "source": [
    "max_fatures = 2500\n",
    "tokenizer = Tokenizer(num_words=max_fatures, split=' ')\n",
    "tokenizer.fit_on_texts(df_medium['text'].values)\n",
    "X = tokenizer.texts_to_sequences(df_medium['text'].values)\n",
    "\n",
    "print(X)\n",
    "print(len(X))\n",
    "X.shape"
   ]
  },
  {
   "cell_type": "code",
   "execution_count": null,
   "metadata": {},
   "outputs": [],
   "source": []
  }
 ]
}