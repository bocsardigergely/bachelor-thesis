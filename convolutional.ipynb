{
  "nbformat": 4,
  "nbformat_minor": 0,
  "metadata": {
    "language_info": {
      "codemirror_mode": {
        "name": "ipython",
        "version": 3
      },
      "file_extension": ".py",
      "mimetype": "text/x-python",
      "name": "python",
      "nbconvert_exporter": "python",
      "pygments_lexer": "ipython3",
      "version": "3.8.3"
    },
    "orig_nbformat": 2,
    "kernelspec": {
      "name": "python383jvsc74a57bd0b3ba2566441a7c06988d0923437866b63cedc61552a5af99d1f4fb67d367b25f",
      "display_name": "Python 3.8.3 64-bit (conda)"
    },
    "colab": {
      "name": "convolutional.ipynb",
      "provenance": []
    },
    "accelerator": "GPU"
  },
  "cells": [
    {
      "cell_type": "code",
      "metadata": {
        "id": "v_ApkXQimtmp"
      },
      "source": [
        "import pandas as pd\n",
        "import numpy as np\n",
        "import tensorflow as tf\n",
        "from tensorflow import keras\n",
        "from keras.layers import *\n",
        "from keras.models import Sequential, Model\n",
        "from tensorflow.keras.constraints import max_norm"
      ],
      "execution_count": 1,
      "outputs": []
    },
    {
      "cell_type": "code",
      "metadata": {
        "id": "_vtknUv4mtmr"
      },
      "source": [
        "df_short = pd.read_csv(\"https://raw.githubusercontent.com/bocsardigergely/bachelor-thesis/main/data/processed/processed_short.csv\").sample(frac=1).reset_index(drop=True)\n",
        "df_medium = pd.read_csv(\"https://raw.githubusercontent.com/bocsardigergely/bachelor-thesis/main/data/processed/processed_medium.csv\").sample(frac=1).reset_index(drop=True)\n",
        "df_dank = pd.read_csv(\"https://raw.githubusercontent.com/bocsardigergely/bachelor-thesis/main/data/processed/processed_dank.csv\").sample(frac=1).reset_index(drop=True)\n"
      ],
      "execution_count": 51,
      "outputs": []
    },
    {
      "cell_type": "code",
      "metadata": {
        "id": "LOy50udmmtmt"
      },
      "source": [
        "from tensorflow.keras.layers.experimental.preprocessing import TextVectorization\n",
        "from tensorflow.keras.layers import Embedding\n",
        "from sklearn.model_selection import train_test_split\n",
        "\n",
        "vectorizer = TextVectorization(max_tokens=20000)"
      ],
      "execution_count": 54,
      "outputs": []
    },
    {
      "cell_type": "code",
      "metadata": {
        "id": "LsdthDI-wXBD"
      },
      "source": [
        "df_joint = pd.concat([df_short, df_medium, df_dank])\n",
        "df_joint = df_joint.reset_index(drop=True)\n",
        "df_train = df_joint.sample(frac=1).reset_index(drop=True)\n",
        "vectorizer.adapt(np.asarray(df_train[\"text\"]))"
      ],
      "execution_count": 60,
      "outputs": []
    },
    {
      "cell_type": "code",
      "metadata": {
        "id": "wlrQfsQ8mtmu"
      },
      "source": [
        "def build_model():\n",
        "    #init_matrix = np.load('universal.npy')\n",
        "    submodels = []\n",
        "    for kw in (3, 4, 5):    # kernel sizes\n",
        "        submodel = Sequential()\n",
        "        submodel.add(Embedding(\n",
        "        20002,\n",
        "        100,\n",
        "        embeddings_initializer=keras.initializers.Constant(np.load('embed_matrix.npy')),\n",
        "        trainable=False,))\n",
        "        submodel.add(Conv1D(100,    \n",
        "                            kw,\n",
        "                            padding='valid',\n",
        "                            activation='relu',\n",
        "                            strides=1, kernel_constraint=max_norm(3)\n",
        "                             ))\n",
        "        submodel.add(GlobalMaxPooling1D())\n",
        "        submodels.append(submodel)\n",
        "\n",
        "    submodel1 = submodels[0]\n",
        "    submodel2 = submodels[1]\n",
        "    submodel3 = submodels[2]\n",
        "\n",
        "    x = add([submodel1.output, submodel2.output, submodel3.output])\n",
        "    \n",
        "    big_model = Sequential()\n",
        "    big_model.add(Dropout(0.25))\n",
        "    big_model.add(Dense(100))\n",
        "    big_model.add(Dropout(0.6))\n",
        "    big_model.add(Activation('relu'))\n",
        "    big_model.add(Dense(1))\n",
        "    big_model.add(Activation('sigmoid'))\n",
        "\n",
        "    big_model_output = big_model(x)\n",
        "\n",
        "    model = Model([submodel1.input, submodel2.input, submodel3.input], big_model_output)\n",
        "\n",
        "    model.compile(loss='binary_crossentropy',\n",
        "                    optimizer='adam',\n",
        "                    metrics=['accuracy'])  \n",
        "\n",
        "    print(model.summary())  \n",
        "\n",
        "\n",
        "    return model"
      ],
      "execution_count": 55,
      "outputs": []
    },
    {
      "cell_type": "code",
      "metadata": {
        "id": "cqnfmMEPmtmv"
      },
      "source": [
        "def train_model(df):\n",
        "    #creating the desired vectors\n",
        "    text = np.asarray(df['text'])\n",
        "    y = df[\"label\"]\n",
        "    text_train, text_test, y_train, y_test = train_test_split(\n",
        "    text, y, test_size=0.33, random_state=42)\n",
        "\n",
        "    text_train, text_val, y_train, y_val = train_test_split(\n",
        "    text_train, y_train, test_size=0.2, random_state=42)\n",
        "\n",
        "    X_train = vectorizer(text_train)\n",
        "    X_val = vectorizer(text_val)\n",
        "    X_test = vectorizer(text_test)\n",
        "\n",
        "    model = build_model()\n",
        "\n",
        "    model.fit([X_train, X_train, X_train],\n",
        "                     y_train,\n",
        "                     epochs=25,\n",
        "                     validation_data=([X_val, X_val, X_val],\n",
        "                     y_val))\n",
        "    \n",
        "    loss, accuracy =  model.evaluate([X_test, X_test, X_test], y_test)\n",
        "\n",
        "    print(\"Loss: \", loss)\n",
        "    print(\"Accuracy: \", accuracy)\n",
        "        \n",
        "    return model\n",
        "\n"
      ],
      "execution_count": 56,
      "outputs": []
    },
    {
      "cell_type": "code",
      "metadata": {
        "colab": {
          "base_uri": "https://localhost:8080/"
        },
        "id": "LCDrRwmJmtmv",
        "outputId": "b0646659-8f0c-4b10-a369-08093b97f4eb"
      },
      "source": [
        "train_model(df_medium)"
      ],
      "execution_count": 61,
      "outputs": [
        {
          "output_type": "stream",
          "text": [
            "Model: \"model_20\"\n",
            "__________________________________________________________________________________________________\n",
            "Layer (type)                    Output Shape         Param #     Connected to                     \n",
            "==================================================================================================\n",
            "embedding_60_input (InputLayer) [(None, None)]       0                                            \n",
            "__________________________________________________________________________________________________\n",
            "embedding_61_input (InputLayer) [(None, None)]       0                                            \n",
            "__________________________________________________________________________________________________\n",
            "embedding_62_input (InputLayer) [(None, None)]       0                                            \n",
            "__________________________________________________________________________________________________\n",
            "embedding_60 (Embedding)        (None, None, 100)    2000200     embedding_60_input[0][0]         \n",
            "__________________________________________________________________________________________________\n",
            "embedding_61 (Embedding)        (None, None, 100)    2000200     embedding_61_input[0][0]         \n",
            "__________________________________________________________________________________________________\n",
            "embedding_62 (Embedding)        (None, None, 100)    2000200     embedding_62_input[0][0]         \n",
            "__________________________________________________________________________________________________\n",
            "conv1d_60 (Conv1D)              (None, None, 100)    30100       embedding_60[0][0]               \n",
            "__________________________________________________________________________________________________\n",
            "conv1d_61 (Conv1D)              (None, None, 100)    40100       embedding_61[0][0]               \n",
            "__________________________________________________________________________________________________\n",
            "conv1d_62 (Conv1D)              (None, None, 100)    50100       embedding_62[0][0]               \n",
            "__________________________________________________________________________________________________\n",
            "global_max_pooling1d_60 (Global (None, 100)          0           conv1d_60[0][0]                  \n",
            "__________________________________________________________________________________________________\n",
            "global_max_pooling1d_61 (Global (None, 100)          0           conv1d_61[0][0]                  \n",
            "__________________________________________________________________________________________________\n",
            "global_max_pooling1d_62 (Global (None, 100)          0           conv1d_62[0][0]                  \n",
            "__________________________________________________________________________________________________\n",
            "add_20 (Add)                    (None, 100)          0           global_max_pooling1d_60[0][0]    \n",
            "                                                                 global_max_pooling1d_61[0][0]    \n",
            "                                                                 global_max_pooling1d_62[0][0]    \n",
            "__________________________________________________________________________________________________\n",
            "sequential_83 (Sequential)      (None, 1)            10201       add_20[0][0]                     \n",
            "==================================================================================================\n",
            "Total params: 6,131,101\n",
            "Trainable params: 130,501\n",
            "Non-trainable params: 6,000,600\n",
            "__________________________________________________________________________________________________\n",
            "None\n",
            "Epoch 1/25\n",
            "84/84 [==============================] - 2s 16ms/step - loss: 1.3714 - accuracy: 0.5120 - val_loss: 0.6898 - val_accuracy: 0.4940\n",
            "Epoch 2/25\n",
            "84/84 [==============================] - 1s 13ms/step - loss: 0.7133 - accuracy: 0.5161 - val_loss: 0.6814 - val_accuracy: 0.6612\n",
            "Epoch 3/25\n",
            "84/84 [==============================] - 1s 13ms/step - loss: 0.6915 - accuracy: 0.5425 - val_loss: 0.6621 - val_accuracy: 0.7328\n",
            "Epoch 4/25\n",
            "84/84 [==============================] - 1s 13ms/step - loss: 0.6699 - accuracy: 0.5950 - val_loss: 0.6424 - val_accuracy: 0.6627\n",
            "Epoch 5/25\n",
            "84/84 [==============================] - 1s 13ms/step - loss: 0.6374 - accuracy: 0.6421 - val_loss: 0.6130 - val_accuracy: 0.6567\n",
            "Epoch 6/25\n",
            "84/84 [==============================] - 1s 13ms/step - loss: 0.6044 - accuracy: 0.6789 - val_loss: 0.4920 - val_accuracy: 0.7940\n",
            "Epoch 7/25\n",
            "84/84 [==============================] - 1s 13ms/step - loss: 0.4896 - accuracy: 0.7714 - val_loss: 0.4533 - val_accuracy: 0.8090\n",
            "Epoch 8/25\n",
            "84/84 [==============================] - 1s 13ms/step - loss: 0.4161 - accuracy: 0.8207 - val_loss: 0.4445 - val_accuracy: 0.8119\n",
            "Epoch 9/25\n",
            "84/84 [==============================] - 1s 13ms/step - loss: 0.3471 - accuracy: 0.8624 - val_loss: 0.4120 - val_accuracy: 0.8134\n",
            "Epoch 10/25\n",
            "84/84 [==============================] - 1s 13ms/step - loss: 0.2912 - accuracy: 0.8774 - val_loss: 0.4082 - val_accuracy: 0.8194\n",
            "Epoch 11/25\n",
            "84/84 [==============================] - 1s 13ms/step - loss: 0.2240 - accuracy: 0.9347 - val_loss: 0.4011 - val_accuracy: 0.8299\n",
            "Epoch 12/25\n",
            "84/84 [==============================] - 1s 14ms/step - loss: 0.1705 - accuracy: 0.9466 - val_loss: 0.4172 - val_accuracy: 0.8269\n",
            "Epoch 13/25\n",
            "84/84 [==============================] - 1s 13ms/step - loss: 0.1393 - accuracy: 0.9573 - val_loss: 0.4412 - val_accuracy: 0.8134\n",
            "Epoch 14/25\n",
            "84/84 [==============================] - 1s 13ms/step - loss: 0.1003 - accuracy: 0.9730 - val_loss: 0.4705 - val_accuracy: 0.8209\n",
            "Epoch 15/25\n",
            "84/84 [==============================] - 1s 13ms/step - loss: 0.0773 - accuracy: 0.9805 - val_loss: 0.4855 - val_accuracy: 0.8224\n",
            "Epoch 16/25\n",
            "84/84 [==============================] - 1s 13ms/step - loss: 0.0774 - accuracy: 0.9819 - val_loss: 0.5389 - val_accuracy: 0.8000\n",
            "Epoch 17/25\n",
            "84/84 [==============================] - 1s 13ms/step - loss: 0.0665 - accuracy: 0.9799 - val_loss: 0.4793 - val_accuracy: 0.8239\n",
            "Epoch 18/25\n",
            "84/84 [==============================] - 1s 13ms/step - loss: 0.0580 - accuracy: 0.9875 - val_loss: 0.7363 - val_accuracy: 0.7716\n",
            "Epoch 19/25\n",
            "84/84 [==============================] - 1s 13ms/step - loss: 0.0581 - accuracy: 0.9856 - val_loss: 0.5829 - val_accuracy: 0.7925\n",
            "Epoch 20/25\n",
            "84/84 [==============================] - 1s 13ms/step - loss: 0.0570 - accuracy: 0.9833 - val_loss: 0.6494 - val_accuracy: 0.7925\n",
            "Epoch 21/25\n",
            "84/84 [==============================] - 1s 13ms/step - loss: 0.0574 - accuracy: 0.9852 - val_loss: 0.5769 - val_accuracy: 0.8358\n",
            "Epoch 22/25\n",
            "84/84 [==============================] - 1s 13ms/step - loss: 0.0422 - accuracy: 0.9850 - val_loss: 0.6315 - val_accuracy: 0.8239\n",
            "Epoch 23/25\n",
            "84/84 [==============================] - 1s 13ms/step - loss: 0.0314 - accuracy: 0.9937 - val_loss: 0.6300 - val_accuracy: 0.8134\n",
            "Epoch 24/25\n",
            "84/84 [==============================] - 1s 13ms/step - loss: 0.0366 - accuracy: 0.9879 - val_loss: 0.6270 - val_accuracy: 0.7985\n",
            "Epoch 25/25\n",
            "84/84 [==============================] - 1s 13ms/step - loss: 0.0280 - accuracy: 0.9905 - val_loss: 0.6262 - val_accuracy: 0.8090\n",
            "52/52 [==============================] - 1s 10ms/step - loss: 0.7655 - accuracy: 0.7958\n",
            "Loss:  0.7654640078544617\n",
            "Accuracy:  0.7957575917243958\n"
          ],
          "name": "stdout"
        },
        {
          "output_type": "execute_result",
          "data": {
            "text/plain": [
              "<tensorflow.python.keras.engine.functional.Functional at 0x7f4fc041bf10>"
            ]
          },
          "metadata": {
            "tags": []
          },
          "execution_count": 61
        }
      ]
    },
    {
      "cell_type": "code",
      "metadata": {
        "id": "dSIAPcAvoHa7"
      },
      "source": [
        ""
      ],
      "execution_count": null,
      "outputs": []
    },
    {
      "cell_type": "code",
      "metadata": {
        "colab": {
          "base_uri": "https://localhost:8080/"
        },
        "id": "frHOCSOIxNVP",
        "outputId": "4a224d9b-b7ac-462b-e1a6-e47aea8aab26"
      },
      "source": [
        "from google.colab import drive\n",
        "drive.mount('/content/drive')"
      ],
      "execution_count": 58,
      "outputs": [
        {
          "output_type": "stream",
          "text": [
            "Mounted at /content/drive\n"
          ],
          "name": "stdout"
        }
      ]
    },
    {
      "cell_type": "code",
      "metadata": {
        "id": "b4UIdSfSxOQv"
      },
      "source": [
        ""
      ],
      "execution_count": null,
      "outputs": []
    }
  ]
}