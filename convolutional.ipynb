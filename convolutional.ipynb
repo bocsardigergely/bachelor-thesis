{
 "metadata": {
  "language_info": {
   "codemirror_mode": {
    "name": "ipython",
    "version": 3
   },
   "file_extension": ".py",
   "mimetype": "text/x-python",
   "name": "python",
   "nbconvert_exporter": "python",
   "pygments_lexer": "ipython3",
   "version": "3.8.3"
  },
  "orig_nbformat": 2,
  "kernelspec": {
   "name": "python383jvsc74a57bd0b3ba2566441a7c06988d0923437866b63cedc61552a5af99d1f4fb67d367b25f",
   "display_name": "Python 3.8.3 64-bit ('base': conda)"
  }
 },
 "nbformat": 4,
 "nbformat_minor": 2,
 "cells": [
  {
   "cell_type": "code",
   "execution_count": 1,
   "metadata": {},
   "outputs": [
    {
     "output_type": "stream",
     "name": "stderr",
     "text": [
      "C:\\ProgramData\\Anaconda3\\lib\\site-packages\\gensim\\similarities\\__init__.py:15: UserWarning: The gensim.similarities.levenshtein submodule is disabled, because the optional Levenshtein package <https://pypi.org/project/python-Levenshtein/> is unavailable. Install Levenhstein (e.g. `pip install python-Levenshtein`) to suppress this warning.\n  warnings.warn(msg)\n"
     ]
    }
   ],
   "source": [
    "import pandas as pd\n",
    "import numpy as np\n",
    "from gensim.models import Word2Vec\n",
    "from gensim.models import KeyedVectors"
   ]
  },
  {
   "cell_type": "code",
   "execution_count": 6,
   "metadata": {},
   "outputs": [],
   "source": [
    "df_short = pd.read_csv(\"data/processed/processed_short.csv\")\n",
    "df_medium = pd.read_csv(\"data/processed/processed_medium.csv\")\n",
    "df_long = pd.read_csv(\"data/processed/processed_long.csv\")\n",
    "\n",
    "wv_short = KeyedVectors.load(\"data/df_short.wordvectors\", mmap='r')\n",
    "wv_med = wv = KeyedVectors.load(\"data/df_medium.wordvectors\", mmap='r')\n",
    "wv_long = KeyedVectors.load(\"data/df_long.wordvectors\", mmap='r')"
   ]
  },
  {
   "cell_type": "code",
   "execution_count": 8,
   "metadata": {},
   "outputs": [
    {
     "output_type": "execute_result",
     "data": {
      "text/plain": [
       "                                                text  label\n",
       "0   know film meager rating imdb film accompanied...      1"
      ],
      "text/html": "<div>\n<style scoped>\n    .dataframe tbody tr th:only-of-type {\n        vertical-align: middle;\n    }\n\n    .dataframe tbody tr th {\n        vertical-align: top;\n    }\n\n    .dataframe thead th {\n        text-align: right;\n    }\n</style>\n<table border=\"1\" class=\"dataframe\">\n  <thead>\n    <tr style=\"text-align: right;\">\n      <th></th>\n      <th>text</th>\n      <th>label</th>\n    </tr>\n  </thead>\n  <tbody>\n    <tr>\n      <th>0</th>\n      <td>know film meager rating imdb film accompanied...</td>\n      <td>1</td>\n    </tr>\n  </tbody>\n</table>\n</div>"
     },
     "metadata": {},
     "execution_count": 8
    }
   ],
   "source": [
    "df_medium = df_medium.head(1)\n",
    "df_medium"
   ]
  },
  {
   "cell_type": "code",
   "execution_count": 5,
   "metadata": {},
   "outputs": [],
   "source": [
    "# def generate_sentence_matrices(df):\n",
    "#     wv = KeyedVectors.load(\"data/\"+ str(name)+ \".wordvectors\", mmap='r')\n",
    "#     name =[x for x in globals() if globals()[x] is df][0]\n",
    "#     df['list'] = df[\"text\"].str.split()\n",
    "#     for ind in df.index():\n",
    "#         sentence_matrix = "
   ]
  },
  {
   "cell_type": "code",
   "execution_count": 9,
   "metadata": {},
   "outputs": [
    {
     "output_type": "stream",
     "name": "stderr",
     "text": [
      "<ipython-input-9-9eb1783c5f31>:1: SettingWithCopyWarning: \nA value is trying to be set on a copy of a slice from a DataFrame.\nTry using .loc[row_indexer,col_indexer] = value instead\n\nSee the caveats in the documentation: https://pandas.pydata.org/pandas-docs/stable/user_guide/indexing.html#returning-a-view-versus-a-copy\n  df_medium[\"list\"] = df_medium[\"text\"].str.split()\n"
     ]
    }
   ],
   "source": [
    "df_medium[\"list\"] = df_medium[\"text\"].str.split()\n",
    "#itt átalakítom listákká a szavakat"
   ]
  },
  {
   "cell_type": "code",
   "execution_count": 10,
   "metadata": {},
   "outputs": [],
   "source": [
    "df_medium.insert(3, \"matrix\", 0)"
   ]
  },
  {
   "source": [
    "A mátrixnál az a cél, hogy úgy lesz egy sentence-ből (review-ból) mátrix, hogy egymás alá pakolom a szavak word-vectorait.  \n",
    "Így az oszlopok száma a word2vec dimenziója (100), a soroké pedig a benne lévő szavak száma.\n",
    "\n",
    "viszont azt nem tudom megoldani hogy ezt a mátrixot be tudjam tölteni valahogy dataframe-be, hogy mátrix-label párokat adhassak majd a convnetnek."
   ],
   "cell_type": "markdown",
   "metadata": {}
  },
  {
   "cell_type": "code",
   "execution_count": 11,
   "metadata": {
    "tags": []
   },
   "outputs": [],
   "source": [
    "for ind in df_medium.index:\n",
    "    matrix = np.zeros(shape=(1,100))\n",
    "    for word in df_medium[\"list\"][ind]:\n",
    "        if wv_med.has_index_for(str(word)):\n",
    "            matrix = np.r_[matrix, [wv_med[word]]]\n"
   ]
  },
  {
   "cell_type": "code",
   "execution_count": 12,
   "metadata": {},
   "outputs": [
    {
     "output_type": "execute_result",
     "data": {
      "text/plain": [
       "array([[ 0.        ,  0.        ,  0.        , ...,  0.        ,\n",
       "         0.        ,  0.        ],\n",
       "       [-0.06937547,  0.50606889,  0.1573479 , ..., -0.04007175,\n",
       "         0.03813119, -0.04327057],\n",
       "       [-0.33333352,  0.17819361, -0.05091542, ..., -0.28502184,\n",
       "         0.07909986,  0.0839595 ],\n",
       "       ...,\n",
       "       [-0.03449566,  0.04425142, -0.05758207, ..., -0.31172678,\n",
       "         0.12017246,  0.31591132],\n",
       "       [-0.02321523,  0.22007093, -0.0803512 , ..., -0.140343  ,\n",
       "         0.03907465,  0.22950158],\n",
       "       [-0.02548532, -0.02635483, -0.29580832, ..., -0.10099153,\n",
       "         0.11202637,  0.36119354]])"
      ]
     },
     "metadata": {},
     "execution_count": 12
    }
   ],
   "source": [
    "matrix"
   ]
  },
  {
   "cell_type": "code",
   "execution_count": null,
   "metadata": {},
   "outputs": [],
   "source": []
  }
 ]
}