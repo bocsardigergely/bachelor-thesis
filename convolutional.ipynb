{
 "metadata": {
  "language_info": {
   "codemirror_mode": {
    "name": "ipython",
    "version": 3
   },
   "file_extension": ".py",
   "mimetype": "text/x-python",
   "name": "python",
   "nbconvert_exporter": "python",
   "pygments_lexer": "ipython3",
   "version": "3.8.3"
  },
  "orig_nbformat": 2,
  "kernelspec": {
   "name": "python383jvsc74a57bd0b3ba2566441a7c06988d0923437866b63cedc61552a5af99d1f4fb67d367b25f",
   "display_name": "Python 3.8.3 64-bit ('base': conda)"
  }
 },
 "nbformat": 4,
 "nbformat_minor": 2,
 "cells": [
  {
   "cell_type": "code",
   "execution_count": 16,
   "metadata": {},
   "outputs": [],
   "source": [
    "import pandas as pd\n",
    "import numpy as np\n",
    "from gensim.models import Word2Vec\n",
    "from gensim.models import KeyedVectors\n",
    "import tensorflow as tf\n",
    "from tensorflow import keras\n",
    "from keras.layers import *\n",
    "from keras.models import Sequential, Model"
   ]
  },
  {
   "cell_type": "code",
   "execution_count": 30,
   "metadata": {},
   "outputs": [],
   "source": [
    "df_short = pd.read_csv(\"data/processed/processed_short.csv\")\n",
    "df_medium = pd.read_csv(\"data/processed/processed_medium.csv\")\n",
    "df_dank = pd.read_csv(\"data/processed/processed_dank.csv\")\n",
    "\n",
    "wv_short = KeyedVectors.load(\"data/df_short.wordvectors\", mmap='r')\n",
    "wv_med = KeyedVectors.load(\"data/df_medium.wordvectors\", mmap='r')\n",
    "wv_dank = KeyedVectors.load(\"data/df_dank.wordvectors\", mmap='r')"
   ]
  },
  {
   "cell_type": "code",
   "execution_count": 32,
   "metadata": {},
   "outputs": [],
   "source": [
    "from tensorflow.keras.layers.experimental.preprocessing import TextVectorization\n",
    "from tensorflow.keras.layers import Embedding\n",
    "from sklearn.model_selection import train_test_split\n",
    "\n",
    "\n",
    "\n",
    "vectorizer = TextVectorization(max_tokens=20000, output_sequence_length=200)\n",
    "\n"
   ]
  },
  {
   "cell_type": "code",
   "execution_count": 39,
   "metadata": {},
   "outputs": [],
   "source": [
    "def create_embedding_layer(df):\n",
    "    name =[x for x in globals() if globals()[x] is df][0]\n",
    "    #text = df['text'].to_numpy()\n",
    "    text = np.asarray(df['text'])\n",
    "    y = df['label']\n",
    "    vectorizer.adapt(text)\n",
    "\n",
    "    voc = vectorizer.get_vocabulary()\n",
    "    word_index = dict(zip(voc, range(len(voc))))\n",
    "\n",
    "    wv = KeyedVectors.load(\"data/\" + str(name) + \".wordvectors\", mmap='r')\n",
    "    embeddings_index= {}\n",
    "    for word in voc:\n",
    "        if wv.has_index_for(word):\n",
    "            embeddings_index[word] = wv_short[word]\n",
    "        else:\n",
    "            embeddings_index[word] = np.zeros(100)\n",
    "    \n",
    "    num_tokens = len(voc) + 2\n",
    "    embedding_dim = 100\n",
    "    hits = 0\n",
    "    misses = 0\n",
    "    \n",
    "    embedding_matrix = np.zeros((num_tokens, embedding_dim))\n",
    "    for word, i in word_index.items():\n",
    "        embedding_vector = embeddings_index.get(word)\n",
    "        if embedding_vector is not None:\n",
    "            embedding_matrix[i] = embedding_vector\n",
    "            hits += 1\n",
    "        else:\n",
    "            misses += 1\n",
    "    print(\"Converted %d words (%d misses)\" % (hits, misses))\n",
    "\n",
    "    embedding_layer = Embedding(\n",
    "    num_tokens,\n",
    "    embedding_dim,\n",
    "    embeddings_initializer=keras.initializers.Constant(embedding_matrix),\n",
    "    trainable=False,)\n",
    "\n",
    "    return embedding_layer\n"
   ]
  },
  {
   "cell_type": "code",
   "execution_count": 40,
   "metadata": {
    "tags": []
   },
   "outputs": [
    {
     "output_type": "stream",
     "name": "stdout",
     "text": [
      "Converted 7643 words (0 misses)\n"
     ]
    },
    {
     "output_type": "execute_result",
     "data": {
      "text/plain": [
       "<tensorflow.python.keras.layers.embeddings.Embedding at 0x1890a803c10>"
      ]
     },
     "metadata": {},
     "execution_count": 40
    }
   ],
   "source": [
    "create_embedding_layer(df_short)"
   ]
  },
  {
   "cell_type": "code",
   "execution_count": 41,
   "metadata": {},
   "outputs": [],
   "source": [
    "def build_model(df):\n",
    "    submodels = []\n",
    "    for kw in (3, 4, 5):    # kernel sizes\n",
    "        submodel = Sequential()\n",
    "        submodel.add(create_embedding_layer(df))\n",
    "        submodel.add(Conv1D(100,    #should be 100 maps\n",
    "                            kw,\n",
    "                            padding='valid',\n",
    "                            activation='relu',\n",
    "                            strides=1)) #elvileg egy maxnorm nem árt még bele\n",
    "        submodel.add(GlobalMaxPooling1D())\n",
    "        submodels.append(submodel)\n",
    "\n",
    "    submodel1 = submodels[0]\n",
    "    submodel2 = submodels[1]\n",
    "    submodel3 = submodels[2]\n",
    "\n",
    "    x = add([submodel1.output, submodel2.output, submodel3.output])\n",
    "    \n",
    "    big_model = Sequential()\n",
    "    big_model.add(Dense(100))\n",
    "    big_model.add(Dropout(0.3))\n",
    "    big_model.add(Activation('relu'))\n",
    "    big_model.add(Dense(1))\n",
    "    big_model.add(Activation('sigmoid'))\n",
    "\n",
    "    big_model_output = big_model(x)\n",
    "\n",
    "    model = Model([submodel1.input, submodel2.input, submodel3.input], big_model_output)\n",
    "\n",
    "    model.compile(loss='binary_crossentropy',\n",
    "                    optimizer='adam',\n",
    "                    metrics=['accuracy'])  \n",
    "\n",
    "    print(model.summary())  \n",
    "\n",
    "    return model"
   ]
  },
  {
   "cell_type": "code",
   "execution_count": 42,
   "metadata": {},
   "outputs": [
    {
     "output_type": "stream",
     "name": "stdout",
     "text": [
      "Converted 7643 words (0 misses)\n",
      "Converted 7643 words (0 misses)\n",
      "Converted 7643 words (0 misses)\n",
      "Model: \"functional_3\"\n",
      "__________________________________________________________________________________________________\n",
      "Layer (type)                    Output Shape         Param #     Connected to                     \n",
      "==================================================================================================\n",
      "embedding_5_input (InputLayer)  [(None, None)]       0                                            \n",
      "__________________________________________________________________________________________________\n",
      "embedding_6_input (InputLayer)  [(None, None)]       0                                            \n",
      "__________________________________________________________________________________________________\n",
      "embedding_7_input (InputLayer)  [(None, None)]       0                                            \n",
      "__________________________________________________________________________________________________\n",
      "embedding_5 (Embedding)         (None, None, 100)    764500      embedding_5_input[0][0]          \n",
      "__________________________________________________________________________________________________\n",
      "embedding_6 (Embedding)         (None, None, 100)    764500      embedding_6_input[0][0]          \n",
      "__________________________________________________________________________________________________\n",
      "embedding_7 (Embedding)         (None, None, 100)    764500      embedding_7_input[0][0]          \n",
      "__________________________________________________________________________________________________\n",
      "conv1d_3 (Conv1D)               (None, None, 100)    30100       embedding_5[0][0]                \n",
      "__________________________________________________________________________________________________\n",
      "conv1d_4 (Conv1D)               (None, None, 100)    40100       embedding_6[0][0]                \n",
      "__________________________________________________________________________________________________\n",
      "conv1d_5 (Conv1D)               (None, None, 100)    50100       embedding_7[0][0]                \n",
      "__________________________________________________________________________________________________\n",
      "global_max_pooling1d_3 (GlobalM (None, 100)          0           conv1d_3[0][0]                   \n",
      "__________________________________________________________________________________________________\n",
      "global_max_pooling1d_4 (GlobalM (None, 100)          0           conv1d_4[0][0]                   \n",
      "__________________________________________________________________________________________________\n",
      "global_max_pooling1d_5 (GlobalM (None, 100)          0           conv1d_5[0][0]                   \n",
      "__________________________________________________________________________________________________\n",
      "add_1 (Add)                     (None, 100)          0           global_max_pooling1d_3[0][0]     \n",
      "                                                                 global_max_pooling1d_4[0][0]     \n",
      "                                                                 global_max_pooling1d_5[0][0]     \n",
      "__________________________________________________________________________________________________\n",
      "sequential_7 (Sequential)       (None, 1)            10201       add_1[0][0]                      \n",
      "==================================================================================================\n",
      "Total params: 2,424,001\n",
      "Trainable params: 130,501\n",
      "Non-trainable params: 2,293,500\n",
      "__________________________________________________________________________________________________\n",
      "None\n"
     ]
    },
    {
     "output_type": "execute_result",
     "data": {
      "text/plain": [
       "<tensorflow.python.keras.engine.functional.Functional at 0x1890b12c0d0>"
      ]
     },
     "metadata": {},
     "execution_count": 42
    }
   ],
   "source": [
    "build_model(df_short)"
   ]
  },
  {
   "cell_type": "code",
   "execution_count": 47,
   "metadata": {},
   "outputs": [],
   "source": [
    "def train_model(df):\n",
    "    name =[x for x in globals() if globals()[x] is df][0]\n",
    "    #creating the desired vectors\n",
    "    text = np.asarray(df['text'])\n",
    "    y = df[\"label\"]\n",
    "    text_train, text_test, y_train, y_test = train_test_split(\n",
    "    text, y, test_size=0.33, random_state=42)\n",
    "\n",
    "    text_train, text_val, y_train, y_val = train_test_split(\n",
    "    text_train, y_train, test_size=0.33, random_state=42)\n",
    "\n",
    "    X_train = vectorizer(text_train)\n",
    "    X_val = vectorizer(text_val)\n",
    "    X_test = vectorizer(text_test)\n",
    "\n",
    "    model = build_model(df)\n",
    "\n",
    "    model.fit([X_train, X_train, X_train],\n",
    "                     y_train,\n",
    "                     epochs=5,\n",
    "                     validation_data=([X_val, X_val, X_val],\n",
    "                     y_val))\n",
    "    \n",
    "    loss, accuracy = model.evaluate([X_test, X_test, X_test], y_test)\n",
    "\n",
    "    print(\"Loss: \", loss)\n",
    "    print(\"Accuracy: \", accuracy)\n",
    "        \n",
    "    return model\n",
    "\n"
   ]
  },
  {
   "cell_type": "code",
   "execution_count": 48,
   "metadata": {},
   "outputs": [
    {
     "output_type": "stream",
     "name": "stdout",
     "text": [
      "Converted 7643 words (0 misses)\n",
      "Converted 7643 words (0 misses)\n",
      "Converted 7643 words (0 misses)\n",
      "Model: \"functional_7\"\n",
      "__________________________________________________________________________________________________\n",
      "Layer (type)                    Output Shape         Param #     Connected to                     \n",
      "==================================================================================================\n",
      "embedding_11_input (InputLayer) [(None, None)]       0                                            \n",
      "__________________________________________________________________________________________________\n",
      "embedding_12_input (InputLayer) [(None, None)]       0                                            \n",
      "__________________________________________________________________________________________________\n",
      "embedding_13_input (InputLayer) [(None, None)]       0                                            \n",
      "__________________________________________________________________________________________________\n",
      "embedding_11 (Embedding)        (None, None, 100)    764500      embedding_11_input[0][0]         \n",
      "__________________________________________________________________________________________________\n",
      "embedding_12 (Embedding)        (None, None, 100)    764500      embedding_12_input[0][0]         \n",
      "__________________________________________________________________________________________________\n",
      "embedding_13 (Embedding)        (None, None, 100)    764500      embedding_13_input[0][0]         \n",
      "__________________________________________________________________________________________________\n",
      "conv1d_9 (Conv1D)               (None, None, 100)    30100       embedding_11[0][0]               \n",
      "__________________________________________________________________________________________________\n",
      "conv1d_10 (Conv1D)              (None, None, 100)    40100       embedding_12[0][0]               \n",
      "__________________________________________________________________________________________________\n",
      "conv1d_11 (Conv1D)              (None, None, 100)    50100       embedding_13[0][0]               \n",
      "__________________________________________________________________________________________________\n",
      "global_max_pooling1d_9 (GlobalM (None, 100)          0           conv1d_9[0][0]                   \n",
      "__________________________________________________________________________________________________\n",
      "global_max_pooling1d_10 (Global (None, 100)          0           conv1d_10[0][0]                  \n",
      "__________________________________________________________________________________________________\n",
      "global_max_pooling1d_11 (Global (None, 100)          0           conv1d_11[0][0]                  \n",
      "__________________________________________________________________________________________________\n",
      "add_3 (Add)                     (None, 100)          0           global_max_pooling1d_9[0][0]     \n",
      "                                                                 global_max_pooling1d_10[0][0]    \n",
      "                                                                 global_max_pooling1d_11[0][0]    \n",
      "__________________________________________________________________________________________________\n",
      "sequential_15 (Sequential)      (None, 1)            10201       add_3[0][0]                      \n",
      "==================================================================================================\n",
      "Total params: 2,424,001\n",
      "Trainable params: 130,501\n",
      "Non-trainable params: 2,293,500\n",
      "__________________________________________________________________________________________________\n",
      "None\n",
      "Epoch 1/5\n",
      "79/79 [==============================] - 5s 66ms/step - loss: 0.1584 - accuracy: 0.9531 - val_loss: 0.0712 - val_accuracy: 0.9789\n",
      "Epoch 2/5\n",
      "79/79 [==============================] - 5s 62ms/step - loss: 0.0768 - accuracy: 0.9804 - val_loss: 0.0737 - val_accuracy: 0.9772\n",
      "Epoch 3/5\n",
      "79/79 [==============================] - 5s 59ms/step - loss: 0.0711 - accuracy: 0.9816 - val_loss: 0.0726 - val_accuracy: 0.9789\n",
      "Epoch 4/5\n",
      "79/79 [==============================] - 5s 59ms/step - loss: 0.0671 - accuracy: 0.9820 - val_loss: 0.0793 - val_accuracy: 0.9748\n",
      "Epoch 5/5\n",
      "79/79 [==============================] - 5s 60ms/step - loss: 0.0626 - accuracy: 0.9812 - val_loss: 0.0679 - val_accuracy: 0.9797\n",
      "58/58 [==============================] - 1s 14ms/step - loss: 0.0697 - accuracy: 0.9766\n",
      "Loss:  0.06966733932495117\n",
      "Accuracy:  0.9765922427177429\n"
     ]
    },
    {
     "output_type": "execute_result",
     "data": {
      "text/plain": [
       "<tensorflow.python.keras.engine.functional.Functional at 0x18911716340>"
      ]
     },
     "metadata": {},
     "execution_count": 48
    }
   ],
   "source": [
    "train_model(df_short)"
   ]
  },
  {
   "source": [
    "# Dope megoldás a convnetre a cikkből, aminek a képét is beraktam"
   ],
   "cell_type": "markdown",
   "metadata": {}
  },
  {
   "cell_type": "code",
   "execution_count": null,
   "metadata": {},
   "outputs": [],
   "source": [
    "submodels = []\n",
    "for kw in (3, 4, 5):    # kernel sizes\n",
    "    submodel = Sequential()\n",
    "    submodel.add(Embedding(len(word_index) + 1,\n",
    "                           EMBEDDING_DIM,\n",
    "                           weights=[embedding_matrix],\n",
    "                           input_length=MAX_SEQUENCE_LENGTH,\n",
    "                           trainable=False))\n",
    "    submodel.add(Conv1D(FILTERS,\n",
    "                        kw,\n",
    "                        padding='valid',\n",
    "                        activation='relu',\n",
    "                        strides=1))\n",
    "    submodel.add(GlobalMaxPooling1D())\n",
    "    submodels.append(submodel)\n",
    "big_model = Sequential()\n",
    "big_model.add(Merge(submodels, mode=\"concat\"))\n",
    "big_model.add(Dense(HIDDEN_DIMS))\n",
    "big_model.add(Dropout(P_DROPOUT))\n",
    "big_model.add(Activation('relu'))\n",
    "big_model.add(Dense(1))\n",
    "big_model.add(Activation('sigmoid'))\n",
    "print('Compiling model')\n",
    "big_model.compile(loss='binary_crossentropy',\n",
    "                  optimizer='adam',\n",
    "                  metrics=['accuracy'])"
   ]
  },
  {
   "cell_type": "code",
   "execution_count": null,
   "metadata": {},
   "outputs": [],
   "source": [
    "hist = big_model.fit([x_train, x_train, x_train],\r\n",
    "                     y_train,\r\n",
    "                     batch_size=BATCH_SIZE,\r\n",
    "                     epochs=EPOCHS,\r\n",
    "                     validation_data=([x_val, x_val, x_val], y_val),\r\n",
    "                     callbacks=callbacks)"
   ]
  }
 ]
}