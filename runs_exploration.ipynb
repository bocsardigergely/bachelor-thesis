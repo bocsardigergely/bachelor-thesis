{
 "metadata": {
  "language_info": {
   "codemirror_mode": {
    "name": "ipython",
    "version": 3
   },
   "file_extension": ".py",
   "mimetype": "text/x-python",
   "name": "python",
   "nbconvert_exporter": "python",
   "pygments_lexer": "ipython3",
   "version": "3.8.3"
  },
  "orig_nbformat": 2,
  "kernelspec": {
   "name": "python383jvsc74a57bd0b3ba2566441a7c06988d0923437866b63cedc61552a5af99d1f4fb67d367b25f",
   "display_name": "Python 3.8.3 64-bit (conda)"
  }
 },
 "nbformat": 4,
 "nbformat_minor": 2,
 "cells": [
  {
   "cell_type": "code",
   "execution_count": 1,
   "metadata": {},
   "outputs": [],
   "source": [
    "import neptune.new as neptune\n",
    "my_project = neptune.get_project('bocsardigergely/thesis')"
   ]
  },
  {
   "cell_type": "code",
   "execution_count": 2,
   "metadata": {},
   "outputs": [],
   "source": [
    "runs_df = my_project.fetch_runs_table().to_pandas()"
   ]
  },
  {
   "cell_type": "code",
   "execution_count": 7,
   "metadata": {},
   "outputs": [
    {
     "output_type": "execute_result",
     "data": {
      "text/plain": [
       "Index(['sys/creation_time', 'sys/description', 'sys/hostname', 'sys/id',\n",
       "       'sys/modification_time', 'sys/name', 'sys/owner', 'sys/ping_time',\n",
       "       'sys/running_time', 'sys/size', 'sys/state', 'sys/tags',\n",
       "       'metrics/batch/accuracy', 'metrics/batch/loss',\n",
       "       'metrics/epoch/accuracy', 'metrics/epoch/loss',\n",
       "       'metrics/epoch/val_accuracy', 'metrics/epoch/val_loss',\n",
       "       'performance metrics svm/accuracy', 'performance metrics svm/precision',\n",
       "       'performance metrics svm/recall', 'performance metrics svm/roc',\n",
       "       'performance metrics xgb/accuracy', 'performance metrics xgb/precision',\n",
       "       'performance metrics xgb/recall', 'performance metrics xgb/roc',\n",
       "       'performance metrics/accuracy', 'performance metrics/precision',\n",
       "       'performance metrics/recall', 'performance metrics/roc',\n",
       "       'source_code/entrypoint',\n",
       "       'source_code/integrations/neptune-tensorflow-keras', 'monitoring/cpu',\n",
       "       'monitoring/gpu', 'monitoring/gpu_memory', 'monitoring/memory',\n",
       "       'monitoring/stdout'],\n",
       "      dtype='object')"
      ]
     },
     "metadata": {},
     "execution_count": 7
    }
   ],
   "source": [
    "runs_df.columns"
   ]
  },
  {
   "cell_type": "code",
   "execution_count": null,
   "metadata": {},
   "outputs": [],
   "source": []
  }
 ]
}