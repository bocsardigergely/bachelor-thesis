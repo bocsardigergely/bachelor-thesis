{
 "metadata": {
  "language_info": {
   "codemirror_mode": {
    "name": "ipython",
    "version": 3
   },
   "file_extension": ".py",
   "mimetype": "text/x-python",
   "name": "python",
   "nbconvert_exporter": "python",
   "pygments_lexer": "ipython3",
   "version": "3.8.3-final"
  },
  "orig_nbformat": 2,
  "kernelspec": {
   "name": "python3",
   "display_name": "Python 3.8.3 64-bit (conda)",
   "metadata": {
    "interpreter": {
     "hash": "b3ba2566441a7c06988d0923437866b63cedc61552a5af99d1f4fb67d367b25f"
    }
   }
  }
 },
 "nbformat": 4,
 "nbformat_minor": 2,
 "cells": [
  {
   "cell_type": "code",
   "execution_count": 8,
   "metadata": {},
   "outputs": [],
   "source": [
    "import pandas as pd\n",
    "from datetime import datetime\n"
   ]
  },
  {
   "source": [
    "# Loading data from the linked repo"
   ],
   "cell_type": "markdown",
   "metadata": {}
  },
  {
   "cell_type": "code",
   "execution_count": 71,
   "metadata": {},
   "outputs": [
    {
     "output_type": "stream",
     "name": "stderr",
     "text": [
      "C:\\ProgramData\\Anaconda3\\lib\\site-packages\\IPython\\core\\interactiveshell.py:3071: DtypeWarning: Columns (3,4,5,8,9,10,11,14,16,18,19) have mixed types.Specify dtype option on import or set low_memory=False.\n  has_raised = await self.run_ast_nodes(code_ast.body, cell_name,\n"
     ]
    }
   ],
   "source": [
    "raw_data = pd.read_csv(\"../data/final_dank.csv\")\n"
   ]
  },
  {
   "source": [
    "# Selecting relevant attributes"
   ],
   "cell_type": "markdown",
   "metadata": {}
  },
  {
   "cell_type": "code",
   "execution_count": 72,
   "metadata": {},
   "outputs": [
    {
     "output_type": "stream",
     "name": "stdout",
     "text": [
      "['awards' 'processed_words' 'created_utc' 'downs' 'id' 'is_nsfw' 'media'\n 'subreddit' 'subscribers' 'thumbnail.height' 'thumbnail.thumbnail'\n 'thumbnail.width' 'title' 'ups' 'url' 'datetime_temp' 'time_of_day'\n 'ups_normed' 'dank_level' 'TextLength' 'Sentiment' 'word_count']\n-----------------\n['processed_words' 'title' 'ups' 'ups_normed' 'dank_level' 'TextLength'\n 'Sentiment' 'word_count']\n"
     ]
    }
   ],
   "source": [
    "l = list(raw_data.columns.values)\n",
    "\n",
    "l1 = l[4:26]\n",
    "data = raw_data[l1]\n",
    "print(data.columns.values)\n",
    "data1 = data.drop(columns=['is_nsfw','media','thumbnail.height', 'thumbnail.thumbnail', 'thumbnail.width','time_of_day', 'datetime_temp', 'id', 'subreddit', 'url', 'created_utc', 'subscribers', 'downs', 'awards'])\n",
    "print(\"-----------------\")\n",
    "print(data1.columns.values)"
   ]
  },
  {
   "cell_type": "code",
   "execution_count": 67,
   "metadata": {},
   "outputs": [
    {
     "output_type": "execute_result",
     "data": {
      "text/plain": [
       "array([ 0.,  1., nan])"
      ]
     },
     "metadata": {},
     "execution_count": 67
    }
   ],
   "source": [
    "data1['dank_level'].unique()\n",
    "# ezzel ez lesz a célváltozónk, bináris osztályozás esetén"
   ]
  },
  {
   "cell_type": "code",
   "execution_count": 74,
   "metadata": {},
   "outputs": [
    {
     "output_type": "execute_result",
     "data": {
      "text/plain": [
       "6196"
      ]
     },
     "metadata": {},
     "execution_count": 74
    }
   ],
   "source": [
    "data1['dank_level'].isna().sum()"
   ]
  },
  {
   "cell_type": "code",
   "execution_count": null,
   "metadata": {},
   "outputs": [],
   "source": []
  }
 ]
}