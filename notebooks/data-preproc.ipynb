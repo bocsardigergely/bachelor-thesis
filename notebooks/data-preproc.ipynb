{
 "metadata": {
  "language_info": {
   "codemirror_mode": {
    "name": "ipython",
    "version": 3
   },
   "file_extension": ".py",
   "mimetype": "text/x-python",
   "name": "python",
   "nbconvert_exporter": "python",
   "pygments_lexer": "ipython3",
   "version": "3.8.3-final"
  },
  "orig_nbformat": 2,
  "kernelspec": {
   "name": "python3",
   "display_name": "Python 3.8.3 64-bit (conda)",
   "metadata": {
    "interpreter": {
     "hash": "b3ba2566441a7c06988d0923437866b63cedc61552a5af99d1f4fb67d367b25f"
    }
   }
  }
 },
 "nbformat": 4,
 "nbformat_minor": 2,
 "cells": [
  {
   "cell_type": "code",
   "execution_count": 32,
   "metadata": {},
   "outputs": [],
   "source": [
    "import pandas as pd\n",
    "from datetime import datetime\n",
    "import nltk\n",
    "from nltk.tokenize import sent_tokenize, word_tokenize\n",
    "import re\n",
    "from nltk.corpus import stopwords\n"
   ]
  },
  {
   "source": [
    "# Loading data from the linked repo"
   ],
   "cell_type": "markdown",
   "metadata": {}
  },
  {
   "cell_type": "code",
   "execution_count": 3,
   "metadata": {},
   "outputs": [
    {
     "output_type": "stream",
     "name": "stderr",
     "text": [
      "C:\\ProgramData\\Anaconda3\\lib\\site-packages\\IPython\\core\\interactiveshell.py:3071: DtypeWarning: Columns (3,4,5,8,9,10,11,14,16,18,19) have mixed types.Specify dtype option on import or set low_memory=False.\n  has_raised = await self.run_ast_nodes(code_ast.body, cell_name,\n"
     ]
    }
   ],
   "source": [
    "raw_data = pd.read_csv(\"../data/final_dank.csv\")\n"
   ]
  },
  {
   "source": [
    "# Selecting relevant attributes"
   ],
   "cell_type": "markdown",
   "metadata": {}
  },
  {
   "cell_type": "code",
   "execution_count": 4,
   "metadata": {},
   "outputs": [
    {
     "output_type": "stream",
     "name": "stdout",
     "text": [
      "['awards' 'processed_words' 'created_utc' 'downs' 'id' 'is_nsfw' 'media'\n 'subreddit' 'subscribers' 'thumbnail.height' 'thumbnail.thumbnail'\n 'thumbnail.width' 'title' 'ups' 'url' 'datetime_temp' 'time_of_day'\n 'ups_normed' 'dank_level' 'TextLength' 'Sentiment' 'word_count']\n-----------------\n['processed_words' 'title' 'ups' 'ups_normed' 'dank_level' 'TextLength'\n 'Sentiment' 'word_count']\n"
     ]
    }
   ],
   "source": [
    "l = list(raw_data.columns.values)\n",
    "\n",
    "l1 = l[4:26]\n",
    "data = raw_data[l1]\n",
    "print(data.columns.values)\n",
    "data1 = data.drop(columns=['is_nsfw','media','thumbnail.height', 'thumbnail.thumbnail', 'thumbnail.width','time_of_day', 'datetime_temp', 'id', 'subreddit', 'url', 'created_utc', 'subscribers', 'downs', 'awards'])\n",
    "print(\"-----------------\")\n",
    "print(data1.columns.values)"
   ]
  },
  {
   "cell_type": "code",
   "execution_count": 5,
   "metadata": {},
   "outputs": [
    {
     "output_type": "execute_result",
     "data": {
      "text/plain": [
       "array([ 0.,  1., nan])"
      ]
     },
     "metadata": {},
     "execution_count": 5
    }
   ],
   "source": [
    "data1['dank_level'].unique()\n",
    "# ezzel ez lesz a célváltozónk, bináris osztályozás esetén"
   ]
  },
  {
   "cell_type": "code",
   "execution_count": 8,
   "metadata": {},
   "outputs": [
    {
     "output_type": "execute_result",
     "data": {
      "text/plain": [
       "                                         processed_words  \\\n",
       "0      ['sometimesth', 'face', 'go', 'work', 'get', '...   \n",
       "1      ['time', 'come', 'barter', 'pandem', 'day', 'r...   \n",
       "2      ['gang', 'derin', 'mlke', 'wey', 'stealin', 's...   \n",
       "3      ['desper', 'time', 'desper', 'hoard', 'toilet'...   \n",
       "4      ['desper', 'time', 'desper', 'hoard', 'toilet'...   \n",
       "...                                                  ...   \n",
       "69937  ['stop', 'act', 'like', 'onegover', 'work', 'h...   \n",
       "69938                ['go', 'right', 'choos', 'fighter']   \n",
       "69939  ['pound', 'multi', 'million', 'dollar', 'compa...   \n",
       "69940                        ['second', 'virus', 'kill']   \n",
       "69941   ['onegovern', 'work', 'home', 'grave', 'digger']   \n",
       "\n",
       "                                                   title   ups  ups_normed  \\\n",
       "0                          It just be that way sometimes   1.0    0.000001   \n",
       "1      The time has come for the barter of pandemic d...  27.0    0.000036   \n",
       "2                                   Day 10 of quarantine   1.0    0.000001   \n",
       "3                   Desperate times, Desperate solutions   1.0    0.000001   \n",
       "4                   Desperate times, Desperate solutions   1.0    0.000001   \n",
       "...                                                  ...   ...         ...   \n",
       "69937                               stop acting like one   1.0    0.000021   \n",
       "69938        im going with the top right what about you?   1.0    0.000021   \n",
       "69939                                         SAM POUND!   1.0    0.000021   \n",
       "69940                                      My Second one   1.0    0.000021   \n",
       "69941                                       My first one   1.0    0.000021   \n",
       "\n",
       "       dank_level  TextLength  Sentiment  word_count  \n",
       "0             0.0       118.0       0.58         8.0  \n",
       "1             0.0        93.0       0.29         8.0  \n",
       "2             0.0       114.0       0.43         8.0  \n",
       "3             0.0        97.0       0.18         8.0  \n",
       "4             0.0        97.0       0.18         8.0  \n",
       "...           ...         ...        ...         ...  \n",
       "69937         0.0        55.0       0.43         7.0  \n",
       "69938         0.0        62.0       0.49         4.0  \n",
       "69939         0.0        98.0       0.59         8.0  \n",
       "69940         0.0        56.0       0.42         3.0  \n",
       "69941         0.0        54.0       0.42         5.0  \n",
       "\n",
       "[69942 rows x 8 columns]"
      ],
      "text/html": "<div>\n<style scoped>\n    .dataframe tbody tr th:only-of-type {\n        vertical-align: middle;\n    }\n\n    .dataframe tbody tr th {\n        vertical-align: top;\n    }\n\n    .dataframe thead th {\n        text-align: right;\n    }\n</style>\n<table border=\"1\" class=\"dataframe\">\n  <thead>\n    <tr style=\"text-align: right;\">\n      <th></th>\n      <th>processed_words</th>\n      <th>title</th>\n      <th>ups</th>\n      <th>ups_normed</th>\n      <th>dank_level</th>\n      <th>TextLength</th>\n      <th>Sentiment</th>\n      <th>word_count</th>\n    </tr>\n  </thead>\n  <tbody>\n    <tr>\n      <th>0</th>\n      <td>['sometimesth', 'face', 'go', 'work', 'get', '...</td>\n      <td>It just be that way sometimes</td>\n      <td>1.0</td>\n      <td>0.000001</td>\n      <td>0.0</td>\n      <td>118.0</td>\n      <td>0.58</td>\n      <td>8.0</td>\n    </tr>\n    <tr>\n      <th>1</th>\n      <td>['time', 'come', 'barter', 'pandem', 'day', 'r...</td>\n      <td>The time has come for the barter of pandemic d...</td>\n      <td>27.0</td>\n      <td>0.000036</td>\n      <td>0.0</td>\n      <td>93.0</td>\n      <td>0.29</td>\n      <td>8.0</td>\n    </tr>\n    <tr>\n      <th>2</th>\n      <td>['gang', 'derin', 'mlke', 'wey', 'stealin', 's...</td>\n      <td>Day 10 of quarantine</td>\n      <td>1.0</td>\n      <td>0.000001</td>\n      <td>0.0</td>\n      <td>114.0</td>\n      <td>0.43</td>\n      <td>8.0</td>\n    </tr>\n    <tr>\n      <th>3</th>\n      <td>['desper', 'time', 'desper', 'hoard', 'toilet'...</td>\n      <td>Desperate times, Desperate solutions</td>\n      <td>1.0</td>\n      <td>0.000001</td>\n      <td>0.0</td>\n      <td>97.0</td>\n      <td>0.18</td>\n      <td>8.0</td>\n    </tr>\n    <tr>\n      <th>4</th>\n      <td>['desper', 'time', 'desper', 'hoard', 'toilet'...</td>\n      <td>Desperate times, Desperate solutions</td>\n      <td>1.0</td>\n      <td>0.000001</td>\n      <td>0.0</td>\n      <td>97.0</td>\n      <td>0.18</td>\n      <td>8.0</td>\n    </tr>\n    <tr>\n      <th>...</th>\n      <td>...</td>\n      <td>...</td>\n      <td>...</td>\n      <td>...</td>\n      <td>...</td>\n      <td>...</td>\n      <td>...</td>\n      <td>...</td>\n    </tr>\n    <tr>\n      <th>69937</th>\n      <td>['stop', 'act', 'like', 'onegover', 'work', 'h...</td>\n      <td>stop acting like one</td>\n      <td>1.0</td>\n      <td>0.000021</td>\n      <td>0.0</td>\n      <td>55.0</td>\n      <td>0.43</td>\n      <td>7.0</td>\n    </tr>\n    <tr>\n      <th>69938</th>\n      <td>['go', 'right', 'choos', 'fighter']</td>\n      <td>im going with the top right what about you?</td>\n      <td>1.0</td>\n      <td>0.000021</td>\n      <td>0.0</td>\n      <td>62.0</td>\n      <td>0.49</td>\n      <td>4.0</td>\n    </tr>\n    <tr>\n      <th>69939</th>\n      <td>['pound', 'multi', 'million', 'dollar', 'compa...</td>\n      <td>SAM POUND!</td>\n      <td>1.0</td>\n      <td>0.000021</td>\n      <td>0.0</td>\n      <td>98.0</td>\n      <td>0.59</td>\n      <td>8.0</td>\n    </tr>\n    <tr>\n      <th>69940</th>\n      <td>['second', 'virus', 'kill']</td>\n      <td>My Second one</td>\n      <td>1.0</td>\n      <td>0.000021</td>\n      <td>0.0</td>\n      <td>56.0</td>\n      <td>0.42</td>\n      <td>3.0</td>\n    </tr>\n    <tr>\n      <th>69941</th>\n      <td>['onegovern', 'work', 'home', 'grave', 'digger']</td>\n      <td>My first one</td>\n      <td>1.0</td>\n      <td>0.000021</td>\n      <td>0.0</td>\n      <td>54.0</td>\n      <td>0.42</td>\n      <td>5.0</td>\n    </tr>\n  </tbody>\n</table>\n<p>69942 rows × 8 columns</p>\n</div>"
     },
     "metadata": {},
     "execution_count": 8
    }
   ],
   "source": [
    "# filtering where label is NA\n",
    "data_useful = data1.loc[data1['dank_level'].notna()]\n",
    "data_useful"
   ]
  },
  {
   "cell_type": "code",
   "execution_count": 28,
   "metadata": {},
   "outputs": [
    {
     "output_type": "stream",
     "name": "stdout",
     "text": [
      "The time has come for the barter of pandemic days.\nThe time has come for the barter of pandemic days \nthe time has come for the barter of pandemic days \n['time', 'come', 'barter', 'pandemic', 'days']\n"
     ]
    }
   ],
   "source": [
    "# testing some nltk\n",
    "tester = data_useful['title'][1]\n",
    "print(tester)\n",
    "# remove punctuation\n",
    "punctless = re.sub('[^a-zA-Z]', ' ', tester)\n",
    "print(punctless)\n",
    "# lowercase\n",
    "lowercase = punctless.lower()\n",
    "print(lowercase)\n",
    "# stopword removal\n",
    "words_list = lowercase.split()\n",
    "words_list =  [word for word in words_list if not word in set(stopwords.words('english'))]\n",
    "print(words_list)"
   ]
  },
  {
   "cell_type": "code",
   "execution_count": 35,
   "metadata": {},
   "outputs": [
    {
     "output_type": "stream",
     "name": "stdout",
     "text": [
      "['time', 'come', 'barter', 'pandem', 'day']\n"
     ]
    }
   ],
   "source": [
    "# first try at stemming\n",
    "from nltk.stem import PorterStemmer\n",
    "\n",
    "stemmer = PorterStemmer()\n",
    "word_stem = []\n",
    "for word in words_list:\n",
    "    word_stem.append(stemmer.stem(word))\n",
    "print(word_stem)"
   ]
  },
  {
   "cell_type": "code",
   "execution_count": 40,
   "metadata": {},
   "outputs": [],
   "source": [
    "# the processed words are not lemmatized as far as i know, will need to look into that\n",
    "from nltk.stem import WordNetLemmatizer\n",
    "lemmatizer = WordNetLemmatizer()\n",
    "\n"
   ]
  },
  {
   "cell_type": "code",
   "execution_count": 1,
   "metadata": {},
   "outputs": [],
   "source": [
    "from keras.datasets import imdb\n"
   ]
  },
  {
   "cell_type": "code",
   "execution_count": 2,
   "metadata": {},
   "outputs": [
    {
     "output_type": "stream",
     "name": "stdout",
     "text": [
      "Downloading data from https://storage.googleapis.com/tensorflow/tf-keras-datasets/imdb.npz\n",
      "17465344/17464789 [==============================] - 5s 0us/step\n"
     ]
    }
   ],
   "source": [
    "data = imdb.load_data(num_words=100)"
   ]
  },
  {
   "cell_type": "code",
   "execution_count": 3,
   "metadata": {},
   "outputs": [
    {
     "output_type": "execute_result",
     "data": {
      "text/plain": [
       "((array([list([1, 14, 22, 16, 43, 2, 2, 2, 2, 65, 2, 2, 66, 2, 4, 2, 36, 2, 5, 25, 2, 43, 2, 2, 50, 2, 2, 9, 35, 2, 2, 5, 2, 4, 2, 2, 2, 2, 2, 2, 39, 4, 2, 2, 2, 17, 2, 38, 13, 2, 4, 2, 50, 16, 6, 2, 2, 19, 14, 22, 4, 2, 2, 2, 4, 22, 71, 87, 12, 16, 43, 2, 38, 76, 15, 13, 2, 4, 22, 17, 2, 17, 12, 16, 2, 18, 2, 5, 62, 2, 12, 8, 2, 8, 2, 5, 4, 2, 2, 16, 2, 66, 2, 33, 4, 2, 12, 16, 38, 2, 5, 25, 2, 51, 36, 2, 48, 25, 2, 33, 6, 22, 12, 2, 28, 77, 52, 5, 14, 2, 16, 82, 2, 8, 4, 2, 2, 2, 15, 2, 4, 2, 7, 2, 5, 2, 36, 71, 43, 2, 2, 26, 2, 2, 46, 7, 4, 2, 2, 13, 2, 88, 4, 2, 15, 2, 98, 32, 2, 56, 26, 2, 6, 2, 2, 18, 4, 2, 22, 21, 2, 2, 26, 2, 5, 2, 30, 2, 18, 51, 36, 28, 2, 92, 25, 2, 4, 2, 65, 16, 38, 2, 88, 12, 16, 2, 5, 16, 2, 2, 2, 32, 15, 16, 2, 19, 2, 32]),\n",
       "         list([1, 2, 2, 2, 2, 78, 2, 5, 6, 2, 2, 2, 2, 26, 4, 2, 8, 2, 2, 14, 2, 20, 13, 2, 2, 2, 2, 5, 2, 2, 2, 21, 14, 69, 2, 8, 30, 23, 7, 4, 2, 2, 93, 4, 2, 9, 2, 2, 5, 2, 4, 2, 9, 35, 2, 4, 2, 9, 2, 2, 4, 2, 9, 4, 2, 2, 19, 4, 2, 5, 89, 29, 2, 46, 37, 4, 2, 9, 45, 43, 38, 2, 2, 2, 4, 2, 26, 2, 5, 2, 11, 2, 2, 4, 2, 9, 2, 2, 7, 2, 2, 2, 2, 2, 2, 2, 2, 15, 2, 2, 68, 2, 2, 15, 2, 2, 2, 98, 5, 4, 2, 9, 43, 2, 2, 15, 2, 2, 5, 2, 2, 11, 2, 2, 2, 50, 9, 2, 2, 2, 5, 2, 2, 2, 2, 5, 4, 2, 2, 2, 2, 18, 2, 32, 2, 2, 14, 9, 6, 2, 78, 22, 2, 64, 2, 9, 8, 2, 2, 23, 4, 2, 15, 16, 4, 2, 5, 28, 6, 52, 2, 2, 33, 89, 78, 2, 16, 2, 95]),\n",
       "         list([1, 14, 47, 8, 30, 31, 7, 4, 2, 2, 7, 4, 2, 54, 61, 2, 13, 71, 2, 14, 22, 2, 4, 2, 2, 12, 16, 2, 33, 75, 43, 2, 2, 4, 86, 2, 35, 2, 19, 2, 2, 2, 4, 2, 33, 89, 78, 12, 66, 16, 4, 2, 7, 4, 58, 2, 2, 11, 4, 2, 43, 2, 2, 8, 2, 85, 2, 42, 2, 2, 83, 68, 2, 15, 36, 2, 2, 2, 36, 69, 2, 2, 8, 2, 14, 2, 2, 18, 6, 22, 12, 2, 28, 2, 40, 6, 87, 2, 23, 2, 21, 23, 22, 12, 2, 40, 57, 31, 11, 4, 22, 47, 6, 2, 51, 9, 2, 23, 2, 2, 2, 2, 13, 2, 79, 2, 89, 2, 14, 9, 8, 2, 2, 2, 35, 2, 6, 2, 7, 2, 2]),\n",
       "         ...,\n",
       "         list([1, 11, 6, 2, 2, 2, 9, 6, 2, 2, 2, 45, 2, 84, 2, 2, 21, 4, 2, 84, 2, 2, 2, 2, 2, 2, 84, 5, 36, 28, 57, 2, 21, 8, 2, 8, 2, 5, 2, 84, 56, 18, 2, 14, 9, 31, 7, 4, 2, 2, 2, 2, 2, 18, 6, 20, 2, 2, 2, 12, 8, 2, 2, 8, 97, 6, 20, 53, 2, 74, 4, 2, 2, 2, 29, 2, 11, 2, 2, 45, 40, 29, 2, 2, 11, 6, 2, 2, 7, 2, 89, 2, 70, 29, 2, 4, 64, 2, 11, 4, 2, 26, 2, 4, 2, 2, 2, 5, 27, 2, 2, 2, 2, 2, 47, 84, 37, 2, 2, 14, 2, 10, 10, 61, 2, 2, 10, 10, 2, 2, 2, 34, 2, 2, 4, 65, 2, 4, 2, 7, 2, 5, 6, 2, 2, 2, 2, 2, 2, 7, 2, 4, 2, 2, 2, 2, 2, 5, 2, 18, 4, 2, 2, 2, 11, 2, 2, 4, 2, 2, 2, 2, 2, 2, 2, 2, 2, 7, 4, 59, 2, 4, 2, 2]),\n",
       "         list([1, 2, 2, 69, 72, 2, 13, 2, 2, 8, 12, 2, 23, 5, 16, 2, 2, 54, 2, 11, 2, 2, 45, 58, 2, 13, 2, 12, 16, 43, 23, 2, 5, 62, 30, 2, 2, 11, 2, 51, 2, 32, 61, 2, 71, 66, 2, 12, 2, 75, 2, 2, 8, 4, 2, 37, 69, 2, 2, 75, 2, 44, 2, 2, 5, 69, 2, 2, 2, 50, 2, 2, 23, 4, 2, 13, 2, 40, 5, 2, 4, 2, 16, 2, 13, 2, 40, 2, 2, 2, 2, 11, 2, 2, 25, 70, 2, 4, 2, 2, 13, 18, 31, 62, 40, 8, 2, 4, 2, 7, 14, 2, 5, 2, 25, 8, 2, 12, 2, 5, 2, 12, 2, 2, 2, 12, 6, 52, 58, 2, 92, 2, 2, 12, 39, 14, 2, 8, 15, 2, 5, 2, 12, 38, 84, 80, 2, 12, 9, 23]),\n",
       "         list([1, 17, 6, 2, 2, 7, 4, 2, 22, 45, 2, 8, 2, 14, 2, 4, 2, 2, 2, 5, 2, 2, 2, 2, 2, 2, 39, 14, 2, 4, 2, 9, 2, 50, 2, 12, 47, 4, 2, 5, 2, 7, 38, 2, 2, 2, 7, 4, 2, 2, 9, 24, 6, 78, 2, 17, 2, 2, 21, 27, 2, 2, 5, 2, 2, 92, 2, 4, 2, 7, 4, 2, 42, 97, 90, 35, 2, 2, 29, 2, 27, 2, 8, 97, 12, 2, 21, 2, 2, 9, 6, 66, 78, 2, 4, 2, 2, 5, 2, 2, 2, 2, 6, 2, 8, 2, 2, 2, 2, 5, 2, 2, 2, 2, 2, 2, 2, 8, 2, 2, 2, 21, 60, 27, 2, 9, 43, 2, 2, 2, 10, 10, 12, 2, 40, 4, 2, 20, 12, 16, 5, 2, 2, 72, 7, 51, 6, 2, 22, 4, 2, 2, 9])],\n",
       "        dtype=object),\n",
       "  array([1, 0, 0, ..., 0, 1, 0], dtype=int64)),\n",
       " (array([list([1, 2, 2, 14, 31, 6, 2, 10, 10, 2, 2, 5, 4, 2, 7, 4, 2, 2, 2, 2, 4, 2, 9, 2, 2, 2, 10, 10, 13, 92, 2, 89, 2, 2, 2, 28, 2, 14, 31, 23, 27, 2, 29, 2, 2, 8, 2, 14, 2, 2, 8, 2, 46, 5, 27, 2, 16, 2, 2, 38, 32, 25, 2, 2, 2, 14, 6, 2]),\n",
       "         list([1, 14, 22, 2, 6, 2, 7, 2, 88, 12, 2, 23, 2, 5, 2, 2, 4, 2, 9, 55, 2, 5, 2, 7, 4, 2, 2, 2, 23, 4, 2, 2, 11, 2, 2, 4, 2, 2, 2, 2, 21, 4, 22, 2, 8, 6, 2, 2, 10, 10, 4, 2, 2, 35, 2, 2, 19, 2, 2, 5, 2, 2, 45, 55, 2, 15, 2, 2, 2, 14, 2, 4, 2, 5, 2, 7, 27, 85, 2, 2, 4, 2, 2, 2, 2, 9, 2, 2, 5, 50, 13, 2, 51, 66, 2, 14, 22, 2, 9, 4, 2, 2, 34, 2, 2, 45, 2, 31, 7, 41, 2, 2, 21, 59, 2, 12, 38, 2, 5, 2, 15, 45, 2, 2, 2, 2, 6, 52, 2, 17, 4, 2, 2, 2, 2, 2, 2, 2, 2, 47, 6, 2, 2, 4, 2, 2, 2, 2, 4, 2, 7, 4, 65, 55, 73, 11, 2, 14, 20, 9, 6, 2, 2, 7, 2, 2, 2, 5, 2, 30, 2, 2, 56, 4, 2, 5, 2, 2, 8, 4, 2, 2, 2, 10, 10, 13, 2, 2, 2, 14, 9, 31, 7, 27, 2, 2, 15, 2, 19, 2, 2, 2, 2, 14, 22, 9, 2, 21, 45, 2, 5, 45, 2, 8, 2, 6, 2, 2, 2, 39, 4, 2, 48, 25, 2, 8, 67, 35, 2, 22, 49, 2, 60, 2, 2, 14, 9, 2, 4, 58, 10, 10, 2, 45, 55, 2, 8, 2, 11, 2, 2, 25, 2, 28, 8, 2, 12, 2, 4, 2]),\n",
       "         list([1, 2, 2, 2, 2, 2, 2, 4, 87, 2, 2, 7, 31, 2, 2, 7, 4, 2, 2, 2, 63, 29, 2, 2, 2, 2, 5, 17, 12, 2, 2, 2, 17, 6, 2, 2, 2, 16, 53, 2, 11, 2, 74, 4, 2, 21, 27, 2, 2, 8, 22, 2, 2, 2, 2, 2, 8, 35, 2, 2, 11, 22, 2, 54, 29, 2, 29, 2, 2, 2, 34, 2, 2, 2, 5, 2, 98, 31, 2, 33, 6, 58, 14, 2, 2, 8, 4, 2, 7, 2, 2, 2, 2, 4, 2, 2, 63, 29, 93, 11, 2, 11, 2, 33, 6, 58, 54, 2, 2, 2, 7, 32, 2, 16, 11, 94, 2, 10, 10, 4, 2, 2, 7, 4, 2, 2, 2, 2, 8, 2, 8, 2, 2, 31, 7, 27, 86, 2, 2, 16, 6, 2, 2, 2, 2, 2, 17, 2, 42, 4, 2, 37, 2, 6, 2, 6, 2, 7, 2, 2, 70, 30, 2, 11, 2, 32, 7, 2, 21, 2, 12, 9, 55, 2, 2, 2, 53, 33, 2, 2, 37, 70, 2, 4, 2, 2, 74, 2, 37, 62, 91, 2, 2, 4, 2, 2, 2, 2, 2, 5, 2, 12, 2, 2, 2, 5, 2, 2, 7, 4, 22, 2, 18, 2, 2, 2, 7, 4, 2, 71, 2, 2, 2, 2, 19, 2, 5, 2, 11, 2, 8, 2, 2, 4, 2, 2, 7, 4, 2, 10, 10, 2, 2, 9, 2, 11, 6, 2, 4, 2, 2, 2, 4, 2, 26, 2, 19, 68, 2, 5, 28, 2, 6, 2, 2, 8, 67, 51, 36, 70, 81, 8, 2, 2, 36, 2, 8, 2, 2, 18, 6, 2, 4, 2, 26, 2, 2, 11, 14, 2, 2, 12, 2, 28, 77, 2, 8, 97, 38, 2, 2, 2, 2, 2, 2, 2, 2, 18, 27, 2, 9, 2, 17, 6, 2, 2, 2, 2, 11, 4, 2, 37, 2, 40, 2, 2, 30, 2, 6, 2, 54, 2, 2, 98, 6, 2, 40, 2, 37, 2, 98, 4, 2, 2, 15, 14, 9, 57, 2, 5, 2, 6, 2, 2, 2, 2, 2, 98, 6, 2, 10, 10, 2, 19, 14, 2, 2, 2, 2, 37, 2, 2, 98, 4, 2, 2, 90, 19, 6, 2, 7, 2, 2, 2, 4, 2, 2, 2, 8, 2, 90, 4, 2, 8, 4, 2, 17, 2, 2, 2, 4, 2, 8, 2, 2, 4, 2, 2, 2, 4, 2, 5, 95, 2, 23, 6, 2, 2, 2, 2, 33, 2, 6, 2, 2, 2, 2, 2, 7, 4, 2, 2, 2, 4, 2, 54, 4, 2, 2, 2, 2, 53, 2, 2, 18, 2, 29, 2, 27, 2, 5, 2, 68, 2, 19, 2, 2, 4, 2, 7, 2, 65, 2, 34, 6, 2, 2, 43, 2, 29, 9, 2, 9, 2, 73, 2, 2, 10, 10, 2, 4, 58, 2, 54, 14, 2, 2, 22, 16, 93, 5, 2, 4, 2, 15, 12, 16, 93, 34, 6, 2, 2, 33, 4, 2, 7, 15, 2, 2, 2, 2, 12, 62, 30, 2, 8, 67, 14, 17, 6, 2, 44, 2, 2, 2, 2, 42, 2, 24, 28, 69, 2, 2, 11, 2, 54, 29, 93, 2, 21, 2, 2, 27, 2, 7, 2, 4, 22, 2, 17, 6, 2, 2, 7, 2, 2, 2, 2, 30, 4, 2, 2, 2, 2, 42, 2, 11, 4, 2, 42, 2, 2, 7, 2, 2, 15, 2, 94, 2, 2, 5, 9, 2, 34, 2, 45, 6, 2, 22, 60, 6, 2, 31, 11, 94, 2, 96, 21, 94, 2, 9, 57, 2]),\n",
       "         ...,\n",
       "         list([1, 13, 2, 15, 8, 2, 14, 9, 35, 32, 46, 2, 20, 62, 30, 2, 21, 45, 2, 78, 4, 2, 2, 2, 2, 2, 2, 2, 5, 2, 11, 2, 2, 89, 2, 4, 2, 2, 78, 21, 2, 2, 30, 2, 2, 15, 7, 2, 2, 2, 2, 2, 37, 2, 4, 2, 20, 2, 2, 40, 29, 2, 60, 2, 8, 30, 50, 2, 2, 80, 2, 12, 21, 2, 2]),\n",
       "         list([1, 11, 2, 2, 9, 4, 2, 20, 12, 2, 15, 94, 2, 2, 2, 39, 4, 86, 2, 8, 97, 14, 31, 33, 4, 2, 7, 2, 46, 2, 9, 2, 5, 4, 2, 47, 8, 79, 90, 2, 2, 2, 50, 6, 2, 2, 7, 9, 4, 78, 2, 15, 16, 2, 11, 4, 2, 20, 4, 2, 2, 5, 2, 5, 9, 2, 8, 79, 2, 4, 20, 47, 2, 57, 2, 2, 11, 12, 5, 55, 2, 2, 13, 2, 92, 2, 51, 45, 2, 71, 2, 13, 2, 14, 20, 6, 2, 7, 2]),\n",
       "         list([1, 6, 52, 2, 2, 22, 9, 2, 2, 8, 28, 2, 2, 2, 6, 2, 15, 47, 6, 2, 2, 8, 2, 5, 33, 2, 31, 55, 2, 2, 2, 2, 19, 2, 2, 5, 6, 2, 2, 4, 2, 2, 9, 2, 2, 11, 2, 2, 21, 4, 2, 2, 2, 50, 2, 2, 9, 6, 2, 17, 6, 2, 2, 21, 17, 6, 2, 2, 2, 2, 29, 2, 56, 96, 2, 2, 2, 9, 2, 21, 29, 2, 2, 19, 4, 78, 2, 7, 27, 2, 2, 2, 2, 2, 9, 6, 2, 17, 2, 5, 2, 2, 47, 77, 2, 14, 2, 2, 18, 2, 2, 2, 82, 2, 27, 2, 11, 6, 2, 2, 21, 50, 9, 57, 65, 12, 2, 53, 40, 35, 2, 7, 11, 4, 2, 7, 4, 2, 74, 6, 2, 22, 2, 19, 2, 2, 2, 2, 4, 91, 2, 2, 19, 14, 20, 9, 2, 2, 2, 4, 2, 25, 2, 4, 31, 12, 16, 93, 2, 34, 2, 2])],\n",
       "        dtype=object),\n",
       "  array([0, 1, 1, ..., 0, 0, 0], dtype=int64)))"
      ]
     },
     "metadata": {},
     "execution_count": 3
    }
   ],
   "source": [
    "data\n"
   ]
  },
  {
   "cell_type": "code",
   "execution_count": null,
   "metadata": {},
   "outputs": [],
   "source": []
  }
 ]
}