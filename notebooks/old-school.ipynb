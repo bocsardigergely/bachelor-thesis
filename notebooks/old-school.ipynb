{
 "metadata": {
  "language_info": {
   "codemirror_mode": {
    "name": "ipython",
    "version": 3
   },
   "file_extension": ".py",
   "mimetype": "text/x-python",
   "name": "python",
   "nbconvert_exporter": "python",
   "pygments_lexer": "ipython3",
   "version": "3.8.3-final"
  },
  "orig_nbformat": 2,
  "kernelspec": {
   "name": "python3",
   "display_name": "Python 3.8.3 64-bit (conda)",
   "metadata": {
    "interpreter": {
     "hash": "b3ba2566441a7c06988d0923437866b63cedc61552a5af99d1f4fb67d367b25f"
    }
   }
  }
 },
 "nbformat": 4,
 "nbformat_minor": 2,
 "cells": [
  {
   "cell_type": "code",
   "execution_count": 28,
   "metadata": {},
   "outputs": [],
   "source": [
    "import pandas as pd\n",
    "import ast\n",
    "from sklearn.model_selection import train_test_split"
   ]
  },
  {
   "cell_type": "code",
   "execution_count": 29,
   "metadata": {},
   "outputs": [
    {
     "output_type": "execute_result",
     "data": {
      "text/plain": [
       "                                     processed_words  \\\n",
       "0  [sometimesth, face, go, work, get, shoot, stro...   \n",
       "1  [time, come, barter, pandem, day, roll, toilet...   \n",
       "2  [gang, derin, mlke, wey, stealin, steve, panel...   \n",
       "3  [desper, time, desper, hoard, toilet, paper, b...   \n",
       "4  [desper, time, desper, hoard, toilet, paper, b...   \n",
       "\n",
       "                     processed_title   ups  ups_normed  TextLength  Sentiment  \\\n",
       "0                     [way, sometim]   1.0    0.000001       118.0       0.58   \n",
       "1  [time, come, barter, pandem, day]  27.0    0.000036        93.0       0.29   \n",
       "2                   [day, quarantin]   1.0    0.000001       114.0       0.43   \n",
       "3      [desper, time, desper, solut]   1.0    0.000001        97.0       0.18   \n",
       "4      [desper, time, desper, solut]   1.0    0.000001        97.0       0.18   \n",
       "\n",
       "   word_count  dank_level  \n",
       "0         8.0         0.0  \n",
       "1         8.0         0.0  \n",
       "2         8.0         0.0  \n",
       "3         8.0         0.0  \n",
       "4         8.0         0.0  "
      ],
      "text/html": "<div>\n<style scoped>\n    .dataframe tbody tr th:only-of-type {\n        vertical-align: middle;\n    }\n\n    .dataframe tbody tr th {\n        vertical-align: top;\n    }\n\n    .dataframe thead th {\n        text-align: right;\n    }\n</style>\n<table border=\"1\" class=\"dataframe\">\n  <thead>\n    <tr style=\"text-align: right;\">\n      <th></th>\n      <th>processed_words</th>\n      <th>processed_title</th>\n      <th>ups</th>\n      <th>ups_normed</th>\n      <th>TextLength</th>\n      <th>Sentiment</th>\n      <th>word_count</th>\n      <th>dank_level</th>\n    </tr>\n  </thead>\n  <tbody>\n    <tr>\n      <th>0</th>\n      <td>[sometimesth, face, go, work, get, shoot, stro...</td>\n      <td>[way, sometim]</td>\n      <td>1.0</td>\n      <td>0.000001</td>\n      <td>118.0</td>\n      <td>0.58</td>\n      <td>8.0</td>\n      <td>0.0</td>\n    </tr>\n    <tr>\n      <th>1</th>\n      <td>[time, come, barter, pandem, day, roll, toilet...</td>\n      <td>[time, come, barter, pandem, day]</td>\n      <td>27.0</td>\n      <td>0.000036</td>\n      <td>93.0</td>\n      <td>0.29</td>\n      <td>8.0</td>\n      <td>0.0</td>\n    </tr>\n    <tr>\n      <th>2</th>\n      <td>[gang, derin, mlke, wey, stealin, steve, panel...</td>\n      <td>[day, quarantin]</td>\n      <td>1.0</td>\n      <td>0.000001</td>\n      <td>114.0</td>\n      <td>0.43</td>\n      <td>8.0</td>\n      <td>0.0</td>\n    </tr>\n    <tr>\n      <th>3</th>\n      <td>[desper, time, desper, hoard, toilet, paper, b...</td>\n      <td>[desper, time, desper, solut]</td>\n      <td>1.0</td>\n      <td>0.000001</td>\n      <td>97.0</td>\n      <td>0.18</td>\n      <td>8.0</td>\n      <td>0.0</td>\n    </tr>\n    <tr>\n      <th>4</th>\n      <td>[desper, time, desper, hoard, toilet, paper, b...</td>\n      <td>[desper, time, desper, solut]</td>\n      <td>1.0</td>\n      <td>0.000001</td>\n      <td>97.0</td>\n      <td>0.18</td>\n      <td>8.0</td>\n      <td>0.0</td>\n    </tr>\n  </tbody>\n</table>\n</div>"
     },
     "metadata": {},
     "execution_count": 29
    }
   ],
   "source": [
    "data = pd.read_csv(\"../data/nlp_ready.csv\", converters={1:ast.literal_eval, 0:ast.literal_eval})\n",
    "data.head()"
   ]
  },
  {
   "cell_type": "code",
   "execution_count": 30,
   "metadata": {},
   "outputs": [],
   "source": [
    "from sklearn.feature_extraction.text import CountVectorizer\n",
    "vectorizer = CountVectorizer()\n",
    "\n"
   ]
  }
 ]
}