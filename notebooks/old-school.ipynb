{
 "metadata": {
  "language_info": {
   "codemirror_mode": {
    "name": "ipython",
    "version": 3
   },
   "file_extension": ".py",
   "mimetype": "text/x-python",
   "name": "python",
   "nbconvert_exporter": "python",
   "pygments_lexer": "ipython3",
   "version": "3.8.3-final"
  },
  "orig_nbformat": 2,
  "kernelspec": {
   "name": "python3",
   "display_name": "Python 3.8.3 64-bit (conda)",
   "metadata": {
    "interpreter": {
     "hash": "b3ba2566441a7c06988d0923437866b63cedc61552a5af99d1f4fb67d367b25f"
    }
   }
  }
 },
 "nbformat": 4,
 "nbformat_minor": 2,
 "cells": [
  {
   "cell_type": "code",
   "execution_count": 1,
   "metadata": {},
   "outputs": [],
   "source": [
    "import pandas as pd"
   ]
  },
  {
   "cell_type": "code",
   "execution_count": 4,
   "metadata": {},
   "outputs": [
    {
     "output_type": "execute_result",
     "data": {
      "text/plain": [
       "                                         processed_words  \\\n",
       "0      ['sometimesth', 'face', 'go', 'work', 'get', '...   \n",
       "1      ['time', 'come', 'barter', 'pandem', 'day', 'r...   \n",
       "2      ['gang', 'derin', 'mlke', 'wey', 'stealin', 's...   \n",
       "3      ['desper', 'time', 'desper', 'hoard', 'toilet'...   \n",
       "4      ['desper', 'time', 'desper', 'hoard', 'toilet'...   \n",
       "...                                                  ...   \n",
       "69937  ['stop', 'act', 'like', 'onegover', 'work', 'h...   \n",
       "69938                ['go', 'right', 'choos', 'fighter']   \n",
       "69939  ['pound', 'multi', 'million', 'dollar', 'compa...   \n",
       "69940                        ['second', 'virus', 'kill']   \n",
       "69941   ['onegovern', 'work', 'home', 'grave', 'digger']   \n",
       "\n",
       "                                   processed_title   ups  ups_normed  \\\n",
       "0                               ['way', 'sometim']   1.0    0.000001   \n",
       "1      ['time', 'come', 'barter', 'pandem', 'day']  27.0    0.000036   \n",
       "2                             ['day', 'quarantin']   1.0    0.000001   \n",
       "3            ['desper', 'time', 'desper', 'solut']   1.0    0.000001   \n",
       "4            ['desper', 'time', 'desper', 'solut']   1.0    0.000001   \n",
       "...                                            ...   ...         ...   \n",
       "69937               ['stop', 'act', 'like', 'one']   1.0    0.000021   \n",
       "69938                 ['im', 'go', 'top', 'right']   1.0    0.000021   \n",
       "69939                             ['sam', 'pound']   1.0    0.000021   \n",
       "69940                            ['second', 'one']   1.0    0.000021   \n",
       "69941                             ['first', 'one']   1.0    0.000021   \n",
       "\n",
       "       dank_level  TextLength  Sentiment  word_count  \n",
       "0             0.0       118.0       0.58         8.0  \n",
       "1             0.0        93.0       0.29         8.0  \n",
       "2             0.0       114.0       0.43         8.0  \n",
       "3             0.0        97.0       0.18         8.0  \n",
       "4             0.0        97.0       0.18         8.0  \n",
       "...           ...         ...        ...         ...  \n",
       "69937         0.0        55.0       0.43         7.0  \n",
       "69938         0.0        62.0       0.49         4.0  \n",
       "69939         0.0        98.0       0.59         8.0  \n",
       "69940         0.0        56.0       0.42         3.0  \n",
       "69941         0.0        54.0       0.42         5.0  \n",
       "\n",
       "[69942 rows x 8 columns]"
      ],
      "text/html": "<div>\n<style scoped>\n    .dataframe tbody tr th:only-of-type {\n        vertical-align: middle;\n    }\n\n    .dataframe tbody tr th {\n        vertical-align: top;\n    }\n\n    .dataframe thead th {\n        text-align: right;\n    }\n</style>\n<table border=\"1\" class=\"dataframe\">\n  <thead>\n    <tr style=\"text-align: right;\">\n      <th></th>\n      <th>processed_words</th>\n      <th>processed_title</th>\n      <th>ups</th>\n      <th>ups_normed</th>\n      <th>dank_level</th>\n      <th>TextLength</th>\n      <th>Sentiment</th>\n      <th>word_count</th>\n    </tr>\n  </thead>\n  <tbody>\n    <tr>\n      <th>0</th>\n      <td>['sometimesth', 'face', 'go', 'work', 'get', '...</td>\n      <td>['way', 'sometim']</td>\n      <td>1.0</td>\n      <td>0.000001</td>\n      <td>0.0</td>\n      <td>118.0</td>\n      <td>0.58</td>\n      <td>8.0</td>\n    </tr>\n    <tr>\n      <th>1</th>\n      <td>['time', 'come', 'barter', 'pandem', 'day', 'r...</td>\n      <td>['time', 'come', 'barter', 'pandem', 'day']</td>\n      <td>27.0</td>\n      <td>0.000036</td>\n      <td>0.0</td>\n      <td>93.0</td>\n      <td>0.29</td>\n      <td>8.0</td>\n    </tr>\n    <tr>\n      <th>2</th>\n      <td>['gang', 'derin', 'mlke', 'wey', 'stealin', 's...</td>\n      <td>['day', 'quarantin']</td>\n      <td>1.0</td>\n      <td>0.000001</td>\n      <td>0.0</td>\n      <td>114.0</td>\n      <td>0.43</td>\n      <td>8.0</td>\n    </tr>\n    <tr>\n      <th>3</th>\n      <td>['desper', 'time', 'desper', 'hoard', 'toilet'...</td>\n      <td>['desper', 'time', 'desper', 'solut']</td>\n      <td>1.0</td>\n      <td>0.000001</td>\n      <td>0.0</td>\n      <td>97.0</td>\n      <td>0.18</td>\n      <td>8.0</td>\n    </tr>\n    <tr>\n      <th>4</th>\n      <td>['desper', 'time', 'desper', 'hoard', 'toilet'...</td>\n      <td>['desper', 'time', 'desper', 'solut']</td>\n      <td>1.0</td>\n      <td>0.000001</td>\n      <td>0.0</td>\n      <td>97.0</td>\n      <td>0.18</td>\n      <td>8.0</td>\n    </tr>\n    <tr>\n      <th>...</th>\n      <td>...</td>\n      <td>...</td>\n      <td>...</td>\n      <td>...</td>\n      <td>...</td>\n      <td>...</td>\n      <td>...</td>\n      <td>...</td>\n    </tr>\n    <tr>\n      <th>69937</th>\n      <td>['stop', 'act', 'like', 'onegover', 'work', 'h...</td>\n      <td>['stop', 'act', 'like', 'one']</td>\n      <td>1.0</td>\n      <td>0.000021</td>\n      <td>0.0</td>\n      <td>55.0</td>\n      <td>0.43</td>\n      <td>7.0</td>\n    </tr>\n    <tr>\n      <th>69938</th>\n      <td>['go', 'right', 'choos', 'fighter']</td>\n      <td>['im', 'go', 'top', 'right']</td>\n      <td>1.0</td>\n      <td>0.000021</td>\n      <td>0.0</td>\n      <td>62.0</td>\n      <td>0.49</td>\n      <td>4.0</td>\n    </tr>\n    <tr>\n      <th>69939</th>\n      <td>['pound', 'multi', 'million', 'dollar', 'compa...</td>\n      <td>['sam', 'pound']</td>\n      <td>1.0</td>\n      <td>0.000021</td>\n      <td>0.0</td>\n      <td>98.0</td>\n      <td>0.59</td>\n      <td>8.0</td>\n    </tr>\n    <tr>\n      <th>69940</th>\n      <td>['second', 'virus', 'kill']</td>\n      <td>['second', 'one']</td>\n      <td>1.0</td>\n      <td>0.000021</td>\n      <td>0.0</td>\n      <td>56.0</td>\n      <td>0.42</td>\n      <td>3.0</td>\n    </tr>\n    <tr>\n      <th>69941</th>\n      <td>['onegovern', 'work', 'home', 'grave', 'digger']</td>\n      <td>['first', 'one']</td>\n      <td>1.0</td>\n      <td>0.000021</td>\n      <td>0.0</td>\n      <td>54.0</td>\n      <td>0.42</td>\n      <td>5.0</td>\n    </tr>\n  </tbody>\n</table>\n<p>69942 rows × 8 columns</p>\n</div>"
     },
     "metadata": {},
     "execution_count": 4
    }
   ],
   "source": [
    "data = pd.read_csv(\"../data/nlp_ready.csv\")\n",
    "data"
   ]
  },
  {
   "cell_type": "code",
   "execution_count": null,
   "metadata": {},
   "outputs": [],
   "source": []
  }
 ]
}