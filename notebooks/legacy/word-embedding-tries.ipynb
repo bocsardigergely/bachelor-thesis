{
 "metadata": {
  "language_info": {
   "codemirror_mode": {
    "name": "ipython",
    "version": 3
   },
   "file_extension": ".py",
   "mimetype": "text/x-python",
   "name": "python",
   "nbconvert_exporter": "python",
   "pygments_lexer": "ipython3",
   "version": "3.8.3"
  },
  "orig_nbformat": 2,
  "kernelspec": {
   "name": "python383jvsc74a57bd0b3ba2566441a7c06988d0923437866b63cedc61552a5af99d1f4fb67d367b25f",
   "display_name": "Python 3.8.3 64-bit ('base': conda)"
  }
 },
 "nbformat": 4,
 "nbformat_minor": 2,
 "cells": [
  {
   "cell_type": "code",
   "execution_count": 41,
   "metadata": {},
   "outputs": [],
   "source": [
    "import pandas as pd\n",
    "import numpy as np"
   ]
  },
  {
   "cell_type": "code",
   "execution_count": 42,
   "metadata": {},
   "outputs": [
    {
     "output_type": "execute_result",
     "data": {
      "text/plain": [
       "                                     processed_words\n",
       "0  sometimesth face go work get shoot strong anti...\n",
       "1  time come barter pandem day roll toilet paper ...\n",
       "2  gang derin mlke wey stealin steve panel theft ...\n",
       "3  desper time desper hoard toilet paper buy bide...\n",
       "4  desper time desper hoard toilet paper buy bide..."
      ],
      "text/html": "<div>\n<style scoped>\n    .dataframe tbody tr th:only-of-type {\n        vertical-align: middle;\n    }\n\n    .dataframe tbody tr th {\n        vertical-align: top;\n    }\n\n    .dataframe thead th {\n        text-align: right;\n    }\n</style>\n<table border=\"1\" class=\"dataframe\">\n  <thead>\n    <tr style=\"text-align: right;\">\n      <th></th>\n      <th>processed_words</th>\n    </tr>\n  </thead>\n  <tbody>\n    <tr>\n      <th>0</th>\n      <td>sometimesth face go work get shoot strong anti...</td>\n    </tr>\n    <tr>\n      <th>1</th>\n      <td>time come barter pandem day roll toilet paper ...</td>\n    </tr>\n    <tr>\n      <th>2</th>\n      <td>gang derin mlke wey stealin steve panel theft ...</td>\n    </tr>\n    <tr>\n      <th>3</th>\n      <td>desper time desper hoard toilet paper buy bide...</td>\n    </tr>\n    <tr>\n      <th>4</th>\n      <td>desper time desper hoard toilet paper buy bide...</td>\n    </tr>\n  </tbody>\n</table>\n</div>"
     },
     "metadata": {},
     "execution_count": 42
    }
   ],
   "source": [
    "data = pd.read_csv(\"../../data/nlp_ready.csv\")\n",
    "text = data[['processed_words']]\n",
    "y = data[\"dank_level\"]\n",
    "feats =  data.drop(columns=['processed_words',\"dank_level\"])\n",
    "text.head()"
   ]
  },
  {
   "cell_type": "code",
   "execution_count": 44,
   "metadata": {},
   "outputs": [
    {
     "output_type": "stream",
     "name": "stderr",
     "text": [
      "<ipython-input-44-b0aef7583e5a>:1: SettingWithCopyWarning: \nA value is trying to be set on a copy of a slice from a DataFrame.\nTry using .loc[row_indexer,col_indexer] = value instead\n\nSee the caveats in the documentation: https://pandas.pydata.org/pandas-docs/stable/user_guide/indexing.html#returning-a-view-versus-a-copy\n  text[\"lists\"] = text[\"processed_words\"].str.split()\n"
     ]
    }
   ],
   "source": [
    "text[\"lists\"] = text[\"processed_words\"].str.split()\n",
    "documents = text[\"lists\"].to_numpy()"
   ]
  },
  {
   "cell_type": "code",
   "execution_count": 80,
   "metadata": {},
   "outputs": [],
   "source": [
    "from gensim.models import Word2Vec\n",
    "#testing with small sizes\n",
    "cbow = Word2Vec(sentences=documents, size=100, window=5, min_count=1)\n",
    "skipgram = Word2Vec(sentences=documents, size=100, window=5, min_count=1, sg=1)"
   ]
  },
  {
   "cell_type": "code",
   "execution_count": 66,
   "metadata": {},
   "outputs": [
    {
     "output_type": "stream",
     "name": "stderr",
     "text": [
      "<ipython-input-66-e4410a1b6dba>:1: DeprecationWarning: Call to deprecated `__getitem__` (Method will be removed in 4.0.0, use self.wv.__getitem__() instead).\n  cbow[str(documents[0][0])]\n"
     ]
    },
    {
     "output_type": "execute_result",
     "data": {
      "text/plain": [
       "array([ 0.01133549, -0.03017242, -0.01217327,  0.09275061, -0.08343704],\n",
       "      dtype=float32)"
      ]
     },
     "metadata": {},
     "execution_count": 66
    }
   ],
   "source": [
    "cbow[str(documents[0][0])]"
   ]
  },
  {
   "cell_type": "code",
   "execution_count": 84,
   "metadata": {
    "tags": []
   },
   "outputs": [
    {
     "output_type": "execute_result",
     "data": {
      "text/plain": [
       "True"
      ]
     },
     "metadata": {},
     "execution_count": 84
    }
   ],
   "source": [
    "# transforming every sentence to a vector, by calculating element-wise mean of word vectors\n",
    "sentence_vectors_cbow = []\n",
    "for sentence in documents:\n",
    "        s2v = np.empty(100)\n",
    "        for word in sentence:\n",
    "            s2v += np.array(cbow.wv[str(word)])\n",
    "            s2v = s2v/100\n",
    "            s2v = s2v.tolist()\n",
    "        sentence_vectors_cbow.append(s2v)\n",
    "        \n",
    "len(sentence_vectors_cbow) ==  len(documents)"
   ]
  },
  {
   "cell_type": "code",
   "execution_count": 85,
   "metadata": {},
   "outputs": [
    {
     "output_type": "execute_result",
     "data": {
      "text/plain": [
       "True"
      ]
     },
     "metadata": {},
     "execution_count": 85
    }
   ],
   "source": [
    "sentence_vectors_sg = []\n",
    "for sentence in documents:\n",
    "        s2v = np.empty(100)\n",
    "        for word in sentence:\n",
    "            s2v += np.array(skipgram.wv[str(word)])\n",
    "            s2v = s2v/100\n",
    "            s2v = s2v.tolist()\n",
    "        sentence_vectors_sg.append(s2v)\n",
    "        \n",
    "len(sentence_vectors_sg) ==  len(documents)"
   ]
  },
  {
   "cell_type": "code",
   "execution_count": 92,
   "metadata": {},
   "outputs": [],
   "source": [
    "df = pd.DataFrame(sentence_vectors_cbow)\n"
   ]
  },
  {
   "cell_type": "code",
   "execution_count": 93,
   "metadata": {},
   "outputs": [
    {
     "output_type": "execute_result",
     "data": {
      "text/plain": [
       "              0         1         2         3         4         5         6  \\\n",
       "0      0.002197  0.004294 -0.005820  0.005491  0.003385  0.004202  0.005310   \n",
       "1      0.012902 -0.002432 -0.018522  0.016389  0.005225  0.012974  0.005022   \n",
       "2      0.009009  0.001373 -0.018691 -0.006839  0.005037  0.008571  0.015478   \n",
       "3      0.005063 -0.005475 -0.011045 -0.003705  0.014906  0.007435  0.010731   \n",
       "4      0.005063 -0.005475 -0.011045 -0.003705  0.014906  0.007435  0.010731   \n",
       "...         ...       ...       ...       ...       ...       ...       ...   \n",
       "69882  0.003429  0.003904 -0.015789  0.015561 -0.004334  0.005230  0.010609   \n",
       "69883  0.006864  0.002075 -0.016843  0.010943  0.006323  0.003728  0.015858   \n",
       "69884  0.000766 -0.000090 -0.005835  0.002721  0.005020  0.003131  0.002816   \n",
       "69885  0.003398  0.003783 -0.015894  0.015707 -0.004363  0.005307  0.010590   \n",
       "69886  0.003433  0.003788 -0.015841  0.015696 -0.004378  0.005222  0.010461   \n",
       "\n",
       "              7         8         9  ...        95        96        97  \\\n",
       "0      0.003124 -0.002318  0.001052  ... -0.000932 -0.002146 -0.002761   \n",
       "1      0.020201 -0.003501 -0.021168  ...  0.002534  0.000761 -0.010383   \n",
       "2      0.020119  0.006907 -0.020520  ... -0.007494  0.003019 -0.018000   \n",
       "3     -0.001958  0.002173 -0.005373  ...  0.000976  0.009812  0.000450   \n",
       "4     -0.001958  0.002173 -0.005373  ...  0.000976  0.009812  0.000450   \n",
       "...         ...       ...       ...  ...       ...       ...       ...   \n",
       "69882  0.013499 -0.001618 -0.004319  ...  0.004212 -0.000318 -0.000912   \n",
       "69883  0.007458 -0.002882  0.000154  ...  0.001226 -0.002089  0.002200   \n",
       "69884  0.000439 -0.000102 -0.001542  ... -0.000028 -0.000348  0.000429   \n",
       "69885  0.013508 -0.001614 -0.004484  ...  0.004358 -0.000213 -0.000909   \n",
       "69886  0.013578 -0.001613 -0.004376  ...  0.004291 -0.000282 -0.000881   \n",
       "\n",
       "             98        99   ups  ups_normed  TextLength  Sentiment  word_count  \n",
       "0      0.003133  0.003594   1.0    0.000001       118.0       0.58         8.0  \n",
       "1      0.014675 -0.000514  27.0    0.000036        93.0       0.29         8.0  \n",
       "2      0.009006 -0.003880   1.0    0.000001       114.0       0.43         8.0  \n",
       "3     -0.004998  0.009342   1.0    0.000001        97.0       0.18         8.0  \n",
       "4     -0.004998  0.009342   1.0    0.000001        97.0       0.18         8.0  \n",
       "...         ...       ...   ...         ...         ...        ...         ...  \n",
       "69882  0.011339  0.000059   1.0    0.000021        55.0       0.43         7.0  \n",
       "69883 -0.000066 -0.002564   1.0    0.000021        62.0       0.49         4.0  \n",
       "69884 -0.000115  0.004258   1.0    0.000021        98.0       0.59         8.0  \n",
       "69885  0.011362  0.000056   1.0    0.000021        56.0       0.42         3.0  \n",
       "69886  0.011393 -0.000011   1.0    0.000021        54.0       0.42         5.0  \n",
       "\n",
       "[69887 rows x 105 columns]"
      ],
      "text/html": "<div>\n<style scoped>\n    .dataframe tbody tr th:only-of-type {\n        vertical-align: middle;\n    }\n\n    .dataframe tbody tr th {\n        vertical-align: top;\n    }\n\n    .dataframe thead th {\n        text-align: right;\n    }\n</style>\n<table border=\"1\" class=\"dataframe\">\n  <thead>\n    <tr style=\"text-align: right;\">\n      <th></th>\n      <th>0</th>\n      <th>1</th>\n      <th>2</th>\n      <th>3</th>\n      <th>4</th>\n      <th>5</th>\n      <th>6</th>\n      <th>7</th>\n      <th>8</th>\n      <th>9</th>\n      <th>...</th>\n      <th>95</th>\n      <th>96</th>\n      <th>97</th>\n      <th>98</th>\n      <th>99</th>\n      <th>ups</th>\n      <th>ups_normed</th>\n      <th>TextLength</th>\n      <th>Sentiment</th>\n      <th>word_count</th>\n    </tr>\n  </thead>\n  <tbody>\n    <tr>\n      <th>0</th>\n      <td>0.002197</td>\n      <td>0.004294</td>\n      <td>-0.005820</td>\n      <td>0.005491</td>\n      <td>0.003385</td>\n      <td>0.004202</td>\n      <td>0.005310</td>\n      <td>0.003124</td>\n      <td>-0.002318</td>\n      <td>0.001052</td>\n      <td>...</td>\n      <td>-0.000932</td>\n      <td>-0.002146</td>\n      <td>-0.002761</td>\n      <td>0.003133</td>\n      <td>0.003594</td>\n      <td>1.0</td>\n      <td>0.000001</td>\n      <td>118.0</td>\n      <td>0.58</td>\n      <td>8.0</td>\n    </tr>\n    <tr>\n      <th>1</th>\n      <td>0.012902</td>\n      <td>-0.002432</td>\n      <td>-0.018522</td>\n      <td>0.016389</td>\n      <td>0.005225</td>\n      <td>0.012974</td>\n      <td>0.005022</td>\n      <td>0.020201</td>\n      <td>-0.003501</td>\n      <td>-0.021168</td>\n      <td>...</td>\n      <td>0.002534</td>\n      <td>0.000761</td>\n      <td>-0.010383</td>\n      <td>0.014675</td>\n      <td>-0.000514</td>\n      <td>27.0</td>\n      <td>0.000036</td>\n      <td>93.0</td>\n      <td>0.29</td>\n      <td>8.0</td>\n    </tr>\n    <tr>\n      <th>2</th>\n      <td>0.009009</td>\n      <td>0.001373</td>\n      <td>-0.018691</td>\n      <td>-0.006839</td>\n      <td>0.005037</td>\n      <td>0.008571</td>\n      <td>0.015478</td>\n      <td>0.020119</td>\n      <td>0.006907</td>\n      <td>-0.020520</td>\n      <td>...</td>\n      <td>-0.007494</td>\n      <td>0.003019</td>\n      <td>-0.018000</td>\n      <td>0.009006</td>\n      <td>-0.003880</td>\n      <td>1.0</td>\n      <td>0.000001</td>\n      <td>114.0</td>\n      <td>0.43</td>\n      <td>8.0</td>\n    </tr>\n    <tr>\n      <th>3</th>\n      <td>0.005063</td>\n      <td>-0.005475</td>\n      <td>-0.011045</td>\n      <td>-0.003705</td>\n      <td>0.014906</td>\n      <td>0.007435</td>\n      <td>0.010731</td>\n      <td>-0.001958</td>\n      <td>0.002173</td>\n      <td>-0.005373</td>\n      <td>...</td>\n      <td>0.000976</td>\n      <td>0.009812</td>\n      <td>0.000450</td>\n      <td>-0.004998</td>\n      <td>0.009342</td>\n      <td>1.0</td>\n      <td>0.000001</td>\n      <td>97.0</td>\n      <td>0.18</td>\n      <td>8.0</td>\n    </tr>\n    <tr>\n      <th>4</th>\n      <td>0.005063</td>\n      <td>-0.005475</td>\n      <td>-0.011045</td>\n      <td>-0.003705</td>\n      <td>0.014906</td>\n      <td>0.007435</td>\n      <td>0.010731</td>\n      <td>-0.001958</td>\n      <td>0.002173</td>\n      <td>-0.005373</td>\n      <td>...</td>\n      <td>0.000976</td>\n      <td>0.009812</td>\n      <td>0.000450</td>\n      <td>-0.004998</td>\n      <td>0.009342</td>\n      <td>1.0</td>\n      <td>0.000001</td>\n      <td>97.0</td>\n      <td>0.18</td>\n      <td>8.0</td>\n    </tr>\n    <tr>\n      <th>...</th>\n      <td>...</td>\n      <td>...</td>\n      <td>...</td>\n      <td>...</td>\n      <td>...</td>\n      <td>...</td>\n      <td>...</td>\n      <td>...</td>\n      <td>...</td>\n      <td>...</td>\n      <td>...</td>\n      <td>...</td>\n      <td>...</td>\n      <td>...</td>\n      <td>...</td>\n      <td>...</td>\n      <td>...</td>\n      <td>...</td>\n      <td>...</td>\n      <td>...</td>\n      <td>...</td>\n    </tr>\n    <tr>\n      <th>69882</th>\n      <td>0.003429</td>\n      <td>0.003904</td>\n      <td>-0.015789</td>\n      <td>0.015561</td>\n      <td>-0.004334</td>\n      <td>0.005230</td>\n      <td>0.010609</td>\n      <td>0.013499</td>\n      <td>-0.001618</td>\n      <td>-0.004319</td>\n      <td>...</td>\n      <td>0.004212</td>\n      <td>-0.000318</td>\n      <td>-0.000912</td>\n      <td>0.011339</td>\n      <td>0.000059</td>\n      <td>1.0</td>\n      <td>0.000021</td>\n      <td>55.0</td>\n      <td>0.43</td>\n      <td>7.0</td>\n    </tr>\n    <tr>\n      <th>69883</th>\n      <td>0.006864</td>\n      <td>0.002075</td>\n      <td>-0.016843</td>\n      <td>0.010943</td>\n      <td>0.006323</td>\n      <td>0.003728</td>\n      <td>0.015858</td>\n      <td>0.007458</td>\n      <td>-0.002882</td>\n      <td>0.000154</td>\n      <td>...</td>\n      <td>0.001226</td>\n      <td>-0.002089</td>\n      <td>0.002200</td>\n      <td>-0.000066</td>\n      <td>-0.002564</td>\n      <td>1.0</td>\n      <td>0.000021</td>\n      <td>62.0</td>\n      <td>0.49</td>\n      <td>4.0</td>\n    </tr>\n    <tr>\n      <th>69884</th>\n      <td>0.000766</td>\n      <td>-0.000090</td>\n      <td>-0.005835</td>\n      <td>0.002721</td>\n      <td>0.005020</td>\n      <td>0.003131</td>\n      <td>0.002816</td>\n      <td>0.000439</td>\n      <td>-0.000102</td>\n      <td>-0.001542</td>\n      <td>...</td>\n      <td>-0.000028</td>\n      <td>-0.000348</td>\n      <td>0.000429</td>\n      <td>-0.000115</td>\n      <td>0.004258</td>\n      <td>1.0</td>\n      <td>0.000021</td>\n      <td>98.0</td>\n      <td>0.59</td>\n      <td>8.0</td>\n    </tr>\n    <tr>\n      <th>69885</th>\n      <td>0.003398</td>\n      <td>0.003783</td>\n      <td>-0.015894</td>\n      <td>0.015707</td>\n      <td>-0.004363</td>\n      <td>0.005307</td>\n      <td>0.010590</td>\n      <td>0.013508</td>\n      <td>-0.001614</td>\n      <td>-0.004484</td>\n      <td>...</td>\n      <td>0.004358</td>\n      <td>-0.000213</td>\n      <td>-0.000909</td>\n      <td>0.011362</td>\n      <td>0.000056</td>\n      <td>1.0</td>\n      <td>0.000021</td>\n      <td>56.0</td>\n      <td>0.42</td>\n      <td>3.0</td>\n    </tr>\n    <tr>\n      <th>69886</th>\n      <td>0.003433</td>\n      <td>0.003788</td>\n      <td>-0.015841</td>\n      <td>0.015696</td>\n      <td>-0.004378</td>\n      <td>0.005222</td>\n      <td>0.010461</td>\n      <td>0.013578</td>\n      <td>-0.001613</td>\n      <td>-0.004376</td>\n      <td>...</td>\n      <td>0.004291</td>\n      <td>-0.000282</td>\n      <td>-0.000881</td>\n      <td>0.011393</td>\n      <td>-0.000011</td>\n      <td>1.0</td>\n      <td>0.000021</td>\n      <td>54.0</td>\n      <td>0.42</td>\n      <td>5.0</td>\n    </tr>\n  </tbody>\n</table>\n<p>69887 rows × 105 columns</p>\n</div>"
     },
     "metadata": {},
     "execution_count": 93
    }
   ],
   "source": [
    "df = df.merge(feats, left_index=True, right_index=True)\n",
    "df"
   ]
  },
  {
   "cell_type": "code",
   "execution_count": null,
   "metadata": {},
   "outputs": [],
   "source": []
  }
 ]
}