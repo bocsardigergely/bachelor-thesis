{
 "metadata": {
  "language_info": {
   "codemirror_mode": {
    "name": "ipython",
    "version": 3
   },
   "file_extension": ".py",
   "mimetype": "text/x-python",
   "name": "python",
   "nbconvert_exporter": "python",
   "pygments_lexer": "ipython3",
   "version": "3.8.3"
  },
  "orig_nbformat": 2,
  "kernelspec": {
   "name": "python383jvsc74a57bd0b3ba2566441a7c06988d0923437866b63cedc61552a5af99d1f4fb67d367b25f",
   "display_name": "Python 3.8.3 64-bit ('base': conda)"
  }
 },
 "nbformat": 4,
 "nbformat_minor": 2,
 "cells": [
  {
   "cell_type": "code",
   "execution_count": 8,
   "metadata": {},
   "outputs": [],
   "source": [
    "import pandas as pd\n",
    "import ast\n",
    "from sklearn.model_selection import train_test_split\n",
    "import numpy as np"
   ]
  },
  {
   "cell_type": "code",
   "execution_count": 9,
   "metadata": {},
   "outputs": [
    {
     "output_type": "execute_result",
     "data": {
      "text/plain": [
       "                                     processed_words   ups  ups_normed  \\\n",
       "0  sometimesth face go work get shoot strong anti...   1.0    0.000001   \n",
       "1  time come barter pandem day roll toilet paper ...  27.0    0.000036   \n",
       "\n",
       "   TextLength  Sentiment  word_count  dank_level  \n",
       "0       118.0       0.58         8.0         0.0  \n",
       "1        93.0       0.29         8.0         0.0  "
      ],
      "text/html": "<div>\n<style scoped>\n    .dataframe tbody tr th:only-of-type {\n        vertical-align: middle;\n    }\n\n    .dataframe tbody tr th {\n        vertical-align: top;\n    }\n\n    .dataframe thead th {\n        text-align: right;\n    }\n</style>\n<table border=\"1\" class=\"dataframe\">\n  <thead>\n    <tr style=\"text-align: right;\">\n      <th></th>\n      <th>processed_words</th>\n      <th>ups</th>\n      <th>ups_normed</th>\n      <th>TextLength</th>\n      <th>Sentiment</th>\n      <th>word_count</th>\n      <th>dank_level</th>\n    </tr>\n  </thead>\n  <tbody>\n    <tr>\n      <th>0</th>\n      <td>sometimesth face go work get shoot strong anti...</td>\n      <td>1.0</td>\n      <td>0.000001</td>\n      <td>118.0</td>\n      <td>0.58</td>\n      <td>8.0</td>\n      <td>0.0</td>\n    </tr>\n    <tr>\n      <th>1</th>\n      <td>time come barter pandem day roll toilet paper ...</td>\n      <td>27.0</td>\n      <td>0.000036</td>\n      <td>93.0</td>\n      <td>0.29</td>\n      <td>8.0</td>\n      <td>0.0</td>\n    </tr>\n  </tbody>\n</table>\n</div>"
     },
     "metadata": {},
     "execution_count": 9
    }
   ],
   "source": [
    "data = pd.read_csv(\"../data/nlp_ready.csv\")\n",
    "data.head(2)"
   ]
  },
  {
   "cell_type": "code",
   "execution_count": 10,
   "metadata": {},
   "outputs": [],
   "source": [
    "X = data.loc[:, data.columns != 'dank_level']\n",
    "y = data[\"dank_level\"]"
   ]
  },
  {
   "cell_type": "code",
   "execution_count": 11,
   "metadata": {},
   "outputs": [],
   "source": [
    "from sklearn.feature_extraction.text import CountVectorizer\n",
    "from sklearn.feature_extraction.text import TfidfVectorizer\n",
    "\n",
    "freq_vec = CountVectorizer()\n",
    "tfidf_vec = TfidfVectorizer()"
   ]
  },
  {
   "cell_type": "code",
   "execution_count": 18,
   "metadata": {},
   "outputs": [],
   "source": [
    "from sklearn.metrics import average_precision_score, f1_score, roc_auc_score\n",
    "from sklearn.svm import LinearSVC\n",
    "from sklearn.linear_model import LogisticRegression\n",
    "\n",
    "def model_trial(vectorizer):\n",
    "    #creating the desired vectors\n",
    "    text_vec = vectorizer.fit_transform(X['processed_words'])\n",
    "    X_train, X_test, y_train, y_test = train_test_split(\n",
    "    text_vec, y, test_size=0.33, random_state=42)\n",
    "    #svm\n",
    "    svm = LinearSVC()\n",
    "    svm.fit(X_train, y_train)\n",
    "    y_pred = svm.predict(X_test)\n",
    "    print('--------------------------------------------------')\n",
    "    print(\"Average presicion of SVM on the DANK dataset: {:.2f}\".format(average_precision_score(y_test,y_pred)))\n",
    "    print(\"ROC-Auc of SVM on the DANK dataset: {:.2f}\".format(roc_auc_score(y_test,y_pred)))\n",
    "    print(\"F1 score of SVM on the DANK dataset: {:.2f}\".format(f1_score(y_test,y_pred)))\n",
    "\n",
    "    #logreg\n",
    "    logreg = LogisticRegression()\n",
    "    logreg.fit(X_train, y_train)\n",
    "    y_pred = logreg.predict(X_test)\n",
    "    print('--------------------------------------------------')\n",
    "    print(\"Average presicion of logreg on the DANK dataset: {:.2f}\".format(average_precision_score(y_test,y_pred)))\n",
    "    print(\"ROC-Auc of logreg on the DANK dataset: {:.2f}\".format(roc_auc_score(y_test,y_pred)))\n",
    "    print(\"F1 score of logreg on the DANK dataset: {:.2f}\".format(f1_score(y_test,y_pred)))\n",
    "    print('--------------------------------------------------')"
   ]
  },
  {
   "cell_type": "code",
   "execution_count": 19,
   "metadata": {},
   "outputs": [
    {
     "output_type": "stream",
     "name": "stderr",
     "text": [
      "C:\\ProgramData\\Anaconda3\\lib\\site-packages\\sklearn\\svm\\_base.py:976: ConvergenceWarning: Liblinear failed to converge, increase the number of iterations.\n",
      "  warnings.warn(\"Liblinear failed to converge, increase \"\n",
      "--------------------------------------------------\n",
      "Average presicion of SVM on the DANK dataset: 0.06\n",
      "ROC-Auc of SVM on the DANK dataset: 0.54\n",
      "F1 score of SVM on the DANK dataset: 0.13\n",
      "--------------------------------------------------\n",
      "Average presicion of logreg on the DANK dataset: 0.06\n",
      "ROC-Auc of logreg on the DANK dataset: 0.51\n",
      "F1 score of logreg on the DANK dataset: 0.05\n",
      "--------------------------------------------------\n",
      "C:\\ProgramData\\Anaconda3\\lib\\site-packages\\sklearn\\linear_model\\_logistic.py:762: ConvergenceWarning: lbfgs failed to converge (status=1):\n",
      "STOP: TOTAL NO. of ITERATIONS REACHED LIMIT.\n",
      "\n",
      "Increase the number of iterations (max_iter) or scale the data as shown in:\n",
      "    https://scikit-learn.org/stable/modules/preprocessing.html\n",
      "Please also refer to the documentation for alternative solver options:\n",
      "    https://scikit-learn.org/stable/modules/linear_model.html#logistic-regression\n",
      "  n_iter_i = _check_optimize_result(\n"
     ]
    }
   ],
   "source": [
    "model_trial(freq_vec)"
   ]
  },
  {
   "cell_type": "code",
   "execution_count": 20,
   "metadata": {},
   "outputs": [
    {
     "output_type": "stream",
     "name": "stdout",
     "text": [
      "--------------------------------------------------\n",
      "Average presicion of SVM on the DANK dataset: 0.06\n",
      "ROC-Auc of SVM on the DANK dataset: 0.51\n",
      "F1 score of SVM on the DANK dataset: 0.05\n",
      "--------------------------------------------------\n",
      "Average presicion of logreg on the DANK dataset: 0.05\n",
      "ROC-Auc of logreg on the DANK dataset: 0.50\n",
      "F1 score of logreg on the DANK dataset: 0.00\n",
      "--------------------------------------------------\n"
     ]
    }
   ],
   "source": [
    "model_trial(tfidf_vec)"
   ]
  },
  {
   "cell_type": "code",
   "execution_count": null,
   "metadata": {},
   "outputs": [],
   "source": []
  }
 ]
}