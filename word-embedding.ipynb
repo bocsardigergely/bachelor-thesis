{
 "metadata": {
  "language_info": {
   "codemirror_mode": {
    "name": "ipython",
    "version": 3
   },
   "file_extension": ".py",
   "mimetype": "text/x-python",
   "name": "python",
   "nbconvert_exporter": "python",
   "pygments_lexer": "ipython3",
   "version": "3.8.3"
  },
  "orig_nbformat": 2,
  "kernelspec": {
   "name": "python383jvsc74a57bd0b3ba2566441a7c06988d0923437866b63cedc61552a5af99d1f4fb67d367b25f",
   "display_name": "Python 3.8.3 64-bit ('base': conda)"
  }
 },
 "nbformat": 4,
 "nbformat_minor": 2,
 "cells": [
  {
   "cell_type": "code",
   "execution_count": 2,
   "metadata": {},
   "outputs": [
    {
     "output_type": "stream",
     "name": "stderr",
     "text": [
      "C:\\ProgramData\\Anaconda3\\lib\\site-packages\\gensim\\similarities\\__init__.py:15: UserWarning: The gensim.similarities.levenshtein submodule is disabled, because the optional Levenshtein package <https://pypi.org/project/python-Levenshtein/> is unavailable. Install Levenhstein (e.g. `pip install python-Levenshtein`) to suppress this warning.\n  warnings.warn(msg)\n"
     ]
    }
   ],
   "source": [
    "import pandas as pd\n",
    "import numpy as np\n",
    "from gensim.models import Word2Vec\n",
    "from gensim.models import KeyedVectors"
   ]
  },
  {
   "cell_type": "code",
   "execution_count": 3,
   "metadata": {},
   "outputs": [],
   "source": [
    "df_short = pd.read_csv(\"data/processed/processed_short.csv\")\n",
    "df_medium = pd.read_csv(\"data/processed/processed_medium.csv\")\n",
    "df_dank = pd.read_csv(\"data/processed/processed_dank.csv\")"
   ]
  },
  {
   "cell_type": "code",
   "execution_count": 4,
   "metadata": {},
   "outputs": [],
   "source": [
    "def generate_vectors(df):\n",
    "    name =[x for x in globals() if globals()[x] is df][0]\n",
    "    df['list'] = df[\"text\"].str.split()\n",
    "    documents = df[\"list\"].to_numpy()\n",
    "    skipgram = Word2Vec(sentences=documents, vector_size=100, window=5, sg=1)\n",
    "    word_vectors = skipgram.wv\n",
    "    word_vectors.save(\"data/\" + str(name) + \".wordvectors\")"
   ]
  },
  {
   "source": [
    "# Generating and saving vectors"
   ],
   "cell_type": "markdown",
   "metadata": {}
  },
  {
   "cell_type": "code",
   "execution_count": 15,
   "metadata": {},
   "outputs": [],
   "source": [
    "generate_vectors(df_short)"
   ]
  },
  {
   "cell_type": "code",
   "execution_count": 22,
   "metadata": {},
   "outputs": [],
   "source": [
    "generate_vectors(df_medium)"
   ]
  },
  {
   "cell_type": "code",
   "execution_count": 5,
   "metadata": {},
   "outputs": [],
   "source": [
    "generate_vectors(df_dank)"
   ]
  },
  {
   "source": [
    "# How to load them:"
   ],
   "cell_type": "markdown",
   "metadata": {}
  },
  {
   "cell_type": "code",
   "execution_count": 6,
   "metadata": {},
   "outputs": [],
   "source": [
    "wv = KeyedVectors.load(\"data/df_dank.wordvectors\", mmap='r')"
   ]
  },
  {
   "cell_type": "code",
   "execution_count": 7,
   "metadata": {},
   "outputs": [
    {
     "output_type": "execute_result",
     "data": {
      "text/plain": [
       "array([ 4.4713367e-02,  2.4307360e-01, -1.5273180e-02, -3.5014700e-02,\n",
       "       -5.3334620e-02, -3.9143988e-01,  3.1298506e-01,  3.4044915e-01,\n",
       "       -2.1864204e-01, -4.0944170e-02,  4.4334292e-02, -1.7739116e-01,\n",
       "       -3.3340387e-02,  2.2267476e-02,  1.3503331e-01, -6.7491449e-02,\n",
       "        3.3322969e-01, -4.3420917e-01, -3.7479603e-01, -7.4566668e-01,\n",
       "        2.2543620e-01,  1.8572259e-01,  6.2628455e-02,  1.7958254e-02,\n",
       "       -5.5491358e-02,  4.0784862e-02, -2.2691788e-01, -4.7135953e-02,\n",
       "       -1.9822851e-01,  9.9093206e-02,  2.2066329e-01,  2.7250946e-01,\n",
       "        8.6985119e-03, -1.4721279e-01, -2.5610405e-01,  5.0144482e-01,\n",
       "        2.0944414e-01, -5.9222382e-02, -2.6948076e-01, -1.8638583e-01,\n",
       "       -4.9734455e-02,  4.3178431e-04, -3.3925262e-01, -7.5807802e-02,\n",
       "        1.3481711e-02, -6.0152500e-03, -3.6021152e-01,  4.2551942e-02,\n",
       "        2.3714823e-01,  3.5974035e-01, -2.1724962e-01, -1.4240047e-01,\n",
       "       -8.3204523e-02,  8.4656268e-02, -1.3767689e-01,  9.5627904e-02,\n",
       "        1.4647220e-01,  2.3027627e-02,  2.2458737e-01,  3.7005737e-01,\n",
       "        2.0244934e-01,  2.2216525e-02,  1.9036159e-01, -8.5862890e-02,\n",
       "        1.2693417e-02,  1.2299312e-01, -3.8001209e-02,  9.2620835e-02,\n",
       "       -4.9312440e-01, -6.3270599e-02, -9.5587205e-03,  2.8353998e-01,\n",
       "        1.7535688e-01, -1.2000695e-01, -3.5830510e-03,  1.1769510e-01,\n",
       "        5.9410059e-03, -9.4995089e-02, -1.5650027e-01,  6.0749307e-02,\n",
       "       -1.7194040e-01, -1.4906769e-01, -2.4886477e-01,  4.2957717e-01,\n",
       "       -1.4178734e-01, -1.5070842e-01,  1.3704473e-01,  1.6224766e-01,\n",
       "        1.5912774e-01, -1.4230490e-03,  1.3024279e-01,  3.1833884e-01,\n",
       "       -8.4173836e-02, -7.5937293e-02,  2.1577527e-01,  7.2654575e-02,\n",
       "        3.3873018e-02, -2.0693690e-01,  4.7764666e-02,  1.3413690e-01],\n",
       "      dtype=float32)"
      ]
     },
     "metadata": {},
     "execution_count": 7
    }
   ],
   "source": [
    "wv['meme']"
   ]
  },
  {
   "cell_type": "code",
   "execution_count": null,
   "metadata": {},
   "outputs": [],
   "source": []
  }
 ]
}