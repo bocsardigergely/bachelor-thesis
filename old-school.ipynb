{
 "metadata": {
  "language_info": {
   "codemirror_mode": {
    "name": "ipython",
    "version": 3
   },
   "file_extension": ".py",
   "mimetype": "text/x-python",
   "name": "python",
   "nbconvert_exporter": "python",
   "pygments_lexer": "ipython3",
   "version": "3.8.3"
  },
  "orig_nbformat": 2,
  "kernelspec": {
   "name": "python383jvsc74a57bd0b3ba2566441a7c06988d0923437866b63cedc61552a5af99d1f4fb67d367b25f",
   "display_name": "Python 3.8.3 64-bit ('base': conda)"
  }
 },
 "nbformat": 4,
 "nbformat_minor": 2,
 "cells": [
  {
   "cell_type": "code",
   "execution_count": 11,
   "metadata": {},
   "outputs": [],
   "source": [
    "import wandb\n",
    "import pandas as pd\n",
    "from sklearn.model_selection import train_test_split\n",
    "import numpy as np\n",
    "import xgboost as xgb \n",
    "from sklearn.feature_extraction.text import TfidfVectorizer, CountVectorizer\n",
    "from sklearn.metrics import average_precision_score, f1_score, roc_auc_score\n",
    "from sklearn.svm import LinearSVC\n"
   ]
  },
  {
   "cell_type": "code",
   "execution_count": 82,
   "metadata": {},
   "outputs": [],
   "source": [
    "df_short = pd.read_csv(\"data/processed/processed_short.csv\")\n",
    "df_medium = pd.read_csv(\"data/processed/processed_medium.csv\")\n",
    "df_long = pd.read_csv(\"data/processed/processed_long.csv\")\n",
    "df_long = df_long.loc[df_long['label'].isin([2, 3])]\n",
    "df_long['label'] = df_long['label'].map({2: 1, 3: 0}).astype(int)\n",
    "df_long = df_long.reset_index(drop=True)"
   ]
  },
  {
   "cell_type": "code",
   "execution_count": 70,
   "metadata": {},
   "outputs": [],
   "source": [
    "tfidf = TfidfVectorizer()"
   ]
  },
  {
   "cell_type": "code",
   "execution_count": 83,
   "metadata": {},
   "outputs": [],
   "source": [
    "def model_trial(df):\n",
    "    name =[x for x in globals() if globals()[x] is df][0]\n",
    "    #creating the desired vectors\n",
    "    text_vec = tfidf.fit_transform(df[\"text\"])\n",
    "    y = df[\"label\"]\n",
    "    X_train, X_test, y_train, y_test = train_test_split(\n",
    "    text_vec, y, test_size=0.33, random_state=42)\n",
    "    #svm\n",
    "    svm = LinearSVC()\n",
    "    svm.fit(X_train, y_train)\n",
    "    y_pred = svm.predict(X_test)\n",
    "    print('--------------------------------------------------')\n",
    "    print(\"Average presicion of SVM on \" + str(name) + \": {:.2f}\".format(average_precision_score(y_test,y_pred)))\n",
    "    print(\"ROC-Auc of SVM on \" + str(name) + \": {:.2f}\".format(roc_auc_score(y_test,y_pred)))\n",
    "    print(\"F1 score of SVM on \" + str(name) + \": {:.2f}\".format(f1_score(y_test,y_pred)))\n",
    "\n",
    "    #xgboost\n",
    "    booster = xgb.XGBClassifier()\n",
    "    booster.fit(X_train, y_train)\n",
    "    y_pred = booster.predict(X_test)\n",
    "    print('--------------------------------------------------')\n",
    "    print(\"Average presicion of XBG on \" + str(name) + \": {:.2f}\".format(average_precision_score(y_test,y_pred)))\n",
    "    print(\"ROC-Auc of XGB on \" + str(name) + \": {:.2f}\".format(roc_auc_score(y_test,y_pred)))\n",
    "    print(\"F1 score of XGB on \" + str(name) + \": {:.2f}\".format(f1_score(y_test,y_pred)))"
   ]
  },
  {
   "cell_type": "code",
   "execution_count": 72,
   "metadata": {},
   "outputs": [
    {
     "output_type": "stream",
     "name": "stdout",
     "text": [
      "--------------------------------------------------\n",
      "Average presicion of SVM on df_short: 0.86\n",
      "ROC-Auc of SVM on df_short: 0.92\n",
      "F1 score of SVM on df_short: 0.91\n",
      "[08:09:37] WARNING: C:/Users/Administrator/workspace/xgboost-win64_release_1.4.0/src/learner.cc:1095: Starting in XGBoost 1.3.0, the default evaluation metric used with the objective 'binary:logistic' was changed from 'error' to 'logloss'. Explicitly set eval_metric if you'd like to restore the old behavior.\n",
      "C:\\ProgramData\\Anaconda3\\lib\\site-packages\\xgboost\\sklearn.py:1146: UserWarning: The use of label encoder in XGBClassifier is deprecated and will be removed in a future release. To remove this warning, do the following: 1) Pass option use_label_encoder=False when constructing XGBClassifier object; and 2) Encode your labels (y) as integers starting with 0, i.e. 0, 1, 2, ..., [num_class - 1].\n",
      "  warnings.warn(label_encoder_deprecation_msg, UserWarning)\n",
      "--------------------------------------------------\n",
      "Average presicion of XBG on df_short: 0.84\n",
      "ROC-Auc of XGB on df_short: 0.93\n",
      "F1 score of XGB on df_short: 0.90\n"
     ]
    }
   ],
   "source": [
    "model_trial(df_short)\n"
   ]
  },
  {
   "cell_type": "code",
   "execution_count": 73,
   "metadata": {},
   "outputs": [
    {
     "output_type": "stream",
     "name": "stdout",
     "text": [
      "--------------------------------------------------\n",
      "Average presicion of SVM on df_medium: 0.81\n",
      "ROC-Auc of SVM on df_medium: 0.86\n",
      "F1 score of SVM on df_medium: 0.86\n",
      "[08:09:39] WARNING: C:/Users/Administrator/workspace/xgboost-win64_release_1.4.0/src/learner.cc:1095: Starting in XGBoost 1.3.0, the default evaluation metric used with the objective 'binary:logistic' was changed from 'error' to 'logloss'. Explicitly set eval_metric if you'd like to restore the old behavior.\n",
      "C:\\ProgramData\\Anaconda3\\lib\\site-packages\\xgboost\\sklearn.py:1146: UserWarning: The use of label encoder in XGBClassifier is deprecated and will be removed in a future release. To remove this warning, do the following: 1) Pass option use_label_encoder=False when constructing XGBClassifier object; and 2) Encode your labels (y) as integers starting with 0, i.e. 0, 1, 2, ..., [num_class - 1].\n",
      "  warnings.warn(label_encoder_deprecation_msg, UserWarning)\n",
      "--------------------------------------------------\n",
      "Average presicion of XBG on df_medium: 0.78\n",
      "ROC-Auc of XGB on df_medium: 0.82\n",
      "F1 score of XGB on df_medium: 0.83\n"
     ]
    }
   ],
   "source": [
    "model_trial(df_medium)\n"
   ]
  },
  {
   "cell_type": "code",
   "execution_count": 84,
   "metadata": {},
   "outputs": [
    {
     "output_type": "stream",
     "name": "stdout",
     "text": [
      "--------------------------------------------------\n",
      "Average presicion of SVM on df_long: 0.84\n",
      "ROC-Auc of SVM on df_long: 0.88\n",
      "F1 score of SVM on df_long: 0.89\n",
      "[08:44:37] WARNING: C:/Users/Administrator/workspace/xgboost-win64_release_1.4.0/src/learner.cc:1095: Starting in XGBoost 1.3.0, the default evaluation metric used with the objective 'binary:logistic' was changed from 'error' to 'logloss'. Explicitly set eval_metric if you'd like to restore the old behavior.\n",
      "C:\\ProgramData\\Anaconda3\\lib\\site-packages\\xgboost\\sklearn.py:1146: UserWarning: The use of label encoder in XGBClassifier is deprecated and will be removed in a future release. To remove this warning, do the following: 1) Pass option use_label_encoder=False when constructing XGBClassifier object; and 2) Encode your labels (y) as integers starting with 0, i.e. 0, 1, 2, ..., [num_class - 1].\n",
      "  warnings.warn(label_encoder_deprecation_msg, UserWarning)\n",
      "--------------------------------------------------\n",
      "Average presicion of XBG on df_long: 0.82\n",
      "ROC-Auc of XGB on df_long: 0.87\n",
      "F1 score of XGB on df_long: 0.87\n"
     ]
    }
   ],
   "source": [
    "model_trial(df_long)\n"
   ]
  },
  {
   "cell_type": "code",
   "execution_count": null,
   "metadata": {},
   "outputs": [],
   "source": []
  }
 ]
}