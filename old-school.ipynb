{
 "metadata": {
  "language_info": {
   "codemirror_mode": {
    "name": "ipython",
    "version": 3
   },
   "file_extension": ".py",
   "mimetype": "text/x-python",
   "name": "python",
   "nbconvert_exporter": "python",
   "pygments_lexer": "ipython3",
   "version": "3.8.3"
  },
  "orig_nbformat": 2,
  "kernelspec": {
   "name": "python383jvsc74a57bd0b3ba2566441a7c06988d0923437866b63cedc61552a5af99d1f4fb67d367b25f",
   "display_name": "Python 3.8.3 64-bit (conda)"
  }
 },
 "nbformat": 4,
 "nbformat_minor": 2,
 "cells": [
  {
   "cell_type": "code",
   "execution_count": 1,
   "metadata": {},
   "outputs": [
    {
     "output_type": "stream",
     "name": "stderr",
     "text": [
      "<frozen importlib._bootstrap>:219: RuntimeWarning: numpy.ufunc size changed, may indicate binary incompatibility. Expected 192 from C header, got 216 from PyObject\n"
     ]
    }
   ],
   "source": [
    "import pandas as pd\n",
    "from sklearn.model_selection import train_test_split\n",
    "import numpy as np\n",
    "import xgboost as xgb \n",
    "from sklearn.feature_extraction.text import TfidfVectorizer, CountVectorizer\n",
    "from sklearn.metrics import precision_score, f1_score, roc_auc_score, accuracy_score, recall_score\n",
    "from sklearn.svm import LinearSVC\n",
    "from sklearn.linear_model import LogisticRegression\n"
   ]
  },
  {
   "cell_type": "code",
   "execution_count": 2,
   "metadata": {},
   "outputs": [],
   "source": [
    "df_short = pd.read_csv(\"data/processed/processed_short.csv\")\n",
    "df_medium = pd.read_csv(\"data/processed/processed_medium.csv\")\n",
    "df_dank = pd.read_csv(\"data/processed/processed_dank.csv\")\n",
    "\n",
    "df_joint = pd.concat([df_short, df_medium, df_dank])\n",
    "df_joint = df_joint.reset_index(drop=True)\n",
    "df_train = df_joint.sample(frac=1).reset_index(drop=True)"
   ]
  },
  {
   "cell_type": "code",
   "execution_count": 3,
   "metadata": {},
   "outputs": [],
   "source": []
  },
  {
   "cell_type": "code",
   "execution_count": 1,
   "metadata": {},
   "outputs": [],
   "source": [
    "def model_trial(df):\n",
    "    tfidf = TfidfVectorizer()\n",
    "    name =[x for x in globals() if globals()[x] is df][0]\n",
    "    #creating the desired vectors\n",
    "    text = df['text']\n",
    "    y = df[\"label\"]\n",
    "    text_train, text_test, y_train, y_test = train_test_split(\n",
    "    text, y, test_size=0.33, random_state=42)\n",
    "    X_train = tfidf.fit_transform(text_train.astype('U').values)\n",
    "    X_test = tfidf.transform(text_test.astype('U').values)\n",
    "    # D_train = xgb.DMatrix(X_train, label=y_train)\n",
    "    # D_test = xgb. DMatrix(X_test, label=y_test)\n",
    "\n",
    "    # #log\n",
    "    # log = LogisticRegression()\n",
    "    # log.fit(X_train, y_train)\n",
    "    # y_pred_bool = log.predict(X_test)\n",
    "    # accuracy = accuracy_score(y_test, y_pred_bool)\n",
    "    # precision = precision_score(y_test, y_pred_bool)\n",
    "    # recall = recall_score(y_test, y_pred_bool)\n",
    "    # roc = roc_auc_score(y_test, y_pred_bool)\n",
    "    \n",
    "    \n",
    "    # metrics = {'accuracy': accuracy, 'precision': precision, 'recall': recall, \"roc\": roc}\n",
    "    # print('------------------Log-----------------------------')\n",
    "    # print(metrics)\n",
    "    # print('--------------------------------------------------')\n",
    "\n",
    "    #svm\n",
    "    svm = LinearSVC()\n",
    "    svm.fit(X_train, y_train)\n",
    "    y_pred_bool = svm.predict(X_test)\n",
    "    accuracy = accuracy_score(y_test, y_pred_bool)\n",
    "    precision = precision_score(y_test, y_pred_bool)\n",
    "    recall = recall_score(y_test, y_pred_bool)\n",
    "    roc = roc_auc_score(y_test, y_pred_bool)\n",
    "    \n",
    "    \n",
    "    # metrics = {'accuracy': accuracy, 'precision': precision, 'recall': recall, \"roc\": roc}\n",
    "    # print('------------------SVM-----------------------------')\n",
    "    # print(metrics)\n",
    "    # print('--------------------------------------------------')\n",
    "\n",
    "\n",
    "    # #xgboost\n",
    "    # booster = xgb.XGBClassifier()\n",
    "\n",
    "    # param = {\n",
    "    # 'eta': 0.3, \n",
    "    # 'max_depth': 6,  \n",
    "    # 'objective': 'binary:hinge'} \n",
    "    # steps = 15\n",
    "\n",
    "    # model = xgb.train(param, D_train, steps)\n",
    "\n",
    "    # y_pred_bool = model.predict(D_test)\n",
    "    # accuracy = accuracy_score(y_test, y_pred_bool)\n",
    "    # precision = precision_score(y_test, y_pred_bool)\n",
    "    # recall = recall_score(y_test, y_pred_bool)\n",
    "    # roc = roc_auc_score(y_test, y_pred_bool)\n",
    "    \n",
    "    \n",
    "    # metrics = {'accuracy': accuracy, 'precision': precision, 'recall': recall, \"roc\": roc}\n",
    "    # print('------------------XGB-----------------------------')\n",
    "    # print(metrics)\n"
   ]
  },
  {
   "cell_type": "code",
   "execution_count": 10,
   "metadata": {},
   "outputs": [
    {
     "output_type": "stream",
     "name": "stdout",
     "text": [
      "------------------Log-----------------------------\n{'accuracy': 0.9564507348938487, 'precision': 0.9827586206896551, 'recall': 0.6895161290322581, 'roc': 0.8438140745853551}\n--------------------------------------------------\n"
     ]
    }
   ],
   "source": [
    "model_trial(df_short)"
   ]
  },
  {
   "cell_type": "code",
   "execution_count": 11,
   "metadata": {},
   "outputs": [
    {
     "output_type": "stream",
     "name": "stdout",
     "text": [
      "------------------Log-----------------------------\n{'accuracy': 0.863030303030303, 'precision': 0.8619489559164734, 'recall': 0.8741176470588236, 'roc': 0.8626838235294119}\n--------------------------------------------------\n"
     ]
    }
   ],
   "source": [
    "model_trial(df_medium)"
   ]
  },
  {
   "cell_type": "code",
   "execution_count": 12,
   "metadata": {},
   "outputs": [
    {
     "output_type": "stream",
     "name": "stdout",
     "text": [
      "------------------Log-----------------------------\n{'accuracy': 0.5757575757575758, 'precision': 0.5921375921375921, 'recall': 0.5670588235294117, 'roc': 0.5760294117647058}\n--------------------------------------------------\n"
     ]
    }
   ],
   "source": [
    "model_trial(df_dank)"
   ]
  },
  {
   "cell_type": "code",
   "execution_count": null,
   "metadata": {},
   "outputs": [],
   "source": []
  },
  {
   "cell_type": "code",
   "execution_count": null,
   "metadata": {},
   "outputs": [],
   "source": []
  }
 ]
}