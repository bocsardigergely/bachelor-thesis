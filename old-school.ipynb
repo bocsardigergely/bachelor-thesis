{
 "metadata": {
  "language_info": {
   "codemirror_mode": {
    "name": "ipython",
    "version": 3
   },
   "file_extension": ".py",
   "mimetype": "text/x-python",
   "name": "python",
   "nbconvert_exporter": "python",
   "pygments_lexer": "ipython3",
   "version": "3.8.3"
  },
  "orig_nbformat": 2,
  "kernelspec": {
   "name": "python383jvsc74a57bd0b3ba2566441a7c06988d0923437866b63cedc61552a5af99d1f4fb67d367b25f",
   "display_name": "Python 3.8.3 64-bit (conda)"
  }
 },
 "nbformat": 4,
 "nbformat_minor": 2,
 "cells": [
  {
   "cell_type": "code",
   "execution_count": 2,
   "metadata": {},
   "outputs": [],
   "source": [
    "import pandas as pd\n",
    "from sklearn.model_selection import train_test_split\n",
    "import numpy as np\n",
    "import xgboost as xgb \n",
    "from sklearn.feature_extraction.text import TfidfVectorizer, CountVectorizer\n",
    "from sklearn.metrics import precision_score, f1_score, roc_auc_score, accuracy_score, recall_score\n",
    "from sklearn.svm import LinearSVC\n"
   ]
  },
  {
   "cell_type": "code",
   "execution_count": 3,
   "metadata": {},
   "outputs": [],
   "source": [
    "df_short = pd.read_csv(\"data/processed/processed_short.csv\")\n",
    "df_medium = pd.read_csv(\"data/processed/processed_medium.csv\")\n",
    "df_dank = pd.read_csv(\"data/processed/processed_dank.csv\")\n",
    "\n",
    "df_joint = pd.concat([df_short, df_medium, df_dank])\n",
    "df_joint = df_joint.reset_index(drop=True)\n",
    "df_train = df_joint.sample(frac=1).reset_index(drop=True)"
   ]
  },
  {
   "cell_type": "code",
   "execution_count": 4,
   "metadata": {},
   "outputs": [],
   "source": [
    "tfidf = TfidfVectorizer()"
   ]
  },
  {
   "cell_type": "code",
   "execution_count": 20,
   "metadata": {},
   "outputs": [],
   "source": [
    "def model_trial(df):\n",
    "    name =[x for x in globals() if globals()[x] is df][0]\n",
    "    #creating the desired vectors\n",
    "    text = df['text']\n",
    "    y = df[\"label\"]\n",
    "    text_train, text_test, y_train, y_test = train_test_split(\n",
    "    text, y, test_size=0.33, random_state=42)\n",
    "    X_train = tfidf.fit_transform(text_train.astype('U').values)\n",
    "    X_test = tfidf.transform(text_test.astype('U').values)\n",
    "    D_train = xgb.DMatrix(X_train, label=y_train)\n",
    "    D_test = xgb. DMatrix(X_test, label=y_test)\n",
    "\n",
    "    #svm\n",
    "    svm = LinearSVC()\n",
    "    svm.fit(X_train, y_train)\n",
    "    y_pred_bool = svm.predict(X_test)\n",
    "    accuracy = accuracy_score(y_test, y_pred_bool)\n",
    "    precision = precision_score(y_test, y_pred_bool)\n",
    "    recall = recall_score(y_test, y_pred_bool)\n",
    "    roc = roc_auc_score(y_test, y_pred_bool)\n",
    "    \n",
    "    \n",
    "    metrics = {'accuracy': accuracy, 'precision': precision, 'recall': recall, \"roc\": roc}\n",
    "    print('------------------SVM-----------------------------')\n",
    "    print(metrics)\n",
    "    print('--------------------------------------------------')\n",
    "\n",
    "\n",
    "    #xgboost\n",
    "    booster = xgb.XGBClassifier()\n",
    "\n",
    "    param = {\n",
    "    'eta': 0.3, \n",
    "    'max_depth': 6,  \n",
    "    'objective': 'binary:hinge'} \n",
    "    steps = 15\n",
    "\n",
    "    model = xgb.train(param, D_train, steps)\n",
    "\n",
    "    y_pred_bool = model.predict(D_test)\n",
    "    accuracy = accuracy_score(y_test, y_pred_bool)\n",
    "    precision = precision_score(y_test, y_pred_bool)\n",
    "    recall = recall_score(y_test, y_pred_bool)\n",
    "    roc = roc_auc_score(y_test, y_pred_bool)\n",
    "    \n",
    "    \n",
    "    metrics = {'accuracy': accuracy, 'precision': precision, 'recall': recall, \"roc\": roc}\n",
    "    print('------------------XGB-----------------------------')\n",
    "    print(metrics)\n"
   ]
  },
  {
   "cell_type": "code",
   "execution_count": 22,
   "metadata": {},
   "outputs": [
    {
     "output_type": "stream",
     "name": "stdout",
     "text": [
      "------------------SVM-----------------------------\n",
      "{'accuracy': 0.9825802939575394, 'precision': 0.9821428571428571, 'recall': 0.8870967741935484, 'roc': 0.9422897338557421}\n",
      "--------------------------------------------------\n",
      "------------------XGB-----------------------------\n",
      "{'accuracy': 0.954817637452368, 'precision': 0.8634361233480177, 'recall': 0.7903225806451613, 'roc': 0.885406727704582}\n"
     ]
    }
   ],
   "source": [
    "model_trial(df_short)"
   ]
  },
  {
   "cell_type": "code",
   "execution_count": 23,
   "metadata": {},
   "outputs": [
    {
     "output_type": "stream",
     "name": "stdout",
     "text": [
      "------------------SVM-----------------------------\n",
      "{'accuracy': 0.8563636363636363, 'precision': 0.8593200468933178, 'recall': 0.8623529411764705, 'roc': 0.8561764705882353}\n",
      "--------------------------------------------------\n",
      "------------------XGB-----------------------------\n",
      "{'accuracy': 0.7266666666666667, 'precision': 0.6950146627565983, 'recall': 0.8364705882352941, 'roc': 0.723235294117647}\n"
     ]
    }
   ],
   "source": [
    "model_trial(df_medium)"
   ]
  },
  {
   "cell_type": "code",
   "execution_count": 24,
   "metadata": {},
   "outputs": [
    {
     "output_type": "stream",
     "name": "stdout",
     "text": [
      "------------------SVM-----------------------------\n",
      "{'accuracy': 0.5533333333333333, 'precision': 0.5681544028950543, 'recall': 0.5541176470588235, 'roc': 0.5533088235294118}\n",
      "--------------------------------------------------\n",
      "------------------XGB-----------------------------\n",
      "{'accuracy': 0.5509090909090909, 'precision': 0.5367003367003367, 'recall': 0.9376470588235294, 'roc': 0.5388235294117647}\n"
     ]
    }
   ],
   "source": [
    "model_trial(df_dank)"
   ]
  },
  {
   "cell_type": "code",
   "execution_count": null,
   "metadata": {},
   "outputs": [],
   "source": []
  }
 ]
}