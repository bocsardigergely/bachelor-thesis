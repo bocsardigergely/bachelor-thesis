{
 "metadata": {
  "language_info": {
   "codemirror_mode": {
    "name": "ipython",
    "version": 3
   },
   "file_extension": ".py",
   "mimetype": "text/x-python",
   "name": "python",
   "nbconvert_exporter": "python",
   "pygments_lexer": "ipython3",
   "version": "3.8.3"
  },
  "orig_nbformat": 2,
  "kernelspec": {
   "name": "python383jvsc74a57bd0b3ba2566441a7c06988d0923437866b63cedc61552a5af99d1f4fb67d367b25f",
   "display_name": "Python 3.8.3 64-bit (conda)"
  }
 },
 "nbformat": 4,
 "nbformat_minor": 2,
 "cells": [
  {
   "cell_type": "code",
   "execution_count": 8,
   "metadata": {},
   "outputs": [],
   "source": [
    "import pandas as pd\n",
    "from sklearn.model_selection import train_test_split\n",
    "import numpy as np\n",
    "import xgboost as xgb \n",
    "from sklearn.feature_extraction.text import TfidfVectorizer, CountVectorizer\n",
    "from sklearn.metrics import average_precision_score, f1_score, roc_auc_score, accuracy_score\n",
    "from sklearn.svm import LinearSVC\n"
   ]
  },
  {
   "cell_type": "code",
   "execution_count": 9,
   "metadata": {},
   "outputs": [],
   "source": [
    "df_short = pd.read_csv(\"data/processed/processed_short.csv\")\n",
    "df_medium = pd.read_csv(\"data/processed/processed_medium.csv\")\n",
    "df_dank = pd.read_csv(\"data/processed/processed_dank.csv\")"
   ]
  },
  {
   "cell_type": "code",
   "execution_count": 10,
   "metadata": {},
   "outputs": [],
   "source": [
    "tfidf = TfidfVectorizer()"
   ]
  },
  {
   "cell_type": "code",
   "execution_count": 21,
   "metadata": {},
   "outputs": [],
   "source": [
    "def model_trial(df):\n",
    "    name =[x for x in globals() if globals()[x] is df][0]\n",
    "    #creating the desired vectors\n",
    "    text = df['text']\n",
    "    y = df[\"label\"]\n",
    "    text_train, text_test, y_train, y_test = train_test_split(\n",
    "    text, y, test_size=0.33, random_state=42)\n",
    "    X_train = tfidf.fit_transform(text_train.astype('U').values)\n",
    "    X_test = tfidf.transform(text_test.astype('U').values)\n",
    "    D_train = xgb.DMatrix(X_train, label=y_train)\n",
    "    D_test = xgb. DMatrix(X_test, label=y_test)\n",
    "\n",
    "    #svm\n",
    "    svm = LinearSVC()\n",
    "    svm.fit(X_train, y_train)\n",
    "    y_pred = svm.predict(X_test)\n",
    "    print('--------------------------------------------------')\n",
    "    print('Accuracy: ' + str(accuracy_score(y_test, y_pred)))\n",
    "    print(\"Average presicion of SVM on \" + str(name) + \": {:.2f}\".format(average_precision_score(y_test,y_pred)))\n",
    "    print(\"ROC-Auc of SVM on \" + str(name) + \": {:.2f}\".format(roc_auc_score(y_test,y_pred)))\n",
    "    print(\"F1 score of SVM on \" + str(name) + \": {:.2f}\".format(f1_score(y_test,y_pred)))\n",
    "\n",
    "    #xgboost\n",
    "    booster = xgb.XGBClassifier()\n",
    "\n",
    "    param = {\n",
    "    'eta': 0.3, \n",
    "    'max_depth': 6,  \n",
    "    'objective': 'binary:hinge'} \n",
    "    steps = 15\n",
    "\n",
    "    model = xgb.train(param, D_train, steps)\n",
    "\n",
    "    y_pred = model.predict(D_test)\n",
    "    print('--------------------------------------------------')\n",
    "    print('Accuracy: ' + str(accuracy_score(y_test, y_pred)))\n",
    "    print(\"Average presicion of XBG on \" + str(name) + \": {:.2f}\".format(average_precision_score(y_test,y_pred)))\n",
    "    print(\"ROC-Auc of XGB on \" + str(name) + \": {:.2f}\".format(roc_auc_score(y_test,y_pred)))\n",
    "    print(\"F1 score of XGB on \" + str(name) + \": {:.2f}\".format(f1_score(y_test,y_pred)))"
   ]
  },
  {
   "cell_type": "code",
   "execution_count": 22,
   "metadata": {},
   "outputs": [
    {
     "output_type": "stream",
     "name": "stdout",
     "text": [
      "--------------------------------------------------\nAccuracy: 0.9825802939575394\nAverage presicion of SVM on df_short: 0.89\nROC-Auc of SVM on df_short: 0.94\nF1 score of SVM on df_short: 0.93\n--------------------------------------------------\nAccuracy: 0.954817637452368\nAverage presicion of XBG on df_short: 0.71\nROC-Auc of XGB on df_short: 0.89\nF1 score of XGB on df_short: 0.83\n"
     ]
    }
   ],
   "source": [
    "model_trial(df_short)"
   ]
  },
  {
   "cell_type": "code",
   "execution_count": 23,
   "metadata": {},
   "outputs": [
    {
     "output_type": "stream",
     "name": "stdout",
     "text": [
      "--------------------------------------------------\n",
      "Accuracy: 0.8563636363636363\n",
      "Average presicion of SVM on df_medium: 0.81\n",
      "ROC-Auc of SVM on df_medium: 0.86\n",
      "F1 score of SVM on df_medium: 0.86\n",
      "--------------------------------------------------\n",
      "Accuracy: 0.7266666666666667\n",
      "Average presicion of XBG on df_medium: 0.67\n",
      "ROC-Auc of XGB on df_medium: 0.72\n",
      "F1 score of XGB on df_medium: 0.76\n"
     ]
    }
   ],
   "source": [
    "model_trial(df_medium)"
   ]
  },
  {
   "cell_type": "code",
   "execution_count": 24,
   "metadata": {},
   "outputs": [
    {
     "output_type": "stream",
     "name": "stdout",
     "text": [
      "--------------------------------------------------\nAccuracy: 0.5533333333333333\nAverage presicion of SVM on df_dank: 0.54\nROC-Auc of SVM on df_dank: 0.55\nF1 score of SVM on df_dank: 0.56\n--------------------------------------------------\nAccuracy: 0.5509090909090909\nAverage presicion of XBG on df_dank: 0.54\nROC-Auc of XGB on df_dank: 0.54\nF1 score of XGB on df_dank: 0.68\n"
     ]
    }
   ],
   "source": [
    "model_trial(df_dank)"
   ]
  },
  {
   "cell_type": "code",
   "execution_count": null,
   "metadata": {},
   "outputs": [],
   "source": []
  }
 ]
}