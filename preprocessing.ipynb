{
 "metadata": {
  "language_info": {
   "codemirror_mode": {
    "name": "ipython",
    "version": 3
   },
   "file_extension": ".py",
   "mimetype": "text/x-python",
   "name": "python",
   "nbconvert_exporter": "python",
   "pygments_lexer": "ipython3",
   "version": "3.8.3"
  },
  "orig_nbformat": 2,
  "kernelspec": {
   "name": "python383jvsc74a57bd0b3ba2566441a7c06988d0923437866b63cedc61552a5af99d1f4fb67d367b25f",
   "display_name": "Python 3.8.3 64-bit ('base': conda)"
  }
 },
 "nbformat": 4,
 "nbformat_minor": 2,
 "cells": [
  {
   "cell_type": "code",
   "execution_count": 1,
   "metadata": {},
   "outputs": [],
   "source": [
    "import pandas as pd\n",
    "from datetime import datetime\n",
    "import nltk\n",
    "import ast\n",
    "from nltk.tokenize import sent_tokenize, word_tokenize\n",
    "import re\n",
    "from nltk.corpus import stopwords"
   ]
  },
  {
   "cell_type": "code",
   "execution_count": 2,
   "metadata": {},
   "outputs": [],
   "source": [
    "def preprocess(text):\n",
    "    result = \"\"\n",
    "    punctless = re.sub('[^a-zA-Z]', ' ', text)\n",
    "    lowercase = punctless.lower()\n",
    "    words_list = lowercase.split()\n",
    "    words_list =  [word for word in words_list if not word in set(stopwords.words('english'))]\n",
    "    for word in words_list:\n",
    "        result += \" \" + word.strip()\n",
    "    return result"
   ]
  },
  {
   "source": [
    "# Short samples preproc"
   ],
   "cell_type": "markdown",
   "metadata": {}
  },
  {
   "cell_type": "code",
   "execution_count": 3,
   "metadata": {},
   "outputs": [],
   "source": [
    "raw_short = pd.read_csv(\"data/raw/spam-text-message.csv\")"
   ]
  },
  {
   "cell_type": "code",
   "execution_count": 4,
   "metadata": {},
   "outputs": [],
   "source": [
    "raw_short.insert( 2, \"text\", \"Empty\")\n",
    "raw_short.insert( 3, \"label\", \"Empty\")"
   ]
  },
  {
   "cell_type": "code",
   "execution_count": 5,
   "metadata": {},
   "outputs": [],
   "source": [
    "for ind in raw_short.index:\n",
    "    if raw_short[\"text\"][ind] == \"Empty\":\n",
    "        message = raw_short[\"Message\"][ind]\n",
    "        raw_short[\"text\"][ind] = preprocess(message)\n",
    "    \n",
    "    if raw_short[\"label\"][ind] == \"Empty\":\n",
    "        if raw_short[\"Category\"][ind] == \"ham\":\n",
    "            raw_short[\"label\"][ind] = 0\n",
    "        elif raw_short[\"Category\"][ind] == \"spam\":\n",
    "            raw_short[\"label\"][ind] = 1"
   ]
  },
  {
   "cell_type": "code",
   "execution_count": 15,
   "metadata": {},
   "outputs": [
    {
     "output_type": "execute_result",
     "data": {
      "text/plain": [
       "                                                   text label\n",
       "0      go jurong point crazy available bugis n great...     0\n",
       "1                               ok lar joking wif u oni     0\n",
       "2      free entry wkly comp win fa cup final tkts st...     1\n",
       "3                   u dun say early hor u c already say     0\n",
       "4                nah think goes usf lives around though     0\n",
       "...                                                 ...   ...\n",
       "5567   nd time tried contact u u pound prize claim e...     1\n",
       "5568                          b going esplanade fr home     0\n",
       "5569                              pity mood suggestions     0\n",
       "5570   guy bitching acted like interested buying som...     0\n",
       "5571                                     rofl true name     0\n",
       "\n",
       "[5572 rows x 2 columns]"
      ],
      "text/html": "<div>\n<style scoped>\n    .dataframe tbody tr th:only-of-type {\n        vertical-align: middle;\n    }\n\n    .dataframe tbody tr th {\n        vertical-align: top;\n    }\n\n    .dataframe thead th {\n        text-align: right;\n    }\n</style>\n<table border=\"1\" class=\"dataframe\">\n  <thead>\n    <tr style=\"text-align: right;\">\n      <th></th>\n      <th>text</th>\n      <th>label</th>\n    </tr>\n  </thead>\n  <tbody>\n    <tr>\n      <th>0</th>\n      <td>go jurong point crazy available bugis n great...</td>\n      <td>0</td>\n    </tr>\n    <tr>\n      <th>1</th>\n      <td>ok lar joking wif u oni</td>\n      <td>0</td>\n    </tr>\n    <tr>\n      <th>2</th>\n      <td>free entry wkly comp win fa cup final tkts st...</td>\n      <td>1</td>\n    </tr>\n    <tr>\n      <th>3</th>\n      <td>u dun say early hor u c already say</td>\n      <td>0</td>\n    </tr>\n    <tr>\n      <th>4</th>\n      <td>nah think goes usf lives around though</td>\n      <td>0</td>\n    </tr>\n    <tr>\n      <th>...</th>\n      <td>...</td>\n      <td>...</td>\n    </tr>\n    <tr>\n      <th>5567</th>\n      <td>nd time tried contact u u pound prize claim e...</td>\n      <td>1</td>\n    </tr>\n    <tr>\n      <th>5568</th>\n      <td>b going esplanade fr home</td>\n      <td>0</td>\n    </tr>\n    <tr>\n      <th>5569</th>\n      <td>pity mood suggestions</td>\n      <td>0</td>\n    </tr>\n    <tr>\n      <th>5570</th>\n      <td>guy bitching acted like interested buying som...</td>\n      <td>0</td>\n    </tr>\n    <tr>\n      <th>5571</th>\n      <td>rofl true name</td>\n      <td>0</td>\n    </tr>\n  </tbody>\n</table>\n<p>5572 rows × 2 columns</p>\n</div>"
     },
     "metadata": {},
     "execution_count": 15
    }
   ],
   "source": [
    "processed_short = raw_short[[\"text\",\"label\"]]\n",
    "processed_short.dropna()"
   ]
  },
  {
   "cell_type": "code",
   "execution_count": 16,
   "metadata": {},
   "outputs": [],
   "source": [
    "processed_short.to_csv(\"data/processed/processed_short.csv\", index=False)"
   ]
  },
  {
   "source": [
    "# Medium samples preproc"
   ],
   "cell_type": "markdown",
   "metadata": {}
  },
  {
   "cell_type": "code",
   "execution_count": 3,
   "metadata": {},
   "outputs": [],
   "source": [
    "raw_medium = pd.read_csv(\"data/raw/IMDB Dataset.csv\")"
   ]
  },
  {
   "cell_type": "code",
   "execution_count": 4,
   "metadata": {},
   "outputs": [],
   "source": [
    "raw_medium.insert( 2, \"text\", \"Empty\")\n",
    "raw_medium.insert( 3, \"label\", \"Empty\")"
   ]
  },
  {
   "cell_type": "code",
   "execution_count": 8,
   "metadata": {},
   "outputs": [],
   "source": [
    "for ind in raw_medium.index:\n",
    "    if raw_medium[\"text\"][ind] == \"Empty\":\n",
    "        review = raw_medium[\"review\"][ind]\n",
    "        raw_medium[\"text\"][ind] = preprocess(review)\n",
    "    \n",
    "    if raw_medium[\"label\"][ind] == \"Empty\":\n",
    "        if raw_medium[\"sentiment\"][ind] == \"negative\":\n",
    "            raw_medium[\"label\"][ind] = 0\n",
    "        elif raw_medium[\"sentiment\"][ind] == \"positive\":\n",
    "            raw_medium[\"label\"][ind] = 1"
   ]
  },
  {
   "cell_type": "code",
   "execution_count": 10,
   "metadata": {},
   "outputs": [
    {
     "output_type": "execute_result",
     "data": {
      "text/plain": [
       "                                                    text label\n",
       "0       one reviewers mentioned watching oz episode h...     1\n",
       "1       wonderful little production br br filming tec...     1\n",
       "2       thought wonderful way spend time hot summer w...     1\n",
       "3       basically family little boy jake thinks zombi...     0\n",
       "4       petter mattei love time money visually stunni...     1\n",
       "...                                                  ...   ...\n",
       "49995   thought movie right good job creative origina...     1\n",
       "49996   bad plot bad dialogue bad acting idiotic dire...     0\n",
       "49997   catholic taught parochial elementary schools ...     0\n",
       "49998   going disagree previous comment side maltin o...     0\n",
       "49999   one expects star trek movies high art fans ex...     0\n",
       "\n",
       "[50000 rows x 2 columns]"
      ],
      "text/html": "<div>\n<style scoped>\n    .dataframe tbody tr th:only-of-type {\n        vertical-align: middle;\n    }\n\n    .dataframe tbody tr th {\n        vertical-align: top;\n    }\n\n    .dataframe thead th {\n        text-align: right;\n    }\n</style>\n<table border=\"1\" class=\"dataframe\">\n  <thead>\n    <tr style=\"text-align: right;\">\n      <th></th>\n      <th>text</th>\n      <th>label</th>\n    </tr>\n  </thead>\n  <tbody>\n    <tr>\n      <th>0</th>\n      <td>one reviewers mentioned watching oz episode h...</td>\n      <td>1</td>\n    </tr>\n    <tr>\n      <th>1</th>\n      <td>wonderful little production br br filming tec...</td>\n      <td>1</td>\n    </tr>\n    <tr>\n      <th>2</th>\n      <td>thought wonderful way spend time hot summer w...</td>\n      <td>1</td>\n    </tr>\n    <tr>\n      <th>3</th>\n      <td>basically family little boy jake thinks zombi...</td>\n      <td>0</td>\n    </tr>\n    <tr>\n      <th>4</th>\n      <td>petter mattei love time money visually stunni...</td>\n      <td>1</td>\n    </tr>\n    <tr>\n      <th>...</th>\n      <td>...</td>\n      <td>...</td>\n    </tr>\n    <tr>\n      <th>49995</th>\n      <td>thought movie right good job creative origina...</td>\n      <td>1</td>\n    </tr>\n    <tr>\n      <th>49996</th>\n      <td>bad plot bad dialogue bad acting idiotic dire...</td>\n      <td>0</td>\n    </tr>\n    <tr>\n      <th>49997</th>\n      <td>catholic taught parochial elementary schools ...</td>\n      <td>0</td>\n    </tr>\n    <tr>\n      <th>49998</th>\n      <td>going disagree previous comment side maltin o...</td>\n      <td>0</td>\n    </tr>\n    <tr>\n      <th>49999</th>\n      <td>one expects star trek movies high art fans ex...</td>\n      <td>0</td>\n    </tr>\n  </tbody>\n</table>\n<p>50000 rows × 2 columns</p>\n</div>"
     },
     "metadata": {},
     "execution_count": 10
    }
   ],
   "source": [
    "processed_medium = raw_medium[[\"text\",\"label\"]]\n",
    "processed_medium.dropna()"
   ]
  },
  {
   "cell_type": "code",
   "execution_count": 11,
   "metadata": {},
   "outputs": [],
   "source": [
    "processed_medium.to_csv(\"data/processed/processed_medium.csv\", index=False)"
   ]
  },
  {
   "source": [
    "# Long samples preproc"
   ],
   "cell_type": "markdown",
   "metadata": {}
  },
  {
   "cell_type": "code",
   "execution_count": 3,
   "metadata": {
    "tags": []
   },
   "outputs": [],
   "source": [
    "from pathlib import Path\n",
    "rows_list = []\n",
    "for i in range(1,512):\n",
    "    txt = Path(\"data/raw/bbc/sport/\"+str(i).zfill(3)+'.txt').read_text()\n",
    "    dict1 = {}\n",
    "    dict1.update({'text':preprocess(txt)})\n",
    "    dict1.update({'label': 1})\n",
    "    rows_list.append(dict1)\n",
    "\n",
    "for j in range(1,402):\n",
    "    txt = Path(\"data/raw/bbc/tech/\"+str(j).zfill(3)+'.txt').read_text()\n",
    "    dict2 = {}\n",
    "    dict2.update({'text':preprocess(txt)})\n",
    "    dict2.update({'label': 1})\n",
    "    rows_list.append(dict2)\n",
    "\n",
    "processed_long = pd.DataFrame(rows_list, columns=[\"text\", \"label\"])"
   ]
  },
  {
   "cell_type": "code",
   "execution_count": 5,
   "metadata": {},
   "outputs": [],
   "source": [
    "processed_long.to_csv(\"data/processed/processed_long.csv\", index=False)"
   ]
  }
 ]
}