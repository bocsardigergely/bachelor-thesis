{
 "metadata": {
  "language_info": {
   "codemirror_mode": {
    "name": "ipython",
    "version": 3
   },
   "file_extension": ".py",
   "mimetype": "text/x-python",
   "name": "python",
   "nbconvert_exporter": "python",
   "pygments_lexer": "ipython3",
   "version": "3.8.3"
  },
  "orig_nbformat": 2,
  "kernelspec": {
   "name": "python383jvsc74a57bd0b3ba2566441a7c06988d0923437866b63cedc61552a5af99d1f4fb67d367b25f",
   "display_name": "Python 3.8.3 64-bit (conda)"
  }
 },
 "nbformat": 4,
 "nbformat_minor": 2,
 "cells": [
  {
   "cell_type": "code",
   "execution_count": 1,
   "metadata": {},
   "outputs": [],
   "source": [
    "import pandas as pd\n",
    "from datetime import datetime\n",
    "import nltk\n",
    "import ast\n",
    "from nltk.tokenize import sent_tokenize, word_tokenize\n",
    "import re\n",
    "from nltk.corpus import stopwords"
   ]
  },
  {
   "cell_type": "code",
   "execution_count": 2,
   "metadata": {},
   "outputs": [],
   "source": [
    "def preprocess(text):\n",
    "    text = text.strip()\n",
    "    result = \"\"\n",
    "    punctless = re.sub('[^a-zA-Z]', ' ', text)\n",
    "    lowercase = punctless.lower()\n",
    "    words_list = lowercase.split()\n",
    "    words_list =  [word for word in words_list if not word in set(stopwords.words('english'))]\n",
    "    for word in words_list:\n",
    "        result += \" \" + word.strip()\n",
    "    return result"
   ]
  },
  {
   "source": [
    "# Short samples preproc"
   ],
   "cell_type": "markdown",
   "metadata": {}
  },
  {
   "cell_type": "code",
   "execution_count": 6,
   "metadata": {},
   "outputs": [],
   "source": [
    "raw_short = pd.read_csv(\"data/raw/spam-text-message.csv\")"
   ]
  },
  {
   "cell_type": "code",
   "execution_count": 7,
   "metadata": {},
   "outputs": [],
   "source": [
    "raw_short.insert( 2, \"text\", \"Empty\")\n",
    "raw_short.insert( 3, \"label\", \"Empty\")"
   ]
  },
  {
   "cell_type": "code",
   "execution_count": 8,
   "metadata": {},
   "outputs": [],
   "source": [
    "for ind in raw_short.index:\n",
    "    if raw_short[\"text\"][ind] == \"Empty\":\n",
    "        message = raw_short[\"Message\"][ind]\n",
    "        raw_short[\"text\"][ind] = preprocess(message)\n",
    "    \n",
    "    if raw_short[\"label\"][ind] == \"Empty\":\n",
    "        if raw_short[\"Category\"][ind] == \"ham\":\n",
    "            raw_short[\"label\"][ind] = 0\n",
    "        elif raw_short[\"Category\"][ind] == \"spam\":\n",
    "            raw_short[\"label\"][ind] = 1"
   ]
  },
  {
   "cell_type": "code",
   "execution_count": 9,
   "metadata": {},
   "outputs": [
    {
     "output_type": "execute_result",
     "data": {
      "text/plain": [
       "                                                   text label\n",
       "0      go jurong point crazy available bugis n great...     0\n",
       "1                               ok lar joking wif u oni     0\n",
       "2      free entry wkly comp win fa cup final tkts st...     1\n",
       "3                   u dun say early hor u c already say     0\n",
       "4                nah think goes usf lives around though     0\n",
       "...                                                 ...   ...\n",
       "5567   nd time tried contact u u pound prize claim e...     1\n",
       "5568                          b going esplanade fr home     0\n",
       "5569                              pity mood suggestions     0\n",
       "5570   guy bitching acted like interested buying som...     0\n",
       "5571                                     rofl true name     0\n",
       "\n",
       "[5572 rows x 2 columns]"
      ],
      "text/html": "<div>\n<style scoped>\n    .dataframe tbody tr th:only-of-type {\n        vertical-align: middle;\n    }\n\n    .dataframe tbody tr th {\n        vertical-align: top;\n    }\n\n    .dataframe thead th {\n        text-align: right;\n    }\n</style>\n<table border=\"1\" class=\"dataframe\">\n  <thead>\n    <tr style=\"text-align: right;\">\n      <th></th>\n      <th>text</th>\n      <th>label</th>\n    </tr>\n  </thead>\n  <tbody>\n    <tr>\n      <th>0</th>\n      <td>go jurong point crazy available bugis n great...</td>\n      <td>0</td>\n    </tr>\n    <tr>\n      <th>1</th>\n      <td>ok lar joking wif u oni</td>\n      <td>0</td>\n    </tr>\n    <tr>\n      <th>2</th>\n      <td>free entry wkly comp win fa cup final tkts st...</td>\n      <td>1</td>\n    </tr>\n    <tr>\n      <th>3</th>\n      <td>u dun say early hor u c already say</td>\n      <td>0</td>\n    </tr>\n    <tr>\n      <th>4</th>\n      <td>nah think goes usf lives around though</td>\n      <td>0</td>\n    </tr>\n    <tr>\n      <th>...</th>\n      <td>...</td>\n      <td>...</td>\n    </tr>\n    <tr>\n      <th>5567</th>\n      <td>nd time tried contact u u pound prize claim e...</td>\n      <td>1</td>\n    </tr>\n    <tr>\n      <th>5568</th>\n      <td>b going esplanade fr home</td>\n      <td>0</td>\n    </tr>\n    <tr>\n      <th>5569</th>\n      <td>pity mood suggestions</td>\n      <td>0</td>\n    </tr>\n    <tr>\n      <th>5570</th>\n      <td>guy bitching acted like interested buying som...</td>\n      <td>0</td>\n    </tr>\n    <tr>\n      <th>5571</th>\n      <td>rofl true name</td>\n      <td>0</td>\n    </tr>\n  </tbody>\n</table>\n<p>5572 rows × 2 columns</p>\n</div>"
     },
     "metadata": {},
     "execution_count": 9
    }
   ],
   "source": [
    "processed_short = raw_short[[\"text\",\"label\"]]\n",
    "processed_short.dropna()"
   ]
  },
  {
   "cell_type": "code",
   "execution_count": 3,
   "metadata": {},
   "outputs": [
    {
     "output_type": "execute_result",
     "data": {
      "text/plain": [
       "0"
      ]
     },
     "metadata": {},
     "execution_count": 3
    }
   ],
   "source": [
    "df = pd.read_csv(\"data/processed/processed_short.csv\")\n",
    "processed_short = df.dropna().reset_index(drop=True)\n",
    "processed_short['text'].isna().sum()"
   ]
  },
  {
   "cell_type": "code",
   "execution_count": 4,
   "metadata": {},
   "outputs": [],
   "source": [
    "processed_short.to_csv(\"data/processed/processed_short.csv\", index=False)"
   ]
  },
  {
   "source": [
    "# Medium samples preproc"
   ],
   "cell_type": "markdown",
   "metadata": {}
  },
  {
   "cell_type": "code",
   "execution_count": 3,
   "metadata": {},
   "outputs": [],
   "source": [
    "raw_medium = pd.read_csv(\"data/raw/IMDB Dataset.csv\")"
   ]
  },
  {
   "cell_type": "code",
   "execution_count": 4,
   "metadata": {},
   "outputs": [],
   "source": [
    "raw_medium.insert( 2, \"text\", \"Empty\")\n",
    "raw_medium.insert( 3, \"label\", \"Empty\")"
   ]
  },
  {
   "cell_type": "code",
   "execution_count": 14,
   "metadata": {},
   "outputs": [],
   "source": [
    "for ind in raw_medium.index:\n",
    "    if raw_medium[\"text\"][ind] == \"Empty\":\n",
    "        review = raw_medium[\"review\"][ind]\n",
    "        raw_medium[\"text\"][ind] = preprocess(review)\n",
    "    \n",
    "    if raw_medium[\"label\"][ind] == \"Empty\":\n",
    "        if raw_medium[\"sentiment\"][ind] == \"negative\":\n",
    "            raw_medium[\"label\"][ind] = 0\n",
    "        elif raw_medium[\"sentiment\"][ind] == \"positive\":\n",
    "            raw_medium[\"label\"][ind] = 1"
   ]
  },
  {
   "cell_type": "code",
   "execution_count": 15,
   "metadata": {},
   "outputs": [
    {
     "output_type": "execute_result",
     "data": {
      "text/plain": [
       "                                                    text label\n",
       "0       one reviewers mentioned watching oz episode h...     1\n",
       "1       wonderful little production br br filming tec...     1\n",
       "2       thought wonderful way spend time hot summer w...     1\n",
       "3       basically family little boy jake thinks zombi...     0\n",
       "4       petter mattei love time money visually stunni...     1\n",
       "...                                                  ...   ...\n",
       "49995   thought movie right good job creative origina...     1\n",
       "49996   bad plot bad dialogue bad acting idiotic dire...     0\n",
       "49997   catholic taught parochial elementary schools ...     0\n",
       "49998   going disagree previous comment side maltin o...     0\n",
       "49999   one expects star trek movies high art fans ex...     0\n",
       "\n",
       "[50000 rows x 2 columns]"
      ],
      "text/html": "<div>\n<style scoped>\n    .dataframe tbody tr th:only-of-type {\n        vertical-align: middle;\n    }\n\n    .dataframe tbody tr th {\n        vertical-align: top;\n    }\n\n    .dataframe thead th {\n        text-align: right;\n    }\n</style>\n<table border=\"1\" class=\"dataframe\">\n  <thead>\n    <tr style=\"text-align: right;\">\n      <th></th>\n      <th>text</th>\n      <th>label</th>\n    </tr>\n  </thead>\n  <tbody>\n    <tr>\n      <th>0</th>\n      <td>one reviewers mentioned watching oz episode h...</td>\n      <td>1</td>\n    </tr>\n    <tr>\n      <th>1</th>\n      <td>wonderful little production br br filming tec...</td>\n      <td>1</td>\n    </tr>\n    <tr>\n      <th>2</th>\n      <td>thought wonderful way spend time hot summer w...</td>\n      <td>1</td>\n    </tr>\n    <tr>\n      <th>3</th>\n      <td>basically family little boy jake thinks zombi...</td>\n      <td>0</td>\n    </tr>\n    <tr>\n      <th>4</th>\n      <td>petter mattei love time money visually stunni...</td>\n      <td>1</td>\n    </tr>\n    <tr>\n      <th>...</th>\n      <td>...</td>\n      <td>...</td>\n    </tr>\n    <tr>\n      <th>49995</th>\n      <td>thought movie right good job creative origina...</td>\n      <td>1</td>\n    </tr>\n    <tr>\n      <th>49996</th>\n      <td>bad plot bad dialogue bad acting idiotic dire...</td>\n      <td>0</td>\n    </tr>\n    <tr>\n      <th>49997</th>\n      <td>catholic taught parochial elementary schools ...</td>\n      <td>0</td>\n    </tr>\n    <tr>\n      <th>49998</th>\n      <td>going disagree previous comment side maltin o...</td>\n      <td>0</td>\n    </tr>\n    <tr>\n      <th>49999</th>\n      <td>one expects star trek movies high art fans ex...</td>\n      <td>0</td>\n    </tr>\n  </tbody>\n</table>\n<p>50000 rows × 2 columns</p>\n</div>"
     },
     "metadata": {},
     "execution_count": 15
    }
   ],
   "source": [
    "processed_medium = raw_medium[[\"text\",\"label\"]]\n",
    "processed_medium = processed_medium.dropna()\n",
    "processed_medium.to_csv(\"data/raw/full_proc_imdb.csv\", index=False)"
   ]
  },
  {
   "cell_type": "code",
   "execution_count": 8,
   "metadata": {},
   "outputs": [],
   "source": [
    "processed_medium = pd.read_csv(\"data/processed/processed_medium.csv\")"
   ]
  },
  {
   "cell_type": "code",
   "execution_count": 6,
   "metadata": {},
   "outputs": [
    {
     "output_type": "error",
     "ename": "NameError",
     "evalue": "name 'processed_medium' is not defined",
     "traceback": [
      "\u001b[1;31m---------------------------------------------------------------------------\u001b[0m",
      "\u001b[1;31mNameError\u001b[0m                                 Traceback (most recent call last)",
      "\u001b[1;32m<ipython-input-6-7c50a01822fe>\u001b[0m in \u001b[0;36m<module>\u001b[1;34m\u001b[0m\n\u001b[1;32m----> 1\u001b[1;33m \u001b[0mdf\u001b[0m \u001b[1;33m=\u001b[0m \u001b[0mprocessed_medium\u001b[0m\u001b[1;33m\u001b[0m\u001b[1;33m\u001b[0m\u001b[0m\n\u001b[0m",
      "\u001b[1;31mNameError\u001b[0m: name 'processed_medium' is not defined"
     ]
    }
   ],
   "source": [
    "df = processed_medium"
   ]
  },
  {
   "cell_type": "code",
   "execution_count": 17,
   "metadata": {},
   "outputs": [
    {
     "output_type": "execute_result",
     "data": {
      "text/plain": [
       "                                                   text label\n",
       "0      know film meager rating imdb film accompanied...     1\n",
       "1      long time seemed like good canadian actors he...     1\n",
       "2      terry gilliam david peoples teamed create one...     1\n",
       "3      say anti establishment film produced time col...     1\n",
       "4      movie made years end civil war likely anticip...     1\n",
       "...                                                 ...   ...\n",
       "4995   scientist girl friend driving speeding causes...     0\n",
       "4996   setup nature beast ingeniously simple fraught...     0\n",
       "4997   minor spoilers bad movie connoisseur must vie...     0\n",
       "4998   evan almighty steve carell morgan freeman lau...     0\n",
       "4999   disney witty live action george jungle high h...     0\n",
       "\n",
       "[5000 rows x 2 columns]"
      ],
      "text/html": "<div>\n<style scoped>\n    .dataframe tbody tr th:only-of-type {\n        vertical-align: middle;\n    }\n\n    .dataframe tbody tr th {\n        vertical-align: top;\n    }\n\n    .dataframe thead th {\n        text-align: right;\n    }\n</style>\n<table border=\"1\" class=\"dataframe\">\n  <thead>\n    <tr style=\"text-align: right;\">\n      <th></th>\n      <th>text</th>\n      <th>label</th>\n    </tr>\n  </thead>\n  <tbody>\n    <tr>\n      <th>0</th>\n      <td>know film meager rating imdb film accompanied...</td>\n      <td>1</td>\n    </tr>\n    <tr>\n      <th>1</th>\n      <td>long time seemed like good canadian actors he...</td>\n      <td>1</td>\n    </tr>\n    <tr>\n      <th>2</th>\n      <td>terry gilliam david peoples teamed create one...</td>\n      <td>1</td>\n    </tr>\n    <tr>\n      <th>3</th>\n      <td>say anti establishment film produced time col...</td>\n      <td>1</td>\n    </tr>\n    <tr>\n      <th>4</th>\n      <td>movie made years end civil war likely anticip...</td>\n      <td>1</td>\n    </tr>\n    <tr>\n      <th>...</th>\n      <td>...</td>\n      <td>...</td>\n    </tr>\n    <tr>\n      <th>4995</th>\n      <td>scientist girl friend driving speeding causes...</td>\n      <td>0</td>\n    </tr>\n    <tr>\n      <th>4996</th>\n      <td>setup nature beast ingeniously simple fraught...</td>\n      <td>0</td>\n    </tr>\n    <tr>\n      <th>4997</th>\n      <td>minor spoilers bad movie connoisseur must vie...</td>\n      <td>0</td>\n    </tr>\n    <tr>\n      <th>4998</th>\n      <td>evan almighty steve carell morgan freeman lau...</td>\n      <td>0</td>\n    </tr>\n    <tr>\n      <th>4999</th>\n      <td>disney witty live action george jungle high h...</td>\n      <td>0</td>\n    </tr>\n  </tbody>\n</table>\n<p>5000 rows × 2 columns</p>\n</div>"
     },
     "metadata": {},
     "execution_count": 17
    }
   ],
   "source": [
    "processed_medium_1 = df.loc[df[\"label\"]==1].sample(n=2500, random_state=42)\n",
    "processed_medium_0 = df.loc[df[\"label\"]==0].sample(n=2500, random_state=42)\n",
    "\n",
    "processed_medium = processed_medium_1.append(processed_medium_0, ignore_index=True).reset_index(drop=True)\n",
    "processed_medium\n"
   ]
  },
  {
   "cell_type": "code",
   "execution_count": 9,
   "metadata": {},
   "outputs": [
    {
     "output_type": "execute_result",
     "data": {
      "text/plain": [
       "0"
      ]
     },
     "metadata": {},
     "execution_count": 9
    }
   ],
   "source": [
    "processed_medium['text'].isna().sum()"
   ]
  },
  {
   "cell_type": "code",
   "execution_count": 18,
   "metadata": {},
   "outputs": [],
   "source": [
    "processed_medium.to_csv(\"data/processed/processed_medium.csv\", index=False)"
   ]
  },
  {
   "source": [
    "# DANK samples preproc"
   ],
   "cell_type": "markdown",
   "metadata": {}
  },
  {
   "cell_type": "code",
   "execution_count": 12,
   "metadata": {},
   "outputs": [
    {
     "output_type": "execute_result",
     "data": {
      "text/plain": [
       "0"
      ]
     },
     "metadata": {},
     "execution_count": 12
    }
   ],
   "source": [
    "df = pd.read_csv(\"data/processed/processed_dank.csv\")\n",
    "df['text'].isna().sum()"
   ]
  },
  {
   "source": [
    "# LEGACY - Long samples preproc"
   ],
   "cell_type": "markdown",
   "metadata": {}
  },
  {
   "source": [
    "## For BBC articles"
   ],
   "cell_type": "markdown",
   "metadata": {}
  },
  {
   "cell_type": "code",
   "execution_count": 8,
   "metadata": {
    "tags": []
   },
   "outputs": [],
   "source": [
    "from pathlib import Path\n",
    "rows_list = []\n",
    "#ranges: 512 for sport, 402 for tech, 418 for politics, 511 for business\n",
    "for i in range(1,418):\n",
    "    txt = Path(\"data/raw/bbc/politics/\"+str(i).zfill(3)+'.txt').read_text()\n",
    "    dict1 = {}\n",
    "    dict1.update({'text':preprocess(txt)})\n",
    "    dict1.update({'label': 1})\n",
    "    rows_list.append(dict1)\n",
    "\n",
    "for j in range(1,511):\n",
    "    txt = Path(\"data/raw/bbc/business/\"+str(j).zfill(3)+'.txt').read_text()\n",
    "    dict2 = {}\n",
    "    dict2.update({'text':preprocess(txt)})\n",
    "    dict2.update({'label':0})\n",
    "    rows_list.append(dict2)\n",
    "\n",
    "processed_long = pd.DataFrame(rows_list, columns=[\"text\", \"label\"])"
   ]
  },
  {
   "cell_type": "code",
   "execution_count": 9,
   "metadata": {},
   "outputs": [],
   "source": [
    "#df = pd.read_csv(\"data/processed/processed_long.csv\")\n",
    "processed_long=processed_long.dropna()"
   ]
  },
  {
   "cell_type": "code",
   "execution_count": 10,
   "metadata": {},
   "outputs": [],
   "source": [
    "processed_long.to_csv(\"data/processed/processed_long_pol_v_busi.csv\", index=False)"
   ]
  },
  {
   "source": [
    "## For 20News"
   ],
   "cell_type": "markdown",
   "metadata": {}
  },
  {
   "cell_type": "code",
   "execution_count": 58,
   "metadata": {},
   "outputs": [],
   "source": [
    "raw_20news = pd.read_csv(\"data/raw/20newsgroup_preprocessed.csv\", delimiter=\";\")\n",
    "raw_20news = raw_20news.drop(columns=\"text\")"
   ]
  },
  {
   "cell_type": "code",
   "execution_count": 59,
   "metadata": {},
   "outputs": [],
   "source": [
    "\n",
    "raw_20news = raw_20news.rename(columns={'text_cleaned': \"text\", \"target\": \"label\"}, inplace=False)"
   ]
  },
  {
   "cell_type": "code",
   "execution_count": 60,
   "metadata": {},
   "outputs": [],
   "source": [
    "raw_20news = raw_20news[['text', 'label']]"
   ]
  },
  {
   "cell_type": "code",
   "execution_count": 61,
   "metadata": {},
   "outputs": [],
   "source": [
    "raw_20news = raw_20news.dropna()"
   ]
  },
  {
   "cell_type": "code",
   "execution_count": 63,
   "metadata": {},
   "outputs": [
    {
     "output_type": "execute_result",
     "data": {
      "text/plain": [
       "                                                    text  label\n",
       "0      atheist resources addresses atheist organizati...      0\n",
       "1      begin pgp signed message introduction atheism ...      0\n",
       "2      article charley wingate writes well john quite...      0\n",
       "3      kings become philosophers philosophers become ...      0\n",
       "4      article bob mcgwier writes however hate econom...      0\n",
       "...                                                  ...    ...\n",
       "18823  paul boxrud writes wasnt sure right newsgroup ...     19\n",
       "18824  article joakim ruud writes article mark wilson...     19\n",
       "18825  article bill jefferys writes would like unders...     19\n",
       "18826  article gerry palo danger anticult groups expo...     19\n",
       "18827  article bill conner writes keith ryan wrote ma...     19\n",
       "\n",
       "[18792 rows x 2 columns]"
      ],
      "text/html": "<div>\n<style scoped>\n    .dataframe tbody tr th:only-of-type {\n        vertical-align: middle;\n    }\n\n    .dataframe tbody tr th {\n        vertical-align: top;\n    }\n\n    .dataframe thead th {\n        text-align: right;\n    }\n</style>\n<table border=\"1\" class=\"dataframe\">\n  <thead>\n    <tr style=\"text-align: right;\">\n      <th></th>\n      <th>text</th>\n      <th>label</th>\n    </tr>\n  </thead>\n  <tbody>\n    <tr>\n      <th>0</th>\n      <td>atheist resources addresses atheist organizati...</td>\n      <td>0</td>\n    </tr>\n    <tr>\n      <th>1</th>\n      <td>begin pgp signed message introduction atheism ...</td>\n      <td>0</td>\n    </tr>\n    <tr>\n      <th>2</th>\n      <td>article charley wingate writes well john quite...</td>\n      <td>0</td>\n    </tr>\n    <tr>\n      <th>3</th>\n      <td>kings become philosophers philosophers become ...</td>\n      <td>0</td>\n    </tr>\n    <tr>\n      <th>4</th>\n      <td>article bob mcgwier writes however hate econom...</td>\n      <td>0</td>\n    </tr>\n    <tr>\n      <th>...</th>\n      <td>...</td>\n      <td>...</td>\n    </tr>\n    <tr>\n      <th>18823</th>\n      <td>paul boxrud writes wasnt sure right newsgroup ...</td>\n      <td>19</td>\n    </tr>\n    <tr>\n      <th>18824</th>\n      <td>article joakim ruud writes article mark wilson...</td>\n      <td>19</td>\n    </tr>\n    <tr>\n      <th>18825</th>\n      <td>article bill jefferys writes would like unders...</td>\n      <td>19</td>\n    </tr>\n    <tr>\n      <th>18826</th>\n      <td>article gerry palo danger anticult groups expo...</td>\n      <td>19</td>\n    </tr>\n    <tr>\n      <th>18827</th>\n      <td>article bill conner writes keith ryan wrote ma...</td>\n      <td>19</td>\n    </tr>\n  </tbody>\n</table>\n<p>18792 rows × 2 columns</p>\n</div>"
     },
     "metadata": {},
     "execution_count": 63
    }
   ],
   "source": [
    "processed_long['label'] = raw_20news['label'].apply(labels.index)\n",
    "processed_long"
   ]
  },
  {
   "cell_type": "code",
   "execution_count": 64,
   "metadata": {},
   "outputs": [],
   "source": [
    "processed_long.to_csv(\"data/processed/processed_long.csv\", index=False)"
   ]
  },
  {
   "cell_type": "code",
   "execution_count": 62,
   "metadata": {},
   "outputs": [
    {
     "output_type": "stream",
     "name": "stdout",
     "text": [
      "{'alt.atheism': 0, 'comp.graphics': 1, 'comp.os.ms-windows.misc': 2, 'comp.sys.ibm.pc.hardware': 3, 'comp.sys.mac.hardware': 4, 'comp.windows.x': 5, 'misc.forsale': 6, 'rec.autos': 7, 'rec.motorcycles': 8, 'rec.sport.baseball': 9, 'rec.sport.hockey': 10, 'sci.crypt': 11, 'sci.electronics': 12, 'sci.med': 13, 'sci.space': 14, 'soc.religion.christian': 15, 'talk.politics.guns': 16, 'talk.politics.mideast': 17, 'talk.politics.misc': 18, 'talk.religion.misc': 19}\n"
     ]
    }
   ],
   "source": [
    "labels = raw_20news[\"label\"].unique().tolist()\n",
    "cheatcode = {}\n",
    "for i in labels:\n",
    "    cheatcode.update({i :labels.index(i)})\n",
    "print(cheatcode)\n"
   ]
  },
  {
   "cell_type": "code",
   "execution_count": 69,
   "metadata": {},
   "outputs": [],
   "source": [
    "from sklearn.feature_extraction.text import TfidfVectorizer, CountVectorizer\n",
    "from sklearn.metrics import average_precision_score, f1_score, roc_auc_score\n",
    "from sklearn.svm import LinearSVC\n",
    "from sklearn.model_selection import train_test_split\n",
    "\n",
    "def model_trial_sampler(df, i, j):\n",
    "    name =[x for x in globals() if globals()[x] is df][0]\n",
    "    #creating the desired vectors\n",
    "    text_vec = TfidfVectorizer().fit_transform(df[\"text\"])\n",
    "    y = df[\"label\"]\n",
    "    X_train, X_test, y_train, y_test = train_test_split(\n",
    "    text_vec, y, test_size=0.33, random_state=42)\n",
    "    #svm\n",
    "    svm = LinearSVC()\n",
    "    svm.fit(X_train, y_train)\n",
    "    y_pred = svm.predict(X_test)\n",
    "    trials.update({\"(\" + str(i) + ' , ' + str(j) + \")\": roc_auc_score(y_test,y_pred)})"
   ]
  },
  {
   "cell_type": "code",
   "execution_count": 70,
   "metadata": {
    "tags": [
     "outputPrepend"
    ]
   },
   "outputs": [
    {
     "output_type": "stream",
     "name": "stderr",
     "text": [
      "//pandas.pydata.org/pandas-docs/stable/user_guide/indexing.html#returning-a-view-versus-a-copy\n",
      "  sample['label'] = sample['label'].map({i: 1, j: 0}).astype(int)\n",
      "<ipython-input-70-05f15586e373>:7: SettingWithCopyWarning: \n",
      "A value is trying to be set on a copy of a slice from a DataFrame.\n",
      "Try using .loc[row_indexer,col_indexer] = value instead\n",
      "\n",
      "See the caveats in the documentation: https://pandas.pydata.org/pandas-docs/stable/user_guide/indexing.html#returning-a-view-versus-a-copy\n",
      "  sample['label'] = sample['label'].map({i: 1, j: 0}).astype(int)\n",
      "<ipython-input-70-05f15586e373>:7: SettingWithCopyWarning: \n",
      "A value is trying to be set on a copy of a slice from a DataFrame.\n",
      "Try using .loc[row_indexer,col_indexer] = value instead\n",
      "\n",
      "See the caveats in the documentation: https://pandas.pydata.org/pandas-docs/stable/user_guide/indexing.html#returning-a-view-versus-a-copy\n",
      "  sample['label'] = sample['label'].map({i: 1, j: 0}).astype(int)\n",
      "<ipython-input-70-05f15586e373>:7: SettingWithCopyWarning: \n",
      "A value is trying to be set on a copy of a slice from a DataFrame.\n",
      "Try using .loc[row_indexer,col_indexer] = value instead\n",
      "\n",
      "See the caveats in the documentation: https://pandas.pydata.org/pandas-docs/stable/user_guide/indexing.html#returning-a-view-versus-a-copy\n",
      "  sample['label'] = sample['label'].map({i: 1, j: 0}).astype(int)\n",
      "<ipython-input-70-05f15586e373>:7: SettingWithCopyWarning: \n",
      "A value is trying to be set on a copy of a slice from a DataFrame.\n",
      "Try using .loc[row_indexer,col_indexer] = value instead\n",
      "\n",
      "See the caveats in the documentation: https://pandas.pydata.org/pandas-docs/stable/user_guide/indexing.html#returning-a-view-versus-a-copy\n",
      "  sample['label'] = sample['label'].map({i: 1, j: 0}).astype(int)\n",
      "<ipython-input-70-05f15586e373>:7: SettingWithCopyWarning: \n",
      "A value is trying to be set on a copy of a slice from a DataFrame.\n",
      "Try using .loc[row_indexer,col_indexer] = value instead\n",
      "\n",
      "See the caveats in the documentation: https://pandas.pydata.org/pandas-docs/stable/user_guide/indexing.html#returning-a-view-versus-a-copy\n",
      "  sample['label'] = sample['label'].map({i: 1, j: 0}).astype(int)\n",
      "<ipython-input-70-05f15586e373>:7: SettingWithCopyWarning: \n",
      "A value is trying to be set on a copy of a slice from a DataFrame.\n",
      "Try using .loc[row_indexer,col_indexer] = value instead\n",
      "\n",
      "See the caveats in the documentation: https://pandas.pydata.org/pandas-docs/stable/user_guide/indexing.html#returning-a-view-versus-a-copy\n",
      "  sample['label'] = sample['label'].map({i: 1, j: 0}).astype(int)\n",
      "<ipython-input-70-05f15586e373>:7: SettingWithCopyWarning: \n",
      "A value is trying to be set on a copy of a slice from a DataFrame.\n",
      "Try using .loc[row_indexer,col_indexer] = value instead\n",
      "\n",
      "See the caveats in the documentation: https://pandas.pydata.org/pandas-docs/stable/user_guide/indexing.html#returning-a-view-versus-a-copy\n",
      "  sample['label'] = sample['label'].map({i: 1, j: 0}).astype(int)\n",
      "<ipython-input-70-05f15586e373>:7: SettingWithCopyWarning: \n",
      "A value is trying to be set on a copy of a slice from a DataFrame.\n",
      "Try using .loc[row_indexer,col_indexer] = value instead\n",
      "\n",
      "See the caveats in the documentation: https://pandas.pydata.org/pandas-docs/stable/user_guide/indexing.html#returning-a-view-versus-a-copy\n",
      "  sample['label'] = sample['label'].map({i: 1, j: 0}).astype(int)\n",
      "<ipython-input-70-05f15586e373>:7: SettingWithCopyWarning: \n",
      "A value is trying to be set on a copy of a slice from a DataFrame.\n",
      "Try using .loc[row_indexer,col_indexer] = value instead\n",
      "\n",
      "See the caveats in the documentation: https://pandas.pydata.org/pandas-docs/stable/user_guide/indexing.html#returning-a-view-versus-a-copy\n",
      "  sample['label'] = sample['label'].map({i: 1, j: 0}).astype(int)\n",
      "<ipython-input-70-05f15586e373>:7: SettingWithCopyWarning: \n",
      "A value is trying to be set on a copy of a slice from a DataFrame.\n",
      "Try using .loc[row_indexer,col_indexer] = value instead\n",
      "\n",
      "See the caveats in the documentation: https://pandas.pydata.org/pandas-docs/stable/user_guide/indexing.html#returning-a-view-versus-a-copy\n",
      "  sample['label'] = sample['label'].map({i: 1, j: 0}).astype(int)\n",
      "<ipython-input-70-05f15586e373>:7: SettingWithCopyWarning: \n",
      "A value is trying to be set on a copy of a slice from a DataFrame.\n",
      "Try using .loc[row_indexer,col_indexer] = value instead\n",
      "\n",
      "See the caveats in the documentation: https://pandas.pydata.org/pandas-docs/stable/user_guide/indexing.html#returning-a-view-versus-a-copy\n",
      "  sample['label'] = sample['label'].map({i: 1, j: 0}).astype(int)\n",
      "<ipython-input-70-05f15586e373>:7: SettingWithCopyWarning: \n",
      "A value is trying to be set on a copy of a slice from a DataFrame.\n",
      "Try using .loc[row_indexer,col_indexer] = value instead\n",
      "\n",
      "See the caveats in the documentation: https://pandas.pydata.org/pandas-docs/stable/user_guide/indexing.html#returning-a-view-versus-a-copy\n",
      "  sample['label'] = sample['label'].map({i: 1, j: 0}).astype(int)\n",
      "<ipython-input-70-05f15586e373>:7: SettingWithCopyWarning: \n",
      "A value is trying to be set on a copy of a slice from a DataFrame.\n",
      "Try using .loc[row_indexer,col_indexer] = value instead\n",
      "\n",
      "See the caveats in the documentation: https://pandas.pydata.org/pandas-docs/stable/user_guide/indexing.html#returning-a-view-versus-a-copy\n",
      "  sample['label'] = sample['label'].map({i: 1, j: 0}).astype(int)\n",
      "<ipython-input-70-05f15586e373>:7: SettingWithCopyWarning: \n",
      "A value is trying to be set on a copy of a slice from a DataFrame.\n",
      "Try using .loc[row_indexer,col_indexer] = value instead\n",
      "\n",
      "See the caveats in the documentation: https://pandas.pydata.org/pandas-docs/stable/user_guide/indexing.html#returning-a-view-versus-a-copy\n",
      "  sample['label'] = sample['label'].map({i: 1, j: 0}).astype(int)\n",
      "<ipython-input-70-05f15586e373>:7: SettingWithCopyWarning: \n",
      "A value is trying to be set on a copy of a slice from a DataFrame.\n",
      "Try using .loc[row_indexer,col_indexer] = value instead\n",
      "\n",
      "See the caveats in the documentation: https://pandas.pydata.org/pandas-docs/stable/user_guide/indexing.html#returning-a-view-versus-a-copy\n",
      "  sample['label'] = sample['label'].map({i: 1, j: 0}).astype(int)\n",
      "<ipython-input-70-05f15586e373>:7: SettingWithCopyWarning: \n",
      "A value is trying to be set on a copy of a slice from a DataFrame.\n",
      "Try using .loc[row_indexer,col_indexer] = value instead\n",
      "\n",
      "See the caveats in the documentation: https://pandas.pydata.org/pandas-docs/stable/user_guide/indexing.html#returning-a-view-versus-a-copy\n",
      "  sample['label'] = sample['label'].map({i: 1, j: 0}).astype(int)\n",
      "<ipython-input-70-05f15586e373>:7: SettingWithCopyWarning: \n",
      "A value is trying to be set on a copy of a slice from a DataFrame.\n",
      "Try using .loc[row_indexer,col_indexer] = value instead\n",
      "\n",
      "See the caveats in the documentation: https://pandas.pydata.org/pandas-docs/stable/user_guide/indexing.html#returning-a-view-versus-a-copy\n",
      "  sample['label'] = sample['label'].map({i: 1, j: 0}).astype(int)\n",
      "<ipython-input-70-05f15586e373>:7: SettingWithCopyWarning: \n",
      "A value is trying to be set on a copy of a slice from a DataFrame.\n",
      "Try using .loc[row_indexer,col_indexer] = value instead\n",
      "\n",
      "See the caveats in the documentation: https://pandas.pydata.org/pandas-docs/stable/user_guide/indexing.html#returning-a-view-versus-a-copy\n",
      "  sample['label'] = sample['label'].map({i: 1, j: 0}).astype(int)\n",
      "<ipython-input-70-05f15586e373>:7: SettingWithCopyWarning: \n",
      "A value is trying to be set on a copy of a slice from a DataFrame.\n",
      "Try using .loc[row_indexer,col_indexer] = value instead\n",
      "\n",
      "See the caveats in the documentation: https://pandas.pydata.org/pandas-docs/stable/user_guide/indexing.html#returning-a-view-versus-a-copy\n",
      "  sample['label'] = sample['label'].map({i: 1, j: 0}).astype(int)\n",
      "<ipython-input-70-05f15586e373>:7: SettingWithCopyWarning: \n",
      "A value is trying to be set on a copy of a slice from a DataFrame.\n",
      "Try using .loc[row_indexer,col_indexer] = value instead\n",
      "\n",
      "See the caveats in the documentation: https://pandas.pydata.org/pandas-docs/stable/user_guide/indexing.html#returning-a-view-versus-a-copy\n",
      "  sample['label'] = sample['label'].map({i: 1, j: 0}).astype(int)\n",
      "<ipython-input-70-05f15586e373>:7: SettingWithCopyWarning: \n",
      "A value is trying to be set on a copy of a slice from a DataFrame.\n",
      "Try using .loc[row_indexer,col_indexer] = value instead\n",
      "\n",
      "See the caveats in the documentation: https://pandas.pydata.org/pandas-docs/stable/user_guide/indexing.html#returning-a-view-versus-a-copy\n",
      "  sample['label'] = sample['label'].map({i: 1, j: 0}).astype(int)\n",
      "<ipython-input-70-05f15586e373>:7: SettingWithCopyWarning: \n",
      "A value is trying to be set on a copy of a slice from a DataFrame.\n",
      "Try using .loc[row_indexer,col_indexer] = value instead\n",
      "\n",
      "See the caveats in the documentation: https://pandas.pydata.org/pandas-docs/stable/user_guide/indexing.html#returning-a-view-versus-a-copy\n",
      "  sample['label'] = sample['label'].map({i: 1, j: 0}).astype(int)\n",
      "<ipython-input-70-05f15586e373>:7: SettingWithCopyWarning: \n",
      "A value is trying to be set on a copy of a slice from a DataFrame.\n",
      "Try using .loc[row_indexer,col_indexer] = value instead\n",
      "\n",
      "See the caveats in the documentation: https://pandas.pydata.org/pandas-docs/stable/user_guide/indexing.html#returning-a-view-versus-a-copy\n",
      "  sample['label'] = sample['label'].map({i: 1, j: 0}).astype(int)\n",
      "<ipython-input-70-05f15586e373>:7: SettingWithCopyWarning: \n",
      "A value is trying to be set on a copy of a slice from a DataFrame.\n",
      "Try using .loc[row_indexer,col_indexer] = value instead\n",
      "\n",
      "See the caveats in the documentation: https://pandas.pydata.org/pandas-docs/stable/user_guide/indexing.html#returning-a-view-versus-a-copy\n",
      "  sample['label'] = sample['label'].map({i: 1, j: 0}).astype(int)\n",
      "<ipython-input-70-05f15586e373>:7: SettingWithCopyWarning: \n",
      "A value is trying to be set on a copy of a slice from a DataFrame.\n",
      "Try using .loc[row_indexer,col_indexer] = value instead\n",
      "\n",
      "See the caveats in the documentation: https://pandas.pydata.org/pandas-docs/stable/user_guide/indexing.html#returning-a-view-versus-a-copy\n",
      "  sample['label'] = sample['label'].map({i: 1, j: 0}).astype(int)\n",
      "<ipython-input-70-05f15586e373>:7: SettingWithCopyWarning: \n",
      "A value is trying to be set on a copy of a slice from a DataFrame.\n",
      "Try using .loc[row_indexer,col_indexer] = value instead\n",
      "\n",
      "See the caveats in the documentation: https://pandas.pydata.org/pandas-docs/stable/user_guide/indexing.html#returning-a-view-versus-a-copy\n",
      "  sample['label'] = sample['label'].map({i: 1, j: 0}).astype(int)\n",
      "<ipython-input-70-05f15586e373>:7: SettingWithCopyWarning: \n",
      "A value is trying to be set on a copy of a slice from a DataFrame.\n",
      "Try using .loc[row_indexer,col_indexer] = value instead\n",
      "\n",
      "See the caveats in the documentation: https://pandas.pydata.org/pandas-docs/stable/user_guide/indexing.html#returning-a-view-versus-a-copy\n",
      "  sample['label'] = sample['label'].map({i: 1, j: 0}).astype(int)\n",
      "<ipython-input-70-05f15586e373>:7: SettingWithCopyWarning: \n",
      "A value is trying to be set on a copy of a slice from a DataFrame.\n",
      "Try using .loc[row_indexer,col_indexer] = value instead\n",
      "\n",
      "See the caveats in the documentation: https://pandas.pydata.org/pandas-docs/stable/user_guide/indexing.html#returning-a-view-versus-a-copy\n",
      "  sample['label'] = sample['label'].map({i: 1, j: 0}).astype(int)\n",
      "<ipython-input-70-05f15586e373>:7: SettingWithCopyWarning: \n",
      "A value is trying to be set on a copy of a slice from a DataFrame.\n",
      "Try using .loc[row_indexer,col_indexer] = value instead\n",
      "\n",
      "See the caveats in the documentation: https://pandas.pydata.org/pandas-docs/stable/user_guide/indexing.html#returning-a-view-versus-a-copy\n",
      "  sample['label'] = sample['label'].map({i: 1, j: 0}).astype(int)\n",
      "<ipython-input-70-05f15586e373>:7: SettingWithCopyWarning: \n",
      "A value is trying to be set on a copy of a slice from a DataFrame.\n",
      "Try using .loc[row_indexer,col_indexer] = value instead\n",
      "\n",
      "See the caveats in the documentation: https://pandas.pydata.org/pandas-docs/stable/user_guide/indexing.html#returning-a-view-versus-a-copy\n",
      "  sample['label'] = sample['label'].map({i: 1, j: 0}).astype(int)\n",
      "<ipython-input-70-05f15586e373>:7: SettingWithCopyWarning: \n",
      "A value is trying to be set on a copy of a slice from a DataFrame.\n",
      "Try using .loc[row_indexer,col_indexer] = value instead\n",
      "\n",
      "See the caveats in the documentation: https://pandas.pydata.org/pandas-docs/stable/user_guide/indexing.html#returning-a-view-versus-a-copy\n",
      "  sample['label'] = sample['label'].map({i: 1, j: 0}).astype(int)\n",
      "<ipython-input-70-05f15586e373>:7: SettingWithCopyWarning: \n",
      "A value is trying to be set on a copy of a slice from a DataFrame.\n",
      "Try using .loc[row_indexer,col_indexer] = value instead\n",
      "\n",
      "See the caveats in the documentation: https://pandas.pydata.org/pandas-docs/stable/user_guide/indexing.html#returning-a-view-versus-a-copy\n",
      "  sample['label'] = sample['label'].map({i: 1, j: 0}).astype(int)\n",
      "<ipython-input-70-05f15586e373>:7: SettingWithCopyWarning: \n",
      "A value is trying to be set on a copy of a slice from a DataFrame.\n",
      "Try using .loc[row_indexer,col_indexer] = value instead\n",
      "\n",
      "See the caveats in the documentation: https://pandas.pydata.org/pandas-docs/stable/user_guide/indexing.html#returning-a-view-versus-a-copy\n",
      "  sample['label'] = sample['label'].map({i: 1, j: 0}).astype(int)\n",
      "<ipython-input-70-05f15586e373>:7: SettingWithCopyWarning: \n",
      "A value is trying to be set on a copy of a slice from a DataFrame.\n",
      "Try using .loc[row_indexer,col_indexer] = value instead\n",
      "\n",
      "See the caveats in the documentation: https://pandas.pydata.org/pandas-docs/stable/user_guide/indexing.html#returning-a-view-versus-a-copy\n",
      "  sample['label'] = sample['label'].map({i: 1, j: 0}).astype(int)\n",
      "<ipython-input-70-05f15586e373>:7: SettingWithCopyWarning: \n",
      "A value is trying to be set on a copy of a slice from a DataFrame.\n",
      "Try using .loc[row_indexer,col_indexer] = value instead\n",
      "\n",
      "See the caveats in the documentation: https://pandas.pydata.org/pandas-docs/stable/user_guide/indexing.html#returning-a-view-versus-a-copy\n",
      "  sample['label'] = sample['label'].map({i: 1, j: 0}).astype(int)\n",
      "<ipython-input-70-05f15586e373>:7: SettingWithCopyWarning: \n",
      "A value is trying to be set on a copy of a slice from a DataFrame.\n",
      "Try using .loc[row_indexer,col_indexer] = value instead\n",
      "\n",
      "See the caveats in the documentation: https://pandas.pydata.org/pandas-docs/stable/user_guide/indexing.html#returning-a-view-versus-a-copy\n",
      "  sample['label'] = sample['label'].map({i: 1, j: 0}).astype(int)\n",
      "<ipython-input-70-05f15586e373>:7: SettingWithCopyWarning: \n",
      "A value is trying to be set on a copy of a slice from a DataFrame.\n",
      "Try using .loc[row_indexer,col_indexer] = value instead\n",
      "\n",
      "See the caveats in the documentation: https://pandas.pydata.org/pandas-docs/stable/user_guide/indexing.html#returning-a-view-versus-a-copy\n",
      "  sample['label'] = sample['label'].map({i: 1, j: 0}).astype(int)\n",
      "<ipython-input-70-05f15586e373>:7: SettingWithCopyWarning: \n",
      "A value is trying to be set on a copy of a slice from a DataFrame.\n",
      "Try using .loc[row_indexer,col_indexer] = value instead\n",
      "\n",
      "See the caveats in the documentation: https://pandas.pydata.org/pandas-docs/stable/user_guide/indexing.html#returning-a-view-versus-a-copy\n",
      "  sample['label'] = sample['label'].map({i: 1, j: 0}).astype(int)\n",
      "<ipython-input-70-05f15586e373>:7: SettingWithCopyWarning: \n",
      "A value is trying to be set on a copy of a slice from a DataFrame.\n",
      "Try using .loc[row_indexer,col_indexer] = value instead\n",
      "\n",
      "See the caveats in the documentation: https://pandas.pydata.org/pandas-docs/stable/user_guide/indexing.html#returning-a-view-versus-a-copy\n",
      "  sample['label'] = sample['label'].map({i: 1, j: 0}).astype(int)\n",
      "<ipython-input-70-05f15586e373>:7: SettingWithCopyWarning: \n",
      "A value is trying to be set on a copy of a slice from a DataFrame.\n",
      "Try using .loc[row_indexer,col_indexer] = value instead\n",
      "\n",
      "See the caveats in the documentation: https://pandas.pydata.org/pandas-docs/stable/user_guide/indexing.html#returning-a-view-versus-a-copy\n",
      "  sample['label'] = sample['label'].map({i: 1, j: 0}).astype(int)\n",
      "<ipython-input-70-05f15586e373>:7: SettingWithCopyWarning: \n",
      "A value is trying to be set on a copy of a slice from a DataFrame.\n",
      "Try using .loc[row_indexer,col_indexer] = value instead\n",
      "\n",
      "See the caveats in the documentation: https://pandas.pydata.org/pandas-docs/stable/user_guide/indexing.html#returning-a-view-versus-a-copy\n",
      "  sample['label'] = sample['label'].map({i: 1, j: 0}).astype(int)\n",
      "<ipython-input-70-05f15586e373>:7: SettingWithCopyWarning: \n",
      "A value is trying to be set on a copy of a slice from a DataFrame.\n",
      "Try using .loc[row_indexer,col_indexer] = value instead\n",
      "\n",
      "See the caveats in the documentation: https://pandas.pydata.org/pandas-docs/stable/user_guide/indexing.html#returning-a-view-versus-a-copy\n",
      "  sample['label'] = sample['label'].map({i: 1, j: 0}).astype(int)\n",
      "<ipython-input-70-05f15586e373>:7: SettingWithCopyWarning: \n",
      "A value is trying to be set on a copy of a slice from a DataFrame.\n",
      "Try using .loc[row_indexer,col_indexer] = value instead\n",
      "\n",
      "See the caveats in the documentation: https://pandas.pydata.org/pandas-docs/stable/user_guide/indexing.html#returning-a-view-versus-a-copy\n",
      "  sample['label'] = sample['label'].map({i: 1, j: 0}).astype(int)\n",
      "<ipython-input-70-05f15586e373>:7: SettingWithCopyWarning: \n",
      "A value is trying to be set on a copy of a slice from a DataFrame.\n",
      "Try using .loc[row_indexer,col_indexer] = value instead\n",
      "\n",
      "See the caveats in the documentation: https://pandas.pydata.org/pandas-docs/stable/user_guide/indexing.html#returning-a-view-versus-a-copy\n",
      "  sample['label'] = sample['label'].map({i: 1, j: 0}).astype(int)\n",
      "<ipython-input-70-05f15586e373>:7: SettingWithCopyWarning: \n",
      "A value is trying to be set on a copy of a slice from a DataFrame.\n",
      "Try using .loc[row_indexer,col_indexer] = value instead\n",
      "\n",
      "See the caveats in the documentation: https://pandas.pydata.org/pandas-docs/stable/user_guide/indexing.html#returning-a-view-versus-a-copy\n",
      "  sample['label'] = sample['label'].map({i: 1, j: 0}).astype(int)\n",
      "<ipython-input-70-05f15586e373>:7: SettingWithCopyWarning: \n",
      "A value is trying to be set on a copy of a slice from a DataFrame.\n",
      "Try using .loc[row_indexer,col_indexer] = value instead\n",
      "\n",
      "See the caveats in the documentation: https://pandas.pydata.org/pandas-docs/stable/user_guide/indexing.html#returning-a-view-versus-a-copy\n",
      "  sample['label'] = sample['label'].map({i: 1, j: 0}).astype(int)\n",
      "<ipython-input-70-05f15586e373>:7: SettingWithCopyWarning: \n",
      "A value is trying to be set on a copy of a slice from a DataFrame.\n",
      "Try using .loc[row_indexer,col_indexer] = value instead\n",
      "\n",
      "See the caveats in the documentation: https://pandas.pydata.org/pandas-docs/stable/user_guide/indexing.html#returning-a-view-versus-a-copy\n",
      "  sample['label'] = sample['label'].map({i: 1, j: 0}).astype(int)\n",
      "<ipython-input-70-05f15586e373>:7: SettingWithCopyWarning: \n",
      "A value is trying to be set on a copy of a slice from a DataFrame.\n",
      "Try using .loc[row_indexer,col_indexer] = value instead\n",
      "\n",
      "See the caveats in the documentation: https://pandas.pydata.org/pandas-docs/stable/user_guide/indexing.html#returning-a-view-versus-a-copy\n",
      "  sample['label'] = sample['label'].map({i: 1, j: 0}).astype(int)\n",
      "<ipython-input-70-05f15586e373>:7: SettingWithCopyWarning: \n",
      "A value is trying to be set on a copy of a slice from a DataFrame.\n",
      "Try using .loc[row_indexer,col_indexer] = value instead\n",
      "\n",
      "See the caveats in the documentation: https://pandas.pydata.org/pandas-docs/stable/user_guide/indexing.html#returning-a-view-versus-a-copy\n",
      "  sample['label'] = sample['label'].map({i: 1, j: 0}).astype(int)\n",
      "<ipython-input-70-05f15586e373>:7: SettingWithCopyWarning: \n",
      "A value is trying to be set on a copy of a slice from a DataFrame.\n",
      "Try using .loc[row_indexer,col_indexer] = value instead\n",
      "\n",
      "See the caveats in the documentation: https://pandas.pydata.org/pandas-docs/stable/user_guide/indexing.html#returning-a-view-versus-a-copy\n",
      "  sample['label'] = sample['label'].map({i: 1, j: 0}).astype(int)\n",
      "<ipython-input-70-05f15586e373>:7: SettingWithCopyWarning: \n",
      "A value is trying to be set on a copy of a slice from a DataFrame.\n",
      "Try using .loc[row_indexer,col_indexer] = value instead\n",
      "\n",
      "See the caveats in the documentation: https://pandas.pydata.org/pandas-docs/stable/user_guide/indexing.html#returning-a-view-versus-a-copy\n",
      "  sample['label'] = sample['label'].map({i: 1, j: 0}).astype(int)\n"
     ]
    }
   ],
   "source": [
    "df_long = pd.read_csv(\"data/processed/processed_long.csv\")\n",
    "trials = {}\n",
    "for i in range(20):\n",
    "    for j in range(20):\n",
    "        if i != j:\n",
    "            sample = df_long.loc[df_long['label'].isin([i, j])]\n",
    "            sample['label'] = sample['label'].map({i: 1, j: 0}).astype(int)\n",
    "            sample = sample.reset_index(drop=True)\n",
    "            model_trial_sampler(sample, i, j)"
   ]
  },
  {
   "cell_type": "code",
   "execution_count": 71,
   "metadata": {},
   "outputs": [
    {
     "output_type": "execute_result",
     "data": {
      "text/plain": [
       "'(3 , 2)'"
      ]
     },
     "metadata": {},
     "execution_count": 71
    }
   ],
   "source": [
    "min(trials, key=trials.get) "
   ]
  },
  {
   "cell_type": "code",
   "execution_count": null,
   "metadata": {},
   "outputs": [],
   "source": []
  }
 ]
}